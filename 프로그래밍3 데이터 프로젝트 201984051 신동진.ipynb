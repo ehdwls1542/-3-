{
 "cells": [
  {
   "cell_type": "markdown",
   "metadata": {},
   "source": [
    "프로그래밍3"
   ]
  },
  {
   "cell_type": "markdown",
   "metadata": {},
   "source": [
    "201984051 신동진"
   ]
  },
  {
   "cell_type": "markdown",
   "metadata": {},
   "source": [
    "*  각 대륙마다 평균 출산율을 보고싶어 전세계 출산율 데이터를 수렴하였습니다.\n",
    "현재 우리나라의 출산율이 심각한 수준으로 다가왔고 점점 고령화되는 시대에 노인의 비율이 높아지고 있습니다. 여기서 과연 대한민국 외에 다른 나라도 우리처럼 출산율이 적은지 또 이 데이터를 봤을 때 우리나라처럼 출산을 지향하고 있을지 궁금해서 데이터를 탐색하고 시각화하여 한눈에 보기 쉽게 전세계의 출산율을 알아보고자 합니다."
   ]
  },
  {
   "cell_type": "markdown",
   "metadata": {},
   "source": [
    "데이터는 KOSIS에서 출산율 데이터를 가져왔습니다."
   ]
  },
  {
   "cell_type": "code",
   "execution_count": null,
   "metadata": {},
   "outputs": [],
   "source": []
  },
  {
   "cell_type": "code",
   "execution_count": null,
   "metadata": {},
   "outputs": [],
   "source": [
    "pandas를 불러오고 나중에 사용할 seaborn을 세팅해놉니다."
   ]
  },
  {
   "cell_type": "code",
   "execution_count": 17,
   "metadata": {},
   "outputs": [],
   "source": [
    "import pandas as pd\n",
    "import numpy as np\n",
    "import matplotlib.pylab as plt\n",
    "import seaborn as sns"
   ]
  },
  {
   "cell_type": "markdown",
   "metadata": {},
   "source": [
    "pd.read_csv를 통해 출산율 데이터를 불러옵니다"
   ]
  },
  {
   "cell_type": "code",
   "execution_count": 18,
   "metadata": {
    "scrolled": false
   },
   "outputs": [
    {
     "data": {
      "text/html": [
       "<div>\n",
       "<style scoped>\n",
       "    .dataframe tbody tr th:only-of-type {\n",
       "        vertical-align: middle;\n",
       "    }\n",
       "\n",
       "    .dataframe tbody tr th {\n",
       "        vertical-align: top;\n",
       "    }\n",
       "\n",
       "    .dataframe thead th {\n",
       "        text-align: right;\n",
       "    }\n",
       "</style>\n",
       "<table border=\"1\" class=\"dataframe\">\n",
       "  <thead>\n",
       "    <tr style=\"text-align: right;\">\n",
       "      <th></th>\n",
       "      <th>continent</th>\n",
       "      <th>country</th>\n",
       "      <th>2014</th>\n",
       "      <th>2015</th>\n",
       "      <th>2016</th>\n",
       "      <th>2017</th>\n",
       "      <th>2018</th>\n",
       "    </tr>\n",
       "  </thead>\n",
       "  <tbody>\n",
       "    <tr>\n",
       "      <th>0</th>\n",
       "      <td>Asia</td>\n",
       "      <td>Korea</td>\n",
       "      <td>1.205</td>\n",
       "      <td>1.239</td>\n",
       "      <td>1.172</td>\n",
       "      <td>1.052</td>\n",
       "      <td>0.977</td>\n",
       "    </tr>\n",
       "    <tr>\n",
       "      <th>1</th>\n",
       "      <td>Asia</td>\n",
       "      <td>Azerbaijan</td>\n",
       "      <td>1.970</td>\n",
       "      <td>1.940</td>\n",
       "      <td>1.900</td>\n",
       "      <td>1.750</td>\n",
       "      <td>1.730</td>\n",
       "    </tr>\n",
       "    <tr>\n",
       "      <th>2</th>\n",
       "      <td>Asia</td>\n",
       "      <td>Bahrain</td>\n",
       "      <td>2.078</td>\n",
       "      <td>2.056</td>\n",
       "      <td>2.033</td>\n",
       "      <td>2.010</td>\n",
       "      <td>1.987</td>\n",
       "    </tr>\n",
       "    <tr>\n",
       "      <th>3</th>\n",
       "      <td>Asia</td>\n",
       "      <td>China</td>\n",
       "      <td>1.656</td>\n",
       "      <td>1.665</td>\n",
       "      <td>1.675</td>\n",
       "      <td>1.683</td>\n",
       "      <td>1.690</td>\n",
       "    </tr>\n",
       "    <tr>\n",
       "      <th>4</th>\n",
       "      <td>Asia</td>\n",
       "      <td>Cyprus</td>\n",
       "      <td>1.364</td>\n",
       "      <td>1.354</td>\n",
       "      <td>1.345</td>\n",
       "      <td>1.337</td>\n",
       "      <td>1.329</td>\n",
       "    </tr>\n",
       "    <tr>\n",
       "      <th>...</th>\n",
       "      <td>...</td>\n",
       "      <td>...</td>\n",
       "      <td>...</td>\n",
       "      <td>...</td>\n",
       "      <td>...</td>\n",
       "      <td>...</td>\n",
       "      <td>...</td>\n",
       "    </tr>\n",
       "    <tr>\n",
       "      <th>120</th>\n",
       "      <td>Africa</td>\n",
       "      <td>Zambia</td>\n",
       "      <td>5.026</td>\n",
       "      <td>4.918</td>\n",
       "      <td>4.814</td>\n",
       "      <td>4.718</td>\n",
       "      <td>4.633</td>\n",
       "    </tr>\n",
       "    <tr>\n",
       "      <th>121</th>\n",
       "      <td>Oceania</td>\n",
       "      <td>Australia</td>\n",
       "      <td>1.826</td>\n",
       "      <td>1.814</td>\n",
       "      <td>1.752</td>\n",
       "      <td>1.741</td>\n",
       "      <td>1.740</td>\n",
       "    </tr>\n",
       "    <tr>\n",
       "      <th>122</th>\n",
       "      <td>Oceania</td>\n",
       "      <td>sebum</td>\n",
       "      <td>2.795</td>\n",
       "      <td>2.800</td>\n",
       "      <td>2.797</td>\n",
       "      <td>2.788</td>\n",
       "      <td>2.774</td>\n",
       "    </tr>\n",
       "    <tr>\n",
       "      <th>123</th>\n",
       "      <td>Oceania</td>\n",
       "      <td>New Zealand</td>\n",
       "      <td>1.920</td>\n",
       "      <td>1.990</td>\n",
       "      <td>1.870</td>\n",
       "      <td>1.810</td>\n",
       "      <td>1.710</td>\n",
       "    </tr>\n",
       "    <tr>\n",
       "      <th>124</th>\n",
       "      <td>Oceania</td>\n",
       "      <td>Papua New Guinea</td>\n",
       "      <td>3.758</td>\n",
       "      <td>3.707</td>\n",
       "      <td>3.657</td>\n",
       "      <td>3.610</td>\n",
       "      <td>3.564</td>\n",
       "    </tr>\n",
       "  </tbody>\n",
       "</table>\n",
       "<p>125 rows × 7 columns</p>\n",
       "</div>"
      ],
      "text/plain": [
       "    continent           country   2014   2015   2016   2017   2018\n",
       "0        Asia             Korea  1.205  1.239  1.172  1.052  0.977\n",
       "1        Asia        Azerbaijan  1.970  1.940  1.900  1.750  1.730\n",
       "2        Asia           Bahrain  2.078  2.056  2.033  2.010  1.987\n",
       "3        Asia             China  1.656  1.665  1.675  1.683  1.690\n",
       "4        Asia            Cyprus  1.364  1.354  1.345  1.337  1.329\n",
       "..        ...               ...    ...    ...    ...    ...    ...\n",
       "120    Africa            Zambia  5.026  4.918  4.814  4.718  4.633\n",
       "121   Oceania         Australia  1.826  1.814  1.752  1.741  1.740\n",
       "122   Oceania             sebum  2.795  2.800  2.797  2.788  2.774\n",
       "123   Oceania       New Zealand  1.920  1.990  1.870  1.810  1.710\n",
       "124   Oceania  Papua New Guinea  3.758  3.707  3.657  3.610  3.564\n",
       "\n",
       "[125 rows x 7 columns]"
      ]
     },
     "execution_count": 18,
     "metadata": {},
     "output_type": "execute_result"
    }
   ],
   "source": [
    "birth = pd.read_csv('birth.csv',encoding='cp949')   \n",
    "birth"
   ]
  },
  {
   "cell_type": "raw",
   "metadata": {},
   "source": [
    "출생율 데이터에서 제일먼저 한국이 보입니다.\n",
    "역시나 한국은 매년마다 출산율이 줄어드는것을 확인할 수 있었습니다...\n",
    "2018년도 부터 평균 1명도 낳지 않다니... 큰일입니다."
   ]
  },
  {
   "cell_type": "markdown",
   "metadata": {},
   "source": [
    "이 데이터를 보고 2014,2015,2016,2017,2018 이 각 무엇을 뜻하는지 잘 알아볼 수 없어 이름을 변경했습니다."
   ]
  },
  {
   "cell_type": "code",
   "execution_count": 19,
   "metadata": {},
   "outputs": [],
   "source": [
    "birth.rename(columns={'2014':'2014(Birth rate)','2015':'2015(Birth rate)','2016':'2016(Birth rate)','2017':'2017(Birth rate)','2018':'2018(Birth rate)'},inplace=True)"
   ]
  },
  {
   "cell_type": "code",
   "execution_count": 12,
   "metadata": {},
   "outputs": [
    {
     "name": "stdout",
     "output_type": "stream",
     "text": [
      "<class 'pandas.core.frame.DataFrame'>\n",
      "RangeIndex: 125 entries, 0 to 124\n",
      "Data columns (total 7 columns):\n",
      " #   Column            Non-Null Count  Dtype  \n",
      "---  ------            --------------  -----  \n",
      " 0   continent         125 non-null    object \n",
      " 1   country           125 non-null    object \n",
      " 2   2014(Birth rate)  125 non-null    float64\n",
      " 3   2015(Birth rate)  125 non-null    float64\n",
      " 4   2016(Birth rate)  125 non-null    float64\n",
      " 5   2017(Birth rate)  125 non-null    float64\n",
      " 6   2018(Birth rate)  125 non-null    float64\n",
      "dtypes: float64(5), object(2)\n",
      "memory usage: 7.0+ KB\n"
     ]
    }
   ],
   "source": [
    "birth.info() "
   ]
  },
  {
   "cell_type": "markdown",
   "metadata": {},
   "source": [
    "제가 탐색 및 분석하고자하는 birth의 정보를 확인하였습니다.\n",
    "대륙과 국가는 글자타입이기에 오브젝트이고 2014~2018은 숫자 형식이기에 float64로 나왔습니다."
   ]
  },
  {
   "cell_type": "code",
   "execution_count": 20,
   "metadata": {},
   "outputs": [
    {
     "data": {
      "text/plain": [
       "Index(['continent', 'country', '2014(Birth rate)', '2015(Birth rate)',\n",
       "       '2016(Birth rate)', '2017(Birth rate)', '2018(Birth rate)'],\n",
       "      dtype='object')"
      ]
     },
     "execution_count": 20,
     "metadata": {},
     "output_type": "execute_result"
    }
   ],
   "source": [
    "birth.columns"
   ]
  },
  {
   "cell_type": "markdown",
   "metadata": {},
   "source": [
    "컬럼 수를 확인해보니 총 7개의 컬럼을 가지고 있습니다."
   ]
  },
  {
   "cell_type": "code",
   "execution_count": 21,
   "metadata": {},
   "outputs": [
    {
     "data": {
      "text/plain": [
       "(125, 7)"
      ]
     },
     "execution_count": 21,
     "metadata": {},
     "output_type": "execute_result"
    }
   ],
   "source": [
    "birth.shape"
   ]
  },
  {
   "cell_type": "markdown",
   "metadata": {},
   "source": [
    "shape으로도 확인할 수 있는데 birth데이터는 125개의 row 7개의 columns을 가지고 있습니다."
   ]
  },
  {
   "cell_type": "code",
   "execution_count": 22,
   "metadata": {},
   "outputs": [
    {
     "data": {
      "text/plain": [
       "875"
      ]
     },
     "execution_count": 22,
     "metadata": {},
     "output_type": "execute_result"
    }
   ],
   "source": [
    "birth.size"
   ]
  },
  {
   "cell_type": "markdown",
   "metadata": {},
   "source": [
    "size로 총 데이터 값을 보니 birth는 총 875개의 데이터를 가지고 있습니다."
   ]
  },
  {
   "cell_type": "code",
   "execution_count": 23,
   "metadata": {},
   "outputs": [
    {
     "data": {
      "text/plain": [
       "continent           0\n",
       "country             0\n",
       "2014(Birth rate)    0\n",
       "2015(Birth rate)    0\n",
       "2016(Birth rate)    0\n",
       "2017(Birth rate)    0\n",
       "2018(Birth rate)    0\n",
       "dtype: int64"
      ]
     },
     "execution_count": 23,
     "metadata": {},
     "output_type": "execute_result"
    }
   ],
   "source": [
    "birth.isnull().sum()"
   ]
  },
  {
   "cell_type": "markdown",
   "metadata": {},
   "source": [
    "birth 데이터의 결측치는 없습니다."
   ]
  },
  {
   "cell_type": "code",
   "execution_count": 10,
   "metadata": {},
   "outputs": [
    {
     "data": {
      "text/html": [
       "<div>\n",
       "<style scoped>\n",
       "    .dataframe tbody tr th:only-of-type {\n",
       "        vertical-align: middle;\n",
       "    }\n",
       "\n",
       "    .dataframe tbody tr th {\n",
       "        vertical-align: top;\n",
       "    }\n",
       "\n",
       "    .dataframe thead th {\n",
       "        text-align: right;\n",
       "    }\n",
       "</style>\n",
       "<table border=\"1\" class=\"dataframe\">\n",
       "  <thead>\n",
       "    <tr style=\"text-align: right;\">\n",
       "      <th></th>\n",
       "      <th>count</th>\n",
       "      <th>mean</th>\n",
       "      <th>std</th>\n",
       "      <th>min</th>\n",
       "      <th>25%</th>\n",
       "      <th>50%</th>\n",
       "      <th>75%</th>\n",
       "      <th>max</th>\n",
       "    </tr>\n",
       "  </thead>\n",
       "  <tbody>\n",
       "    <tr>\n",
       "      <th>2014(Birth rate)</th>\n",
       "      <td>125.0</td>\n",
       "      <td>2.419968</td>\n",
       "      <td>1.115656</td>\n",
       "      <td>1.205</td>\n",
       "      <td>1.630</td>\n",
       "      <td>2.001</td>\n",
       "      <td>2.894</td>\n",
       "      <td>5.864</td>\n",
       "    </tr>\n",
       "    <tr>\n",
       "      <th>2015(Birth rate)</th>\n",
       "      <td>125.0</td>\n",
       "      <td>2.400072</td>\n",
       "      <td>1.089740</td>\n",
       "      <td>1.196</td>\n",
       "      <td>1.650</td>\n",
       "      <td>2.014</td>\n",
       "      <td>2.805</td>\n",
       "      <td>5.774</td>\n",
       "    </tr>\n",
       "    <tr>\n",
       "      <th>2016(Birth rate)</th>\n",
       "      <td>125.0</td>\n",
       "      <td>2.378240</td>\n",
       "      <td>1.063559</td>\n",
       "      <td>1.172</td>\n",
       "      <td>1.656</td>\n",
       "      <td>2.009</td>\n",
       "      <td>2.797</td>\n",
       "      <td>5.686</td>\n",
       "    </tr>\n",
       "    <tr>\n",
       "      <th>2017(Birth rate)</th>\n",
       "      <td>125.0</td>\n",
       "      <td>2.343400</td>\n",
       "      <td>1.048218</td>\n",
       "      <td>1.052</td>\n",
       "      <td>1.620</td>\n",
       "      <td>1.999</td>\n",
       "      <td>2.777</td>\n",
       "      <td>5.600</td>\n",
       "    </tr>\n",
       "    <tr>\n",
       "      <th>2018(Birth rate)</th>\n",
       "      <td>125.0</td>\n",
       "      <td>2.318168</td>\n",
       "      <td>1.033355</td>\n",
       "      <td>0.977</td>\n",
       "      <td>1.600</td>\n",
       "      <td>1.987</td>\n",
       "      <td>2.761</td>\n",
       "      <td>5.519</td>\n",
       "    </tr>\n",
       "  </tbody>\n",
       "</table>\n",
       "</div>"
      ],
      "text/plain": [
       "                  count      mean       std    min    25%    50%    75%    max\n",
       "2014(Birth rate)  125.0  2.419968  1.115656  1.205  1.630  2.001  2.894  5.864\n",
       "2015(Birth rate)  125.0  2.400072  1.089740  1.196  1.650  2.014  2.805  5.774\n",
       "2016(Birth rate)  125.0  2.378240  1.063559  1.172  1.656  2.009  2.797  5.686\n",
       "2017(Birth rate)  125.0  2.343400  1.048218  1.052  1.620  1.999  2.777  5.600\n",
       "2018(Birth rate)  125.0  2.318168  1.033355  0.977  1.600  1.987  2.761  5.519"
      ]
     },
     "execution_count": 10,
     "metadata": {},
     "output_type": "execute_result"
    }
   ],
   "source": [
    "birth.describe().T"
   ]
  },
  {
   "cell_type": "markdown",
   "metadata": {},
   "source": [
    "describe().T 를 이용해 수치형 데이터의 기술 통계를 구해보니 우리나라 뿐만아니라 전세계적으로 매년 출산율이 줄어드는것을 확인했습니다.\n",
    "한국이 최소값들을 모두 차지하고 있습니다. 심각합니다. 최대 출산율과 어마어마한 차이가 있습니다."
   ]
  },
  {
   "cell_type": "code",
   "execution_count": 16,
   "metadata": {},
   "outputs": [
    {
     "data": {
      "text/plain": [
       "count    125.000000\n",
       "mean       2.318168\n",
       "std        1.033355\n",
       "min        0.977000\n",
       "25%        1.600000\n",
       "50%        1.987000\n",
       "75%        2.761000\n",
       "max        5.519000\n",
       "Name: 2018(Birth rate), dtype: float64"
      ]
     },
     "execution_count": 16,
     "metadata": {},
     "output_type": "execute_result"
    }
   ],
   "source": [
    "birth['2018(Birth rate)'].describe().T"
   ]
  },
  {
   "cell_type": "markdown",
   "metadata": {},
   "source": [
    "제가 주로 볼 2018년도만 깔끔하게 보기위해 2018년 값만 수치형 데이터로 뽑았습니다."
   ]
  },
  {
   "cell_type": "code",
   "execution_count": 11,
   "metadata": {},
   "outputs": [
    {
     "data": {
      "text/html": [
       "<div>\n",
       "<style scoped>\n",
       "    .dataframe tbody tr th:only-of-type {\n",
       "        vertical-align: middle;\n",
       "    }\n",
       "\n",
       "    .dataframe tbody tr th {\n",
       "        vertical-align: top;\n",
       "    }\n",
       "\n",
       "    .dataframe thead th {\n",
       "        text-align: right;\n",
       "    }\n",
       "</style>\n",
       "<table border=\"1\" class=\"dataframe\">\n",
       "  <thead>\n",
       "    <tr style=\"text-align: right;\">\n",
       "      <th></th>\n",
       "      <th>continent</th>\n",
       "      <th>2014(Birth rate)</th>\n",
       "      <th>2015(Birth rate)</th>\n",
       "      <th>2016(Birth rate)</th>\n",
       "      <th>2017(Birth rate)</th>\n",
       "      <th>2018(Birth rate)</th>\n",
       "    </tr>\n",
       "  </thead>\n",
       "  <tbody>\n",
       "    <tr>\n",
       "      <th>0</th>\n",
       "      <td>Asia</td>\n",
       "      <td>1.205</td>\n",
       "      <td>1.239</td>\n",
       "      <td>1.172</td>\n",
       "      <td>1.052</td>\n",
       "      <td>0.977</td>\n",
       "    </tr>\n",
       "    <tr>\n",
       "      <th>1</th>\n",
       "      <td>Asia</td>\n",
       "      <td>1.970</td>\n",
       "      <td>1.940</td>\n",
       "      <td>1.900</td>\n",
       "      <td>1.750</td>\n",
       "      <td>1.730</td>\n",
       "    </tr>\n",
       "    <tr>\n",
       "      <th>2</th>\n",
       "      <td>Asia</td>\n",
       "      <td>2.078</td>\n",
       "      <td>2.056</td>\n",
       "      <td>2.033</td>\n",
       "      <td>2.010</td>\n",
       "      <td>1.987</td>\n",
       "    </tr>\n",
       "    <tr>\n",
       "      <th>3</th>\n",
       "      <td>Asia</td>\n",
       "      <td>1.656</td>\n",
       "      <td>1.665</td>\n",
       "      <td>1.675</td>\n",
       "      <td>1.683</td>\n",
       "      <td>1.690</td>\n",
       "    </tr>\n",
       "    <tr>\n",
       "      <th>4</th>\n",
       "      <td>Asia</td>\n",
       "      <td>1.364</td>\n",
       "      <td>1.354</td>\n",
       "      <td>1.345</td>\n",
       "      <td>1.337</td>\n",
       "      <td>1.329</td>\n",
       "    </tr>\n",
       "    <tr>\n",
       "      <th>...</th>\n",
       "      <td>...</td>\n",
       "      <td>...</td>\n",
       "      <td>...</td>\n",
       "      <td>...</td>\n",
       "      <td>...</td>\n",
       "      <td>...</td>\n",
       "    </tr>\n",
       "    <tr>\n",
       "      <th>120</th>\n",
       "      <td>Africa</td>\n",
       "      <td>5.026</td>\n",
       "      <td>4.918</td>\n",
       "      <td>4.814</td>\n",
       "      <td>4.718</td>\n",
       "      <td>4.633</td>\n",
       "    </tr>\n",
       "    <tr>\n",
       "      <th>121</th>\n",
       "      <td>Oceania</td>\n",
       "      <td>1.826</td>\n",
       "      <td>1.814</td>\n",
       "      <td>1.752</td>\n",
       "      <td>1.741</td>\n",
       "      <td>1.740</td>\n",
       "    </tr>\n",
       "    <tr>\n",
       "      <th>122</th>\n",
       "      <td>Oceania</td>\n",
       "      <td>2.795</td>\n",
       "      <td>2.800</td>\n",
       "      <td>2.797</td>\n",
       "      <td>2.788</td>\n",
       "      <td>2.774</td>\n",
       "    </tr>\n",
       "    <tr>\n",
       "      <th>123</th>\n",
       "      <td>Oceania</td>\n",
       "      <td>1.920</td>\n",
       "      <td>1.990</td>\n",
       "      <td>1.870</td>\n",
       "      <td>1.810</td>\n",
       "      <td>1.710</td>\n",
       "    </tr>\n",
       "    <tr>\n",
       "      <th>124</th>\n",
       "      <td>Oceania</td>\n",
       "      <td>3.758</td>\n",
       "      <td>3.707</td>\n",
       "      <td>3.657</td>\n",
       "      <td>3.610</td>\n",
       "      <td>3.564</td>\n",
       "    </tr>\n",
       "  </tbody>\n",
       "</table>\n",
       "<p>125 rows × 6 columns</p>\n",
       "</div>"
      ],
      "text/plain": [
       "    continent  2014(Birth rate)  2015(Birth rate)  2016(Birth rate)  \\\n",
       "0        Asia             1.205             1.239             1.172   \n",
       "1        Asia             1.970             1.940             1.900   \n",
       "2        Asia             2.078             2.056             2.033   \n",
       "3        Asia             1.656             1.665             1.675   \n",
       "4        Asia             1.364             1.354             1.345   \n",
       "..        ...               ...               ...               ...   \n",
       "120    Africa             5.026             4.918             4.814   \n",
       "121   Oceania             1.826             1.814             1.752   \n",
       "122   Oceania             2.795             2.800             2.797   \n",
       "123   Oceania             1.920             1.990             1.870   \n",
       "124   Oceania             3.758             3.707             3.657   \n",
       "\n",
       "     2017(Birth rate)  2018(Birth rate)  \n",
       "0               1.052             0.977  \n",
       "1               1.750             1.730  \n",
       "2               2.010             1.987  \n",
       "3               1.683             1.690  \n",
       "4               1.337             1.329  \n",
       "..                ...               ...  \n",
       "120             4.718             4.633  \n",
       "121             1.741             1.740  \n",
       "122             2.788             2.774  \n",
       "123             1.810             1.710  \n",
       "124             3.610             3.564  \n",
       "\n",
       "[125 rows x 6 columns]"
      ]
     },
     "execution_count": 11,
     "metadata": {},
     "output_type": "execute_result"
    }
   ],
   "source": [
    "birth2=birth.iloc[:,[0,2,3,4,5,6]]    \n",
    "#저는 대륙(continent)별 각년도의 출생율을 위주로 볼거기에 country를 제외한 나머지 값을 가져왔습니다.\n",
    "birth2"
   ]
  },
  {
   "cell_type": "code",
   "execution_count": 12,
   "metadata": {},
   "outputs": [
    {
     "data": {
      "text/html": [
       "<div>\n",
       "<style scoped>\n",
       "    .dataframe tbody tr th:only-of-type {\n",
       "        vertical-align: middle;\n",
       "    }\n",
       "\n",
       "    .dataframe tbody tr th {\n",
       "        vertical-align: top;\n",
       "    }\n",
       "\n",
       "    .dataframe thead th {\n",
       "        text-align: right;\n",
       "    }\n",
       "</style>\n",
       "<table border=\"1\" class=\"dataframe\">\n",
       "  <thead>\n",
       "    <tr style=\"text-align: right;\">\n",
       "      <th></th>\n",
       "      <th>country</th>\n",
       "      <th>2014(Birth rate)</th>\n",
       "      <th>2015(Birth rate)</th>\n",
       "      <th>2016(Birth rate)</th>\n",
       "      <th>2017(Birth rate)</th>\n",
       "      <th>2018(Birth rate)</th>\n",
       "    </tr>\n",
       "    <tr>\n",
       "      <th>continent</th>\n",
       "      <th></th>\n",
       "      <th></th>\n",
       "      <th></th>\n",
       "      <th></th>\n",
       "      <th></th>\n",
       "      <th></th>\n",
       "    </tr>\n",
       "  </thead>\n",
       "  <tbody>\n",
       "    <tr>\n",
       "      <th>Asia</th>\n",
       "      <td>Korea</td>\n",
       "      <td>1.205</td>\n",
       "      <td>1.239</td>\n",
       "      <td>1.172</td>\n",
       "      <td>1.052</td>\n",
       "      <td>0.977</td>\n",
       "    </tr>\n",
       "    <tr>\n",
       "      <th>Asia</th>\n",
       "      <td>Azerbaijan</td>\n",
       "      <td>1.970</td>\n",
       "      <td>1.940</td>\n",
       "      <td>1.900</td>\n",
       "      <td>1.750</td>\n",
       "      <td>1.730</td>\n",
       "    </tr>\n",
       "    <tr>\n",
       "      <th>Asia</th>\n",
       "      <td>Bahrain</td>\n",
       "      <td>2.078</td>\n",
       "      <td>2.056</td>\n",
       "      <td>2.033</td>\n",
       "      <td>2.010</td>\n",
       "      <td>1.987</td>\n",
       "    </tr>\n",
       "    <tr>\n",
       "      <th>Asia</th>\n",
       "      <td>China</td>\n",
       "      <td>1.656</td>\n",
       "      <td>1.665</td>\n",
       "      <td>1.675</td>\n",
       "      <td>1.683</td>\n",
       "      <td>1.690</td>\n",
       "    </tr>\n",
       "    <tr>\n",
       "      <th>Asia</th>\n",
       "      <td>Cyprus</td>\n",
       "      <td>1.364</td>\n",
       "      <td>1.354</td>\n",
       "      <td>1.345</td>\n",
       "      <td>1.337</td>\n",
       "      <td>1.329</td>\n",
       "    </tr>\n",
       "    <tr>\n",
       "      <th>...</th>\n",
       "      <td>...</td>\n",
       "      <td>...</td>\n",
       "      <td>...</td>\n",
       "      <td>...</td>\n",
       "      <td>...</td>\n",
       "      <td>...</td>\n",
       "    </tr>\n",
       "    <tr>\n",
       "      <th>Africa</th>\n",
       "      <td>Zambia</td>\n",
       "      <td>5.026</td>\n",
       "      <td>4.918</td>\n",
       "      <td>4.814</td>\n",
       "      <td>4.718</td>\n",
       "      <td>4.633</td>\n",
       "    </tr>\n",
       "    <tr>\n",
       "      <th>Oceania</th>\n",
       "      <td>Australia</td>\n",
       "      <td>1.826</td>\n",
       "      <td>1.814</td>\n",
       "      <td>1.752</td>\n",
       "      <td>1.741</td>\n",
       "      <td>1.740</td>\n",
       "    </tr>\n",
       "    <tr>\n",
       "      <th>Oceania</th>\n",
       "      <td>sebum</td>\n",
       "      <td>2.795</td>\n",
       "      <td>2.800</td>\n",
       "      <td>2.797</td>\n",
       "      <td>2.788</td>\n",
       "      <td>2.774</td>\n",
       "    </tr>\n",
       "    <tr>\n",
       "      <th>Oceania</th>\n",
       "      <td>New Zealand</td>\n",
       "      <td>1.920</td>\n",
       "      <td>1.990</td>\n",
       "      <td>1.870</td>\n",
       "      <td>1.810</td>\n",
       "      <td>1.710</td>\n",
       "    </tr>\n",
       "    <tr>\n",
       "      <th>Oceania</th>\n",
       "      <td>Papua New Guinea</td>\n",
       "      <td>3.758</td>\n",
       "      <td>3.707</td>\n",
       "      <td>3.657</td>\n",
       "      <td>3.610</td>\n",
       "      <td>3.564</td>\n",
       "    </tr>\n",
       "  </tbody>\n",
       "</table>\n",
       "<p>125 rows × 6 columns</p>\n",
       "</div>"
      ],
      "text/plain": [
       "                    country  2014(Birth rate)  2015(Birth rate)  \\\n",
       "continent                                                         \n",
       "Asia                  Korea             1.205             1.239   \n",
       "Asia             Azerbaijan             1.970             1.940   \n",
       "Asia                Bahrain             2.078             2.056   \n",
       "Asia                  China             1.656             1.665   \n",
       "Asia                 Cyprus             1.364             1.354   \n",
       "...                     ...               ...               ...   \n",
       "Africa               Zambia             5.026             4.918   \n",
       "Oceania           Australia             1.826             1.814   \n",
       "Oceania               sebum             2.795             2.800   \n",
       "Oceania         New Zealand             1.920             1.990   \n",
       "Oceania    Papua New Guinea             3.758             3.707   \n",
       "\n",
       "           2016(Birth rate)  2017(Birth rate)  2018(Birth rate)  \n",
       "continent                                                        \n",
       "Asia                  1.172             1.052             0.977  \n",
       "Asia                  1.900             1.750             1.730  \n",
       "Asia                  2.033             2.010             1.987  \n",
       "Asia                  1.675             1.683             1.690  \n",
       "Asia                  1.345             1.337             1.329  \n",
       "...                     ...               ...               ...  \n",
       "Africa                4.814             4.718             4.633  \n",
       "Oceania               1.752             1.741             1.740  \n",
       "Oceania               2.797             2.788             2.774  \n",
       "Oceania               1.870             1.810             1.710  \n",
       "Oceania               3.657             3.610             3.564  \n",
       "\n",
       "[125 rows x 6 columns]"
      ]
     },
     "execution_count": 12,
     "metadata": {},
     "output_type": "execute_result"
    }
   ],
   "source": [
    "birth.set_index(['continent'])"
   ]
  },
  {
   "cell_type": "markdown",
   "metadata": {},
   "source": [
    "대륙별 기준"
   ]
  },
  {
   "cell_type": "markdown",
   "metadata": {},
   "source": [
    "이 출산율 데이터에서 각 년도별로 최소값을 가지고 있는 나라 순서대로 나열해봤습니다."
   ]
  },
  {
   "cell_type": "code",
   "execution_count": 14,
   "metadata": {},
   "outputs": [
    {
     "data": {
      "text/html": [
       "<div>\n",
       "<style scoped>\n",
       "    .dataframe tbody tr th:only-of-type {\n",
       "        vertical-align: middle;\n",
       "    }\n",
       "\n",
       "    .dataframe tbody tr th {\n",
       "        vertical-align: top;\n",
       "    }\n",
       "\n",
       "    .dataframe thead th {\n",
       "        text-align: right;\n",
       "    }\n",
       "</style>\n",
       "<table border=\"1\" class=\"dataframe\">\n",
       "  <thead>\n",
       "    <tr style=\"text-align: right;\">\n",
       "      <th></th>\n",
       "      <th>continent</th>\n",
       "      <th>country</th>\n",
       "      <th>2014(Birth rate)</th>\n",
       "      <th>2015(Birth rate)</th>\n",
       "      <th>2016(Birth rate)</th>\n",
       "      <th>2017(Birth rate)</th>\n",
       "      <th>2018(Birth rate)</th>\n",
       "    </tr>\n",
       "  </thead>\n",
       "  <tbody>\n",
       "    <tr>\n",
       "      <th>0</th>\n",
       "      <td>Asia</td>\n",
       "      <td>Korea</td>\n",
       "      <td>1.205</td>\n",
       "      <td>1.239</td>\n",
       "      <td>1.172</td>\n",
       "      <td>1.052</td>\n",
       "      <td>0.977</td>\n",
       "    </tr>\n",
       "    <tr>\n",
       "      <th>86</th>\n",
       "      <td>Europe</td>\n",
       "      <td>Portugal</td>\n",
       "      <td>1.230</td>\n",
       "      <td>1.310</td>\n",
       "      <td>1.360</td>\n",
       "      <td>1.380</td>\n",
       "      <td>1.420</td>\n",
       "    </tr>\n",
       "    <tr>\n",
       "      <th>6</th>\n",
       "      <td>Asia</td>\n",
       "      <td>Hong Kong</td>\n",
       "      <td>1.235</td>\n",
       "      <td>1.196</td>\n",
       "      <td>1.205</td>\n",
       "      <td>1.125</td>\n",
       "      <td>1.072</td>\n",
       "    </tr>\n",
       "    <tr>\n",
       "      <th>25</th>\n",
       "      <td>Asia</td>\n",
       "      <td>Singapore</td>\n",
       "      <td>1.250</td>\n",
       "      <td>1.240</td>\n",
       "      <td>1.200</td>\n",
       "      <td>1.160</td>\n",
       "      <td>1.140</td>\n",
       "    </tr>\n",
       "    <tr>\n",
       "      <th>82</th>\n",
       "      <td>Europe</td>\n",
       "      <td>Moldova</td>\n",
       "      <td>1.265</td>\n",
       "      <td>1.261</td>\n",
       "      <td>1.259</td>\n",
       "      <td>1.259</td>\n",
       "      <td>1.262</td>\n",
       "    </tr>\n",
       "    <tr>\n",
       "      <th>...</th>\n",
       "      <td>...</td>\n",
       "      <td>...</td>\n",
       "      <td>...</td>\n",
       "      <td>...</td>\n",
       "      <td>...</td>\n",
       "      <td>...</td>\n",
       "      <td>...</td>\n",
       "    </tr>\n",
       "    <tr>\n",
       "      <th>120</th>\n",
       "      <td>Africa</td>\n",
       "      <td>Zambia</td>\n",
       "      <td>5.026</td>\n",
       "      <td>4.918</td>\n",
       "      <td>4.814</td>\n",
       "      <td>4.718</td>\n",
       "      <td>4.633</td>\n",
       "    </tr>\n",
       "    <tr>\n",
       "      <th>100</th>\n",
       "      <td>Africa</td>\n",
       "      <td>Benin</td>\n",
       "      <td>5.116</td>\n",
       "      <td>5.047</td>\n",
       "      <td>4.977</td>\n",
       "      <td>4.906</td>\n",
       "      <td>4.836</td>\n",
       "    </tr>\n",
       "    <tr>\n",
       "      <th>117</th>\n",
       "      <td>Africa</td>\n",
       "      <td>Tanzania</td>\n",
       "      <td>5.146</td>\n",
       "      <td>5.079</td>\n",
       "      <td>5.015</td>\n",
       "      <td>4.953</td>\n",
       "      <td>4.892</td>\n",
       "    </tr>\n",
       "    <tr>\n",
       "      <th>113</th>\n",
       "      <td>Africa</td>\n",
       "      <td>Nigeria</td>\n",
       "      <td>5.653</td>\n",
       "      <td>5.592</td>\n",
       "      <td>5.526</td>\n",
       "      <td>5.457</td>\n",
       "      <td>5.387</td>\n",
       "    </tr>\n",
       "    <tr>\n",
       "      <th>99</th>\n",
       "      <td>Africa</td>\n",
       "      <td>Angola</td>\n",
       "      <td>5.864</td>\n",
       "      <td>5.774</td>\n",
       "      <td>5.686</td>\n",
       "      <td>5.600</td>\n",
       "      <td>5.519</td>\n",
       "    </tr>\n",
       "  </tbody>\n",
       "</table>\n",
       "<p>125 rows × 7 columns</p>\n",
       "</div>"
      ],
      "text/plain": [
       "    continent    country  2014(Birth rate)  2015(Birth rate)  \\\n",
       "0        Asia      Korea             1.205             1.239   \n",
       "86     Europe   Portugal             1.230             1.310   \n",
       "6        Asia  Hong Kong             1.235             1.196   \n",
       "25       Asia  Singapore             1.250             1.240   \n",
       "82     Europe    Moldova             1.265             1.261   \n",
       "..        ...        ...               ...               ...   \n",
       "120    Africa     Zambia             5.026             4.918   \n",
       "100    Africa      Benin             5.116             5.047   \n",
       "117    Africa   Tanzania             5.146             5.079   \n",
       "113    Africa    Nigeria             5.653             5.592   \n",
       "99     Africa     Angola             5.864             5.774   \n",
       "\n",
       "     2016(Birth rate)  2017(Birth rate)  2018(Birth rate)  \n",
       "0               1.172             1.052             0.977  \n",
       "86              1.360             1.380             1.420  \n",
       "6               1.205             1.125             1.072  \n",
       "25              1.200             1.160             1.140  \n",
       "82              1.259             1.259             1.262  \n",
       "..                ...               ...               ...  \n",
       "120             4.814             4.718             4.633  \n",
       "100             4.977             4.906             4.836  \n",
       "117             5.015             4.953             4.892  \n",
       "113             5.526             5.457             5.387  \n",
       "99              5.686             5.600             5.519  \n",
       "\n",
       "[125 rows x 7 columns]"
      ]
     },
     "execution_count": 14,
     "metadata": {},
     "output_type": "execute_result"
    }
   ],
   "source": [
    "birth.sort_values(by=['2014(Birth rate)','2015(Birth rate)','2016(Birth rate)','2017(Birth rate)','2018(Birth rate)'],ascending=True)"
   ]
  },
  {
   "cell_type": "markdown",
   "metadata": {},
   "source": [
    "한국을 포함한 아시아 대륙이 주로 낮은값을 가지고 있고 아프리카 대륙이 상위에 올라와있습니다."
   ]
  },
  {
   "cell_type": "markdown",
   "metadata": {},
   "source": [
    "저는 2018년도를 기준으로 다룰거기에 2018년도 기준으로도 확인해봤습니다."
   ]
  },
  {
   "cell_type": "code",
   "execution_count": 338,
   "metadata": {},
   "outputs": [
    {
     "data": {
      "text/html": [
       "<div>\n",
       "<style scoped>\n",
       "    .dataframe tbody tr th:only-of-type {\n",
       "        vertical-align: middle;\n",
       "    }\n",
       "\n",
       "    .dataframe tbody tr th {\n",
       "        vertical-align: top;\n",
       "    }\n",
       "\n",
       "    .dataframe thead th {\n",
       "        text-align: right;\n",
       "    }\n",
       "</style>\n",
       "<table border=\"1\" class=\"dataframe\">\n",
       "  <thead>\n",
       "    <tr style=\"text-align: right;\">\n",
       "      <th></th>\n",
       "      <th>continent</th>\n",
       "      <th>country</th>\n",
       "      <th>2014(Birth rate)</th>\n",
       "      <th>2015(Birth rate)</th>\n",
       "      <th>2016(Birth rate)</th>\n",
       "      <th>2017(Birth rate)</th>\n",
       "      <th>2018(Birth rate)</th>\n",
       "    </tr>\n",
       "  </thead>\n",
       "  <tbody>\n",
       "    <tr>\n",
       "      <th>0</th>\n",
       "      <td>Asia</td>\n",
       "      <td>Korea</td>\n",
       "      <td>1.205</td>\n",
       "      <td>1.239</td>\n",
       "      <td>1.172</td>\n",
       "      <td>1.052</td>\n",
       "      <td>0.977</td>\n",
       "    </tr>\n",
       "    <tr>\n",
       "      <th>6</th>\n",
       "      <td>Asia</td>\n",
       "      <td>Hong Kong</td>\n",
       "      <td>1.235</td>\n",
       "      <td>1.196</td>\n",
       "      <td>1.205</td>\n",
       "      <td>1.125</td>\n",
       "      <td>1.072</td>\n",
       "    </tr>\n",
       "    <tr>\n",
       "      <th>25</th>\n",
       "      <td>Asia</td>\n",
       "      <td>Singapore</td>\n",
       "      <td>1.250</td>\n",
       "      <td>1.240</td>\n",
       "      <td>1.200</td>\n",
       "      <td>1.160</td>\n",
       "      <td>1.140</td>\n",
       "    </tr>\n",
       "    <tr>\n",
       "      <th>81</th>\n",
       "      <td>Europe</td>\n",
       "      <td>Malta</td>\n",
       "      <td>1.380</td>\n",
       "      <td>1.370</td>\n",
       "      <td>1.370</td>\n",
       "      <td>1.260</td>\n",
       "      <td>1.230</td>\n",
       "    </tr>\n",
       "    <tr>\n",
       "      <th>91</th>\n",
       "      <td>Europe</td>\n",
       "      <td>Spain</td>\n",
       "      <td>1.320</td>\n",
       "      <td>1.330</td>\n",
       "      <td>1.340</td>\n",
       "      <td>1.310</td>\n",
       "      <td>1.260</td>\n",
       "    </tr>\n",
       "    <tr>\n",
       "      <th>...</th>\n",
       "      <td>...</td>\n",
       "      <td>...</td>\n",
       "      <td>...</td>\n",
       "      <td>...</td>\n",
       "      <td>...</td>\n",
       "      <td>...</td>\n",
       "      <td>...</td>\n",
       "    </tr>\n",
       "    <tr>\n",
       "      <th>120</th>\n",
       "      <td>Africa</td>\n",
       "      <td>Zambia</td>\n",
       "      <td>5.026</td>\n",
       "      <td>4.918</td>\n",
       "      <td>4.814</td>\n",
       "      <td>4.718</td>\n",
       "      <td>4.633</td>\n",
       "    </tr>\n",
       "    <tr>\n",
       "      <th>100</th>\n",
       "      <td>Africa</td>\n",
       "      <td>Benin</td>\n",
       "      <td>5.116</td>\n",
       "      <td>5.047</td>\n",
       "      <td>4.977</td>\n",
       "      <td>4.906</td>\n",
       "      <td>4.836</td>\n",
       "    </tr>\n",
       "    <tr>\n",
       "      <th>117</th>\n",
       "      <td>Africa</td>\n",
       "      <td>Tanzania</td>\n",
       "      <td>5.146</td>\n",
       "      <td>5.079</td>\n",
       "      <td>5.015</td>\n",
       "      <td>4.953</td>\n",
       "      <td>4.892</td>\n",
       "    </tr>\n",
       "    <tr>\n",
       "      <th>113</th>\n",
       "      <td>Africa</td>\n",
       "      <td>Nigeria</td>\n",
       "      <td>5.653</td>\n",
       "      <td>5.592</td>\n",
       "      <td>5.526</td>\n",
       "      <td>5.457</td>\n",
       "      <td>5.387</td>\n",
       "    </tr>\n",
       "    <tr>\n",
       "      <th>99</th>\n",
       "      <td>Africa</td>\n",
       "      <td>Angola</td>\n",
       "      <td>5.864</td>\n",
       "      <td>5.774</td>\n",
       "      <td>5.686</td>\n",
       "      <td>5.600</td>\n",
       "      <td>5.519</td>\n",
       "    </tr>\n",
       "  </tbody>\n",
       "</table>\n",
       "<p>125 rows × 7 columns</p>\n",
       "</div>"
      ],
      "text/plain": [
       "    continent    country  2014(Birth rate)  2015(Birth rate)  \\\n",
       "0        Asia      Korea             1.205             1.239   \n",
       "6        Asia  Hong Kong             1.235             1.196   \n",
       "25       Asia  Singapore             1.250             1.240   \n",
       "81     Europe      Malta             1.380             1.370   \n",
       "91     Europe      Spain             1.320             1.330   \n",
       "..        ...        ...               ...               ...   \n",
       "120    Africa     Zambia             5.026             4.918   \n",
       "100    Africa      Benin             5.116             5.047   \n",
       "117    Africa   Tanzania             5.146             5.079   \n",
       "113    Africa    Nigeria             5.653             5.592   \n",
       "99     Africa     Angola             5.864             5.774   \n",
       "\n",
       "     2016(Birth rate)  2017(Birth rate)  2018(Birth rate)  \n",
       "0               1.172             1.052             0.977  \n",
       "6               1.205             1.125             1.072  \n",
       "25              1.200             1.160             1.140  \n",
       "81              1.370             1.260             1.230  \n",
       "91              1.340             1.310             1.260  \n",
       "..                ...               ...               ...  \n",
       "120             4.814             4.718             4.633  \n",
       "100             4.977             4.906             4.836  \n",
       "117             5.015             4.953             4.892  \n",
       "113             5.526             5.457             5.387  \n",
       "99              5.686             5.600             5.519  \n",
       "\n",
       "[125 rows x 7 columns]"
      ]
     },
     "execution_count": 338,
     "metadata": {},
     "output_type": "execute_result"
    }
   ],
   "source": [
    "birth.sort_values(by='2018(Birth rate)',ascending=True)"
   ]
  },
  {
   "cell_type": "code",
   "execution_count": null,
   "metadata": {},
   "outputs": [],
   "source": [
    "2018년도도 비슷하네요..."
   ]
  },
  {
   "cell_type": "markdown",
   "metadata": {},
   "source": [
    "그래프 사이즈를 가로 10 세로 8로 지정해주고\n",
    "x축에 continent, y축에 2014(Birth rate) 값을 넣어준 후 선그래프를 그려봅니다."
   ]
  },
  {
   "cell_type": "code",
   "execution_count": 24,
   "metadata": {},
   "outputs": [
    {
     "data": {
      "text/plain": [
       "<AxesSubplot:xlabel='continent', ylabel='2014(Birth rate)'>"
      ]
     },
     "execution_count": 24,
     "metadata": {},
     "output_type": "execute_result"
    },
    {
     "data": {
      "image/png": "[encoded data removed]",
      "text/plain": [
       "<Figure size 720x576 with 1 Axes>"
      ]
     },
     "metadata": {
      "needs_background": "light"
     },
     "output_type": "display_data"
    }
   ],
   "source": [
    "fig, ax = plt.subplots(figsize=(10, 8))\n",
    "sns.lineplot(data=birth, x=\"continent\", y=\"2014(Birth rate)\")"
   ]
  },
  {
   "cell_type": "code",
   "execution_count": 334,
   "metadata": {},
   "outputs": [
    {
     "data": {
      "text/plain": [
       "continent\n",
       "Africa           4.196957\n",
       "Asia             2.330886\n",
       "Europe           1.560514\n",
       "North America    1.896000\n",
       "Oceania          2.574750\n",
       "South America    2.202565\n",
       "Name: 2014(Birth rate), dtype: float64"
      ]
     },
     "execution_count": 334,
     "metadata": {},
     "output_type": "execute_result"
    }
   ],
   "source": [
    "birth.groupby('continent')['2014(Birth rate)'].mean()   "
   ]
  },
  {
   "cell_type": "markdown",
   "metadata": {},
   "source": [
    "Africa의 평균출산율은 4.20, Asia의 평균출산율은 2.33, Europe의 평균출산율은 1.56,\n",
    "North America의 평균출산율은 1.90, Oceania의 평균출산율은 2.57, South America의 평균 출산율은 2.20으로 나왔습니다."
   ]
  },
  {
   "cell_type": "markdown",
   "metadata": {},
   "source": []
  },
  {
   "cell_type": "markdown",
   "metadata": {},
   "source": [
    "그래프 사이즈를 가로 10 세로 8로 지정해주고\n",
    "x축에 continent, y축에 2018(Birth rate) 값을 넣어준 후 선그래프를 그려봅니다."
   ]
  },
  {
   "cell_type": "code",
   "execution_count": 8,
   "metadata": {
    "scrolled": true
   },
   "outputs": [
    {
     "data": {
      "text/plain": [
       "<AxesSubplot:xlabel='continent', ylabel='2018(Birth rate)'>"
      ]
     },
     "execution_count": 8,
     "metadata": {},
     "output_type": "execute_result"
    },
    {
     "data": {
      "image/png": "[encoded data removed]",
      "text/plain": [
       "<Figure size 720x576 with 1 Axes>"
      ]
     },
     "metadata": {
      "needs_background": "light"
     },
     "output_type": "display_data"
    }
   ],
   "source": [
    "fig, ax = plt.subplots(figsize=(10, 8))\n",
    "sns.lineplot(data=birth, x=\"continent\", y=\"2018(Birth rate)\")"
   ]
  },
  {
   "cell_type": "code",
   "execution_count": 335,
   "metadata": {},
   "outputs": [
    {
     "data": {
      "text/plain": [
       "continent\n",
       "Africa           3.967435\n",
       "Asia             2.229457\n",
       "Europe           1.532919\n",
       "North America    1.786000\n",
       "Oceania          2.447000\n",
       "South America    2.114130\n",
       "Name: 2018(Birth rate), dtype: float64"
      ]
     },
     "execution_count": 335,
     "metadata": {},
     "output_type": "execute_result"
    }
   ],
   "source": [
    "birth.groupby('continent')['2018(Birth rate)'].mean()"
   ]
  },
  {
   "cell_type": "code",
   "execution_count": null,
   "metadata": {},
   "outputs": [],
   "source": [
    "Africa의 평균출산율은 3.97, Asia의 평균출산율은 2.23, Europe의 평균출산율은 1.533,\n",
    "North America의 평균출산율은 1.79, Oceania의 평균출산율은 2.44, South America의 평균 출산율은 2.11으로 나왔습니다.\n",
    "2014년보다 평균적으로 봤을때 출산율이 줄어듬을 확인할 수 있었습니다.\n",
    "전세계적으로 출산율은 줄어들고 고령화가 진행 되가고 있군요..."
   ]
  },
  {
   "cell_type": "code",
   "execution_count": 333,
   "metadata": {},
   "outputs": [
    {
     "data": {
      "text/plain": [
       "count    125.000000\n",
       "mean       2.318168\n",
       "std        1.033355\n",
       "min        0.977000\n",
       "25%        1.600000\n",
       "50%        1.987000\n",
       "75%        2.761000\n",
       "max        5.519000\n",
       "Name: 2018(Birth rate), dtype: float64"
      ]
     },
     "execution_count": 333,
     "metadata": {},
     "output_type": "execute_result"
    }
   ],
   "source": [
    "birth['2018(Birth rate)'].describe().T"
   ]
  },
  {
   "cell_type": "code",
   "execution_count": null,
   "metadata": {},
   "outputs": [],
   "source": [
    "마지막으로 describe().T 를 이용해 2018년도의 수치형 데이터의 기술 통계를 구해보니 제일 적은 "
   ]
  },
  {
   "cell_type": "code",
   "execution_count": null,
   "metadata": {},
   "outputs": [],
   "source": []
  },
  {
   "cell_type": "code",
   "execution_count": null,
   "metadata": {},
   "outputs": [],
   "source": []
  },
  {
   "cell_type": "code",
   "execution_count": null,
   "metadata": {},
   "outputs": [],
   "source": []
  }
 ],
 "metadata": {
  "kernelspec": {
   "display_name": "Python 3",
   "language": "python",
   "name": "python3"
  },
  "language_info": {
   "codemirror_mode": {
    "name": "ipython",
    "version": 3
   },
   "file_extension": ".py",
   "mimetype": "text/x-python",
   "name": "python",
   "nbconvert_exporter": "python",
   "pygments_lexer": "ipython3",
   "version": "3.8.5"
  }
 },
 "nbformat": 4,
 "nbformat_minor": 4
}
