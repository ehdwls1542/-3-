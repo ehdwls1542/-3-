{
 "cells": [
  {
   "cell_type": "markdown",
   "metadata": {},
   "source": [
    "프로그래밍3"
   ]
  },
  {
   "cell_type": "markdown",
   "metadata": {},
   "source": [
    "201984051 신동진"
   ]
  },
  {
   "cell_type": "markdown",
   "metadata": {},
   "source": [
    "* 대륙을 기준으로 각 대륙마다 평균 출산율을 보고싶어 전세계 출산율 데이터를 수렴하였습니다.\n",
    "  현재 우리나라의 출산율이 심각한 수준으로 다가왔고 점점 고령화되는 시대에 노인의 비율이 높아지고 있습니다.\n",
    "  여기서 과연 대한민국 외에 다른 나라도 우리처럼 출산을 지향하고 있는지 궁금해서 비교 데이터를 만들어 한눈에 보기 쉽게\n",
    "  전세계의 출산율을 알아보고자 합니다."
   ]
  },
  {
   "cell_type": "code",
   "execution_count": 1,
   "metadata": {},
   "outputs": [],
   "source": [
    "import pandas as pd\n",
    "import numpy as np"
   ]
  },
  {
   "cell_type": "markdown",
   "metadata": {},
   "source": [
    "출산율 데이터를 불러옵니다"
   ]
  },
  {
   "cell_type": "code",
   "execution_count": 17,
   "metadata": {
    "scrolled": true
   },
   "outputs": [
    {
     "data": {
      "text/html": [
       "<div>\n",
       "<style scoped>\n",
       "    .dataframe tbody tr th:only-of-type {\n",
       "        vertical-align: middle;\n",
       "    }\n",
       "\n",
       "    .dataframe tbody tr th {\n",
       "        vertical-align: top;\n",
       "    }\n",
       "\n",
       "    .dataframe thead th {\n",
       "        text-align: right;\n",
       "    }\n",
       "</style>\n",
       "<table border=\"1\" class=\"dataframe\">\n",
       "  <thead>\n",
       "    <tr style=\"text-align: right;\">\n",
       "      <th></th>\n",
       "      <th>대륙</th>\n",
       "      <th>국가</th>\n",
       "      <th>2014</th>\n",
       "      <th>2015</th>\n",
       "      <th>2016</th>\n",
       "      <th>2017</th>\n",
       "      <th>2018</th>\n",
       "    </tr>\n",
       "  </thead>\n",
       "  <tbody>\n",
       "    <tr>\n",
       "      <th>0</th>\n",
       "      <td>아시아</td>\n",
       "      <td>한국</td>\n",
       "      <td>1.205</td>\n",
       "      <td>1.239</td>\n",
       "      <td>1.172</td>\n",
       "      <td>1.052</td>\n",
       "      <td>0.977</td>\n",
       "    </tr>\n",
       "    <tr>\n",
       "      <th>1</th>\n",
       "      <td>아시아</td>\n",
       "      <td>아제르바이잔</td>\n",
       "      <td>1.970</td>\n",
       "      <td>1.940</td>\n",
       "      <td>1.900</td>\n",
       "      <td>1.750</td>\n",
       "      <td>1.730</td>\n",
       "    </tr>\n",
       "    <tr>\n",
       "      <th>2</th>\n",
       "      <td>아시아</td>\n",
       "      <td>바레인</td>\n",
       "      <td>2.078</td>\n",
       "      <td>2.056</td>\n",
       "      <td>2.033</td>\n",
       "      <td>2.010</td>\n",
       "      <td>1.987</td>\n",
       "    </tr>\n",
       "    <tr>\n",
       "      <th>3</th>\n",
       "      <td>아시아</td>\n",
       "      <td>중국</td>\n",
       "      <td>1.656</td>\n",
       "      <td>1.665</td>\n",
       "      <td>1.675</td>\n",
       "      <td>1.683</td>\n",
       "      <td>1.690</td>\n",
       "    </tr>\n",
       "    <tr>\n",
       "      <th>4</th>\n",
       "      <td>아시아</td>\n",
       "      <td>키프로스</td>\n",
       "      <td>1.364</td>\n",
       "      <td>1.354</td>\n",
       "      <td>1.345</td>\n",
       "      <td>1.337</td>\n",
       "      <td>1.329</td>\n",
       "    </tr>\n",
       "    <tr>\n",
       "      <th>...</th>\n",
       "      <td>...</td>\n",
       "      <td>...</td>\n",
       "      <td>...</td>\n",
       "      <td>...</td>\n",
       "      <td>...</td>\n",
       "      <td>...</td>\n",
       "      <td>...</td>\n",
       "    </tr>\n",
       "    <tr>\n",
       "      <th>120</th>\n",
       "      <td>아프리카</td>\n",
       "      <td>잠비아</td>\n",
       "      <td>5.026</td>\n",
       "      <td>4.918</td>\n",
       "      <td>4.814</td>\n",
       "      <td>4.718</td>\n",
       "      <td>4.633</td>\n",
       "    </tr>\n",
       "    <tr>\n",
       "      <th>121</th>\n",
       "      <td>오세아니아</td>\n",
       "      <td>오스트레일리아</td>\n",
       "      <td>1.826</td>\n",
       "      <td>1.814</td>\n",
       "      <td>1.752</td>\n",
       "      <td>1.741</td>\n",
       "      <td>1.740</td>\n",
       "    </tr>\n",
       "    <tr>\n",
       "      <th>122</th>\n",
       "      <td>오세아니아</td>\n",
       "      <td>피지</td>\n",
       "      <td>2.795</td>\n",
       "      <td>2.800</td>\n",
       "      <td>2.797</td>\n",
       "      <td>2.788</td>\n",
       "      <td>2.774</td>\n",
       "    </tr>\n",
       "    <tr>\n",
       "      <th>123</th>\n",
       "      <td>오세아니아</td>\n",
       "      <td>뉴질랜드</td>\n",
       "      <td>1.920</td>\n",
       "      <td>1.990</td>\n",
       "      <td>1.870</td>\n",
       "      <td>1.810</td>\n",
       "      <td>1.710</td>\n",
       "    </tr>\n",
       "    <tr>\n",
       "      <th>124</th>\n",
       "      <td>오세아니아</td>\n",
       "      <td>파푸아뉴기니</td>\n",
       "      <td>3.758</td>\n",
       "      <td>3.707</td>\n",
       "      <td>3.657</td>\n",
       "      <td>3.610</td>\n",
       "      <td>3.564</td>\n",
       "    </tr>\n",
       "  </tbody>\n",
       "</table>\n",
       "<p>125 rows × 7 columns</p>\n",
       "</div>"
      ],
      "text/plain": [
       "        대륙       국가   2014   2015   2016   2017   2018\n",
       "0      아시아       한국  1.205  1.239  1.172  1.052  0.977\n",
       "1      아시아   아제르바이잔  1.970  1.940  1.900  1.750  1.730\n",
       "2      아시아      바레인  2.078  2.056  2.033  2.010  1.987\n",
       "3      아시아       중국  1.656  1.665  1.675  1.683  1.690\n",
       "4      아시아     키프로스  1.364  1.354  1.345  1.337  1.329\n",
       "..     ...      ...    ...    ...    ...    ...    ...\n",
       "120   아프리카      잠비아  5.026  4.918  4.814  4.718  4.633\n",
       "121  오세아니아  오스트레일리아  1.826  1.814  1.752  1.741  1.740\n",
       "122  오세아니아       피지  2.795  2.800  2.797  2.788  2.774\n",
       "123  오세아니아     뉴질랜드  1.920  1.990  1.870  1.810  1.710\n",
       "124  오세아니아   파푸아뉴기니  3.758  3.707  3.657  3.610  3.564\n",
       "\n",
       "[125 rows x 7 columns]"
      ]
     },
     "execution_count": 17,
     "metadata": {},
     "output_type": "execute_result"
    }
   ],
   "source": [
    "birth = pd.read_csv('birth.csv',encoding='euc-kr')   \n",
    "birth"
   ]
  },
  {
   "cell_type": "raw",
   "metadata": {},
   "source": [
    "출생율 데이터를 보니 한국은 역시 매년마다 출산율이 줄어드는것을 확인할 수 있었습니다...\n",
    "2018년도 부터 평균 1명도 낳지 않다니... 큰일입니다."
   ]
  },
  {
   "cell_type": "code",
   "execution_count": 18,
   "metadata": {},
   "outputs": [
    {
     "name": "stdout",
     "output_type": "stream",
     "text": [
      "<class 'pandas.core.frame.DataFrame'>\n",
      "RangeIndex: 125 entries, 0 to 124\n",
      "Data columns (total 7 columns):\n",
      " #   Column  Non-Null Count  Dtype  \n",
      "---  ------  --------------  -----  \n",
      " 0   대륙      125 non-null    object \n",
      " 1   국가      125 non-null    object \n",
      " 2   2014    125 non-null    float64\n",
      " 3   2015    125 non-null    float64\n",
      " 4   2016    125 non-null    float64\n",
      " 5   2017    125 non-null    float64\n",
      " 6   2018    125 non-null    float64\n",
      "dtypes: float64(5), object(2)\n",
      "memory usage: 7.0+ KB\n"
     ]
    }
   ],
   "source": [
    "birth.info() "
   ]
  },
  {
   "cell_type": "markdown",
   "metadata": {},
   "source": [
    "제가 탐색 및 분석하고자하는 birth의 정보를 확인하였습니다.\n",
    "대륙과 국가는 글자타입이기에 오브젝트이고 2014~2018은 숫자 형식이기에 float64로 나왔습니다."
   ]
  },
  {
   "cell_type": "code",
   "execution_count": 29,
   "metadata": {},
   "outputs": [
    {
     "data": {
      "text/plain": [
       "Index(['대륙', '국가', '2014(출산율)', '2015(출산율)', '2016(출산율)', '2017(출산율)',\n",
       "       '2018(출산율)'],\n",
       "      dtype='object')"
      ]
     },
     "execution_count": 29,
     "metadata": {},
     "output_type": "execute_result"
    }
   ],
   "source": [
    "birth.columns"
   ]
  },
  {
   "cell_type": "markdown",
   "metadata": {},
   "source": [
    "총 7개의 컬럼을 가지고 있습니다."
   ]
  },
  {
   "cell_type": "code",
   "execution_count": 31,
   "metadata": {},
   "outputs": [
    {
     "data": {
      "text/plain": [
       "(125, 7)"
      ]
     },
     "execution_count": 31,
     "metadata": {},
     "output_type": "execute_result"
    }
   ],
   "source": [
    "birth.shape"
   ]
  },
  {
   "cell_type": "markdown",
   "metadata": {},
   "source": [
    "birth데이터는 125개의 row 7개의 columns을 가지고 있습니다."
   ]
  },
  {
   "cell_type": "code",
   "execution_count": 32,
   "metadata": {},
   "outputs": [
    {
     "data": {
      "text/plain": [
       "875"
      ]
     },
     "execution_count": 32,
     "metadata": {},
     "output_type": "execute_result"
    }
   ],
   "source": [
    "birth.size"
   ]
  },
  {
   "cell_type": "markdown",
   "metadata": {},
   "source": [
    "birth는 총 875개의 데이터를 가지고 있습니다."
   ]
  },
  {
   "cell_type": "code",
   "execution_count": 34,
   "metadata": {},
   "outputs": [
    {
     "data": {
      "text/plain": [
       "대륙           0\n",
       "국가           0\n",
       "2014(출산율)    0\n",
       "2015(출산율)    0\n",
       "2016(출산율)    0\n",
       "2017(출산율)    0\n",
       "2018(출산율)    0\n",
       "dtype: int64"
      ]
     },
     "execution_count": 34,
     "metadata": {},
     "output_type": "execute_result"
    }
   ],
   "source": [
    "birth.isnull().sum()"
   ]
  },
  {
   "cell_type": "markdown",
   "metadata": {},
   "source": [
    "birth 데이터의 결측치는 없습니다."
   ]
  },
  {
   "cell_type": "code",
   "execution_count": 19,
   "metadata": {},
   "outputs": [
    {
     "data": {
      "text/html": [
       "<div>\n",
       "<style scoped>\n",
       "    .dataframe tbody tr th:only-of-type {\n",
       "        vertical-align: middle;\n",
       "    }\n",
       "\n",
       "    .dataframe tbody tr th {\n",
       "        vertical-align: top;\n",
       "    }\n",
       "\n",
       "    .dataframe thead th {\n",
       "        text-align: right;\n",
       "    }\n",
       "</style>\n",
       "<table border=\"1\" class=\"dataframe\">\n",
       "  <thead>\n",
       "    <tr style=\"text-align: right;\">\n",
       "      <th></th>\n",
       "      <th>count</th>\n",
       "      <th>mean</th>\n",
       "      <th>std</th>\n",
       "      <th>min</th>\n",
       "      <th>25%</th>\n",
       "      <th>50%</th>\n",
       "      <th>75%</th>\n",
       "      <th>max</th>\n",
       "    </tr>\n",
       "  </thead>\n",
       "  <tbody>\n",
       "    <tr>\n",
       "      <th>2014</th>\n",
       "      <td>125.0</td>\n",
       "      <td>2.419968</td>\n",
       "      <td>1.115656</td>\n",
       "      <td>1.205</td>\n",
       "      <td>1.630</td>\n",
       "      <td>2.001</td>\n",
       "      <td>2.894</td>\n",
       "      <td>5.864</td>\n",
       "    </tr>\n",
       "    <tr>\n",
       "      <th>2015</th>\n",
       "      <td>125.0</td>\n",
       "      <td>2.400072</td>\n",
       "      <td>1.089740</td>\n",
       "      <td>1.196</td>\n",
       "      <td>1.650</td>\n",
       "      <td>2.014</td>\n",
       "      <td>2.805</td>\n",
       "      <td>5.774</td>\n",
       "    </tr>\n",
       "    <tr>\n",
       "      <th>2016</th>\n",
       "      <td>125.0</td>\n",
       "      <td>2.378240</td>\n",
       "      <td>1.063559</td>\n",
       "      <td>1.172</td>\n",
       "      <td>1.656</td>\n",
       "      <td>2.009</td>\n",
       "      <td>2.797</td>\n",
       "      <td>5.686</td>\n",
       "    </tr>\n",
       "    <tr>\n",
       "      <th>2017</th>\n",
       "      <td>125.0</td>\n",
       "      <td>2.343400</td>\n",
       "      <td>1.048218</td>\n",
       "      <td>1.052</td>\n",
       "      <td>1.620</td>\n",
       "      <td>1.999</td>\n",
       "      <td>2.777</td>\n",
       "      <td>5.600</td>\n",
       "    </tr>\n",
       "    <tr>\n",
       "      <th>2018</th>\n",
       "      <td>125.0</td>\n",
       "      <td>2.318168</td>\n",
       "      <td>1.033355</td>\n",
       "      <td>0.977</td>\n",
       "      <td>1.600</td>\n",
       "      <td>1.987</td>\n",
       "      <td>2.761</td>\n",
       "      <td>5.519</td>\n",
       "    </tr>\n",
       "  </tbody>\n",
       "</table>\n",
       "</div>"
      ],
      "text/plain": [
       "      count      mean       std    min    25%    50%    75%    max\n",
       "2014  125.0  2.419968  1.115656  1.205  1.630  2.001  2.894  5.864\n",
       "2015  125.0  2.400072  1.089740  1.196  1.650  2.014  2.805  5.774\n",
       "2016  125.0  2.378240  1.063559  1.172  1.656  2.009  2.797  5.686\n",
       "2017  125.0  2.343400  1.048218  1.052  1.620  1.999  2.777  5.600\n",
       "2018  125.0  2.318168  1.033355  0.977  1.600  1.987  2.761  5.519"
      ]
     },
     "execution_count": 19,
     "metadata": {},
     "output_type": "execute_result"
    }
   ],
   "source": [
    "birth.describe().T"
   ]
  },
  {
   "cell_type": "markdown",
   "metadata": {},
   "source": [
    "describe().T 를 이용해 수치형 데이터의 기술 통계를 구해보니 우리나라 뿐만아니라 전세계적으로 내년 출산율이 줄어드는것을\n",
    "확인했습니다.\n",
    "한국이 최소값들을 모두 차지하고 있습니다. 심각합니다. 최대 출산율과 어마어마한 차이가 있습니다.\n",
    "*추가로 이 값만보면 2014~2018년의 어떤 데이터의 값을 뽑은건지 모르기 때문에 이름을 바꿔봤습니다."
   ]
  },
  {
   "cell_type": "code",
   "execution_count": 20,
   "metadata": {},
   "outputs": [],
   "source": [
    "birth.rename(columns={'2014':'2014(출산율)','2015':'2015(출산율)','2016':'2016(출산율)','2017':'2017(출산율)','2018':'2018(출산율)'},inplace=True)"
   ]
  },
  {
   "cell_type": "code",
   "execution_count": 21,
   "metadata": {
    "scrolled": true
   },
   "outputs": [
    {
     "data": {
      "text/html": [
       "<div>\n",
       "<style scoped>\n",
       "    .dataframe tbody tr th:only-of-type {\n",
       "        vertical-align: middle;\n",
       "    }\n",
       "\n",
       "    .dataframe tbody tr th {\n",
       "        vertical-align: top;\n",
       "    }\n",
       "\n",
       "    .dataframe thead th {\n",
       "        text-align: right;\n",
       "    }\n",
       "</style>\n",
       "<table border=\"1\" class=\"dataframe\">\n",
       "  <thead>\n",
       "    <tr style=\"text-align: right;\">\n",
       "      <th></th>\n",
       "      <th>count</th>\n",
       "      <th>mean</th>\n",
       "      <th>std</th>\n",
       "      <th>min</th>\n",
       "      <th>25%</th>\n",
       "      <th>50%</th>\n",
       "      <th>75%</th>\n",
       "      <th>max</th>\n",
       "    </tr>\n",
       "  </thead>\n",
       "  <tbody>\n",
       "    <tr>\n",
       "      <th>2014(출산율)</th>\n",
       "      <td>125.0</td>\n",
       "      <td>2.419968</td>\n",
       "      <td>1.115656</td>\n",
       "      <td>1.205</td>\n",
       "      <td>1.630</td>\n",
       "      <td>2.001</td>\n",
       "      <td>2.894</td>\n",
       "      <td>5.864</td>\n",
       "    </tr>\n",
       "    <tr>\n",
       "      <th>2015(출산율)</th>\n",
       "      <td>125.0</td>\n",
       "      <td>2.400072</td>\n",
       "      <td>1.089740</td>\n",
       "      <td>1.196</td>\n",
       "      <td>1.650</td>\n",
       "      <td>2.014</td>\n",
       "      <td>2.805</td>\n",
       "      <td>5.774</td>\n",
       "    </tr>\n",
       "    <tr>\n",
       "      <th>2016(출산율)</th>\n",
       "      <td>125.0</td>\n",
       "      <td>2.378240</td>\n",
       "      <td>1.063559</td>\n",
       "      <td>1.172</td>\n",
       "      <td>1.656</td>\n",
       "      <td>2.009</td>\n",
       "      <td>2.797</td>\n",
       "      <td>5.686</td>\n",
       "    </tr>\n",
       "    <tr>\n",
       "      <th>2017(출산율)</th>\n",
       "      <td>125.0</td>\n",
       "      <td>2.343400</td>\n",
       "      <td>1.048218</td>\n",
       "      <td>1.052</td>\n",
       "      <td>1.620</td>\n",
       "      <td>1.999</td>\n",
       "      <td>2.777</td>\n",
       "      <td>5.600</td>\n",
       "    </tr>\n",
       "    <tr>\n",
       "      <th>2018(출산율)</th>\n",
       "      <td>125.0</td>\n",
       "      <td>2.318168</td>\n",
       "      <td>1.033355</td>\n",
       "      <td>0.977</td>\n",
       "      <td>1.600</td>\n",
       "      <td>1.987</td>\n",
       "      <td>2.761</td>\n",
       "      <td>5.519</td>\n",
       "    </tr>\n",
       "  </tbody>\n",
       "</table>\n",
       "</div>"
      ],
      "text/plain": [
       "           count      mean       std    min    25%    50%    75%    max\n",
       "2014(출산율)  125.0  2.419968  1.115656  1.205  1.630  2.001  2.894  5.864\n",
       "2015(출산율)  125.0  2.400072  1.089740  1.196  1.650  2.014  2.805  5.774\n",
       "2016(출산율)  125.0  2.378240  1.063559  1.172  1.656  2.009  2.797  5.686\n",
       "2017(출산율)  125.0  2.343400  1.048218  1.052  1.620  1.999  2.777  5.600\n",
       "2018(출산율)  125.0  2.318168  1.033355  0.977  1.600  1.987  2.761  5.519"
      ]
     },
     "execution_count": 21,
     "metadata": {},
     "output_type": "execute_result"
    }
   ],
   "source": [
    "birth.describe().T"
   ]
  },
  {
   "cell_type": "markdown",
   "metadata": {},
   "source": [
    "바꿔보니 보기 좀더 좋아졌습니다."
   ]
  },
  {
   "cell_type": "code",
   "execution_count": 26,
   "metadata": {},
   "outputs": [
    {
     "data": {
      "text/html": [
       "<div>\n",
       "<style scoped>\n",
       "    .dataframe tbody tr th:only-of-type {\n",
       "        vertical-align: middle;\n",
       "    }\n",
       "\n",
       "    .dataframe tbody tr th {\n",
       "        vertical-align: top;\n",
       "    }\n",
       "\n",
       "    .dataframe thead th {\n",
       "        text-align: right;\n",
       "    }\n",
       "</style>\n",
       "<table border=\"1\" class=\"dataframe\">\n",
       "  <thead>\n",
       "    <tr style=\"text-align: right;\">\n",
       "      <th></th>\n",
       "      <th>대륙</th>\n",
       "      <th>2014(출산율)</th>\n",
       "      <th>2015(출산율)</th>\n",
       "      <th>2016(출산율)</th>\n",
       "      <th>2017(출산율)</th>\n",
       "      <th>2018(출산율)</th>\n",
       "    </tr>\n",
       "    <tr>\n",
       "      <th>국가</th>\n",
       "      <th></th>\n",
       "      <th></th>\n",
       "      <th></th>\n",
       "      <th></th>\n",
       "      <th></th>\n",
       "      <th></th>\n",
       "    </tr>\n",
       "  </thead>\n",
       "  <tbody>\n",
       "    <tr>\n",
       "      <th>한국</th>\n",
       "      <td>아시아</td>\n",
       "      <td>1.205</td>\n",
       "      <td>1.239</td>\n",
       "      <td>1.172</td>\n",
       "      <td>1.052</td>\n",
       "      <td>0.977</td>\n",
       "    </tr>\n",
       "    <tr>\n",
       "      <th>아제르바이잔</th>\n",
       "      <td>아시아</td>\n",
       "      <td>1.970</td>\n",
       "      <td>1.940</td>\n",
       "      <td>1.900</td>\n",
       "      <td>1.750</td>\n",
       "      <td>1.730</td>\n",
       "    </tr>\n",
       "    <tr>\n",
       "      <th>바레인</th>\n",
       "      <td>아시아</td>\n",
       "      <td>2.078</td>\n",
       "      <td>2.056</td>\n",
       "      <td>2.033</td>\n",
       "      <td>2.010</td>\n",
       "      <td>1.987</td>\n",
       "    </tr>\n",
       "    <tr>\n",
       "      <th>중국</th>\n",
       "      <td>아시아</td>\n",
       "      <td>1.656</td>\n",
       "      <td>1.665</td>\n",
       "      <td>1.675</td>\n",
       "      <td>1.683</td>\n",
       "      <td>1.690</td>\n",
       "    </tr>\n",
       "    <tr>\n",
       "      <th>키프로스</th>\n",
       "      <td>아시아</td>\n",
       "      <td>1.364</td>\n",
       "      <td>1.354</td>\n",
       "      <td>1.345</td>\n",
       "      <td>1.337</td>\n",
       "      <td>1.329</td>\n",
       "    </tr>\n",
       "    <tr>\n",
       "      <th>...</th>\n",
       "      <td>...</td>\n",
       "      <td>...</td>\n",
       "      <td>...</td>\n",
       "      <td>...</td>\n",
       "      <td>...</td>\n",
       "      <td>...</td>\n",
       "    </tr>\n",
       "    <tr>\n",
       "      <th>잠비아</th>\n",
       "      <td>아프리카</td>\n",
       "      <td>5.026</td>\n",
       "      <td>4.918</td>\n",
       "      <td>4.814</td>\n",
       "      <td>4.718</td>\n",
       "      <td>4.633</td>\n",
       "    </tr>\n",
       "    <tr>\n",
       "      <th>오스트레일리아</th>\n",
       "      <td>오세아니아</td>\n",
       "      <td>1.826</td>\n",
       "      <td>1.814</td>\n",
       "      <td>1.752</td>\n",
       "      <td>1.741</td>\n",
       "      <td>1.740</td>\n",
       "    </tr>\n",
       "    <tr>\n",
       "      <th>피지</th>\n",
       "      <td>오세아니아</td>\n",
       "      <td>2.795</td>\n",
       "      <td>2.800</td>\n",
       "      <td>2.797</td>\n",
       "      <td>2.788</td>\n",
       "      <td>2.774</td>\n",
       "    </tr>\n",
       "    <tr>\n",
       "      <th>뉴질랜드</th>\n",
       "      <td>오세아니아</td>\n",
       "      <td>1.920</td>\n",
       "      <td>1.990</td>\n",
       "      <td>1.870</td>\n",
       "      <td>1.810</td>\n",
       "      <td>1.710</td>\n",
       "    </tr>\n",
       "    <tr>\n",
       "      <th>파푸아뉴기니</th>\n",
       "      <td>오세아니아</td>\n",
       "      <td>3.758</td>\n",
       "      <td>3.707</td>\n",
       "      <td>3.657</td>\n",
       "      <td>3.610</td>\n",
       "      <td>3.564</td>\n",
       "    </tr>\n",
       "  </tbody>\n",
       "</table>\n",
       "<p>125 rows × 6 columns</p>\n",
       "</div>"
      ],
      "text/plain": [
       "            대륙  2014(출산율)  2015(출산율)  2016(출산율)  2017(출산율)  2018(출산율)\n",
       "국가                                                                   \n",
       "한국         아시아      1.205      1.239      1.172      1.052      0.977\n",
       "아제르바이잔     아시아      1.970      1.940      1.900      1.750      1.730\n",
       "바레인        아시아      2.078      2.056      2.033      2.010      1.987\n",
       "중국         아시아      1.656      1.665      1.675      1.683      1.690\n",
       "키프로스       아시아      1.364      1.354      1.345      1.337      1.329\n",
       "...        ...        ...        ...        ...        ...        ...\n",
       "잠비아       아프리카      5.026      4.918      4.814      4.718      4.633\n",
       "오스트레일리아  오세아니아      1.826      1.814      1.752      1.741      1.740\n",
       "피지       오세아니아      2.795      2.800      2.797      2.788      2.774\n",
       "뉴질랜드     오세아니아      1.920      1.990      1.870      1.810      1.710\n",
       "파푸아뉴기니   오세아니아      3.758      3.707      3.657      3.610      3.564\n",
       "\n",
       "[125 rows x 6 columns]"
      ]
     },
     "execution_count": 26,
     "metadata": {},
     "output_type": "execute_result"
    }
   ],
   "source": [
    "birth.set_index(['국가'])"
   ]
  },
  {
   "cell_type": "markdown",
   "metadata": {},
   "source": [
    "국가별 기준으로 하는 방법도 있길래 해봤습니다."
   ]
  },
  {
   "cell_type": "code",
   "execution_count": 27,
   "metadata": {},
   "outputs": [
    {
     "data": {
      "text/plain": [
       "대륙     국가     2014(출산율)  2015(출산율)  2016(출산율)  2017(출산율)  2018(출산율)\n",
       "유럽     헝가리    1.440      1.450      1.530      1.540      1.550        1\n",
       "아시아    인도네시아  2.413      2.389      2.362      2.336      2.311        1\n",
       "       스리랑카   2.216      2.213      2.211      2.206      2.199        1\n",
       "       시리아    3.005      2.940      2.889      2.847      2.808        1\n",
       "       싱가포르   1.250      1.240      1.200      1.160      1.140        1\n",
       "                                                                      ..\n",
       "오세아니아  피지     2.795      2.800      2.797      2.788      2.774        1\n",
       "유럽     그리스    1.300      1.330      1.380      1.350      1.350        1\n",
       "       네덜란드   1.710      1.660      1.660      1.620      1.590        1\n",
       "       노르웨이   1.750      1.720      1.710      1.620      1.560        1\n",
       "남아메리카  과테말라   3.088      3.029      2.973      2.920      2.870        1\n",
       "Length: 125, dtype: int64"
      ]
     },
     "execution_count": 27,
     "metadata": {},
     "output_type": "execute_result"
    }
   ],
   "source": [
    "birth.value_counts()"
   ]
  },
  {
   "cell_type": "markdown",
   "metadata": {},
   "source": [
    "이후에 시각화 하고 결론 도출하는건 더 준비하겠습니다.\n",
    "감사합니다."
   ]
  }
 ],
 "metadata": {
  "kernelspec": {
   "display_name": "Python 3",
   "language": "python",
   "name": "python3"
  },
  "language_info": {
   "codemirror_mode": {
    "name": "ipython",
    "version": 3
   },
   "file_extension": ".py",
   "mimetype": "text/x-python",
   "name": "python",
   "nbconvert_exporter": "python",
   "pygments_lexer": "ipython3",
   "version": "3.8.5"
  }
 },
 "nbformat": 4,
 "nbformat_minor": 4
}
