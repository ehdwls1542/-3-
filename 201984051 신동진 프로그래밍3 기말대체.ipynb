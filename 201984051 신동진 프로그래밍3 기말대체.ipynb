{
 "cells": [
  {
   "cell_type": "markdown",
   "metadata": {},
   "source": [
    "프로그래밍3 최종분석과제"
   ]
  },
  {
   "cell_type": "markdown",
   "metadata": {},
   "source": [
    "201984051 산업데이터사이언스학부 신동진 입니다."
   ]
  },
  {
   "cell_type": "markdown",
   "metadata": {},
   "source": [
    "telco 데이터를 확인해본 후 어떻게 분석하는게 더 좋을지 판단한 후에 데이터 분석을 시작했습니다."
   ]
  },
  {
   "cell_type": "code",
   "execution_count": 1,
   "metadata": {},
   "outputs": [],
   "source": [
    "import pandas as pd\n",
    "import numpy as np\n",
    "import seaborn as sns"
   ]
  },
  {
   "cell_type": "code",
   "execution_count": 2,
   "metadata": {},
   "outputs": [],
   "source": [
    "sns.set_style('whitegrid')"
   ]
  },
  {
   "cell_type": "code",
   "execution_count": 3,
   "metadata": {},
   "outputs": [
    {
     "data": {
      "text/html": [
       "<div>\n",
       "<style scoped>\n",
       "    .dataframe tbody tr th:only-of-type {\n",
       "        vertical-align: middle;\n",
       "    }\n",
       "\n",
       "    .dataframe tbody tr th {\n",
       "        vertical-align: top;\n",
       "    }\n",
       "\n",
       "    .dataframe thead th {\n",
       "        text-align: right;\n",
       "    }\n",
       "</style>\n",
       "<table border=\"1\" class=\"dataframe\">\n",
       "  <thead>\n",
       "    <tr style=\"text-align: right;\">\n",
       "      <th></th>\n",
       "      <th>Leave</th>\n",
       "      <th>MemberWeeks</th>\n",
       "      <th>NewContract</th>\n",
       "      <th>IsData</th>\n",
       "      <th>DataAmount</th>\n",
       "      <th>Callcenter</th>\n",
       "      <th>CalMins</th>\n",
       "      <th>CalCounts</th>\n",
       "      <th>MonthlyFee</th>\n",
       "      <th>OverFee</th>\n",
       "      <th>RoamingMin</th>\n",
       "    </tr>\n",
       "  </thead>\n",
       "  <tbody>\n",
       "    <tr>\n",
       "      <th>0</th>\n",
       "      <td>0</td>\n",
       "      <td>128</td>\n",
       "      <td>1</td>\n",
       "      <td>1</td>\n",
       "      <td>2.70</td>\n",
       "      <td>1</td>\n",
       "      <td>265.1</td>\n",
       "      <td>110</td>\n",
       "      <td>89.0</td>\n",
       "      <td>9.87</td>\n",
       "      <td>10.0</td>\n",
       "    </tr>\n",
       "    <tr>\n",
       "      <th>1</th>\n",
       "      <td>0</td>\n",
       "      <td>107</td>\n",
       "      <td>1</td>\n",
       "      <td>1</td>\n",
       "      <td>3.70</td>\n",
       "      <td>1</td>\n",
       "      <td>161.6</td>\n",
       "      <td>123</td>\n",
       "      <td>82.0</td>\n",
       "      <td>9.78</td>\n",
       "      <td>13.7</td>\n",
       "    </tr>\n",
       "    <tr>\n",
       "      <th>2</th>\n",
       "      <td>0</td>\n",
       "      <td>137</td>\n",
       "      <td>1</td>\n",
       "      <td>0</td>\n",
       "      <td>0.00</td>\n",
       "      <td>0</td>\n",
       "      <td>243.4</td>\n",
       "      <td>114</td>\n",
       "      <td>52.0</td>\n",
       "      <td>6.06</td>\n",
       "      <td>12.2</td>\n",
       "    </tr>\n",
       "    <tr>\n",
       "      <th>3</th>\n",
       "      <td>0</td>\n",
       "      <td>84</td>\n",
       "      <td>0</td>\n",
       "      <td>0</td>\n",
       "      <td>0.00</td>\n",
       "      <td>2</td>\n",
       "      <td>299.4</td>\n",
       "      <td>71</td>\n",
       "      <td>57.0</td>\n",
       "      <td>3.10</td>\n",
       "      <td>6.6</td>\n",
       "    </tr>\n",
       "    <tr>\n",
       "      <th>4</th>\n",
       "      <td>0</td>\n",
       "      <td>75</td>\n",
       "      <td>0</td>\n",
       "      <td>0</td>\n",
       "      <td>0.00</td>\n",
       "      <td>3</td>\n",
       "      <td>166.7</td>\n",
       "      <td>113</td>\n",
       "      <td>41.0</td>\n",
       "      <td>7.42</td>\n",
       "      <td>10.1</td>\n",
       "    </tr>\n",
       "    <tr>\n",
       "      <th>...</th>\n",
       "      <td>...</td>\n",
       "      <td>...</td>\n",
       "      <td>...</td>\n",
       "      <td>...</td>\n",
       "      <td>...</td>\n",
       "      <td>...</td>\n",
       "      <td>...</td>\n",
       "      <td>...</td>\n",
       "      <td>...</td>\n",
       "      <td>...</td>\n",
       "      <td>...</td>\n",
       "    </tr>\n",
       "    <tr>\n",
       "      <th>3328</th>\n",
       "      <td>0</td>\n",
       "      <td>192</td>\n",
       "      <td>1</td>\n",
       "      <td>1</td>\n",
       "      <td>2.67</td>\n",
       "      <td>2</td>\n",
       "      <td>156.2</td>\n",
       "      <td>77</td>\n",
       "      <td>71.7</td>\n",
       "      <td>10.78</td>\n",
       "      <td>9.9</td>\n",
       "    </tr>\n",
       "    <tr>\n",
       "      <th>3329</th>\n",
       "      <td>0</td>\n",
       "      <td>68</td>\n",
       "      <td>1</td>\n",
       "      <td>0</td>\n",
       "      <td>0.34</td>\n",
       "      <td>3</td>\n",
       "      <td>231.1</td>\n",
       "      <td>57</td>\n",
       "      <td>56.4</td>\n",
       "      <td>7.67</td>\n",
       "      <td>9.6</td>\n",
       "    </tr>\n",
       "    <tr>\n",
       "      <th>3330</th>\n",
       "      <td>0</td>\n",
       "      <td>28</td>\n",
       "      <td>1</td>\n",
       "      <td>0</td>\n",
       "      <td>0.00</td>\n",
       "      <td>2</td>\n",
       "      <td>180.8</td>\n",
       "      <td>109</td>\n",
       "      <td>56.0</td>\n",
       "      <td>14.44</td>\n",
       "      <td>14.1</td>\n",
       "    </tr>\n",
       "    <tr>\n",
       "      <th>3331</th>\n",
       "      <td>0</td>\n",
       "      <td>184</td>\n",
       "      <td>0</td>\n",
       "      <td>0</td>\n",
       "      <td>0.00</td>\n",
       "      <td>2</td>\n",
       "      <td>213.8</td>\n",
       "      <td>105</td>\n",
       "      <td>50.0</td>\n",
       "      <td>7.98</td>\n",
       "      <td>5.0</td>\n",
       "    </tr>\n",
       "    <tr>\n",
       "      <th>3332</th>\n",
       "      <td>0</td>\n",
       "      <td>74</td>\n",
       "      <td>1</td>\n",
       "      <td>1</td>\n",
       "      <td>3.70</td>\n",
       "      <td>0</td>\n",
       "      <td>234.4</td>\n",
       "      <td>113</td>\n",
       "      <td>100.0</td>\n",
       "      <td>13.30</td>\n",
       "      <td>13.7</td>\n",
       "    </tr>\n",
       "  </tbody>\n",
       "</table>\n",
       "<p>3333 rows × 11 columns</p>\n",
       "</div>"
      ],
      "text/plain": [
       "      Leave  MemberWeeks  NewContract  IsData  DataAmount  Callcenter  \\\n",
       "0         0          128            1       1        2.70           1   \n",
       "1         0          107            1       1        3.70           1   \n",
       "2         0          137            1       0        0.00           0   \n",
       "3         0           84            0       0        0.00           2   \n",
       "4         0           75            0       0        0.00           3   \n",
       "...     ...          ...          ...     ...         ...         ...   \n",
       "3328      0          192            1       1        2.67           2   \n",
       "3329      0           68            1       0        0.34           3   \n",
       "3330      0           28            1       0        0.00           2   \n",
       "3331      0          184            0       0        0.00           2   \n",
       "3332      0           74            1       1        3.70           0   \n",
       "\n",
       "      CalMins  CalCounts  MonthlyFee  OverFee  RoamingMin  \n",
       "0       265.1        110        89.0     9.87        10.0  \n",
       "1       161.6        123        82.0     9.78        13.7  \n",
       "2       243.4        114        52.0     6.06        12.2  \n",
       "3       299.4         71        57.0     3.10         6.6  \n",
       "4       166.7        113        41.0     7.42        10.1  \n",
       "...       ...        ...         ...      ...         ...  \n",
       "3328    156.2         77        71.7    10.78         9.9  \n",
       "3329    231.1         57        56.4     7.67         9.6  \n",
       "3330    180.8        109        56.0    14.44        14.1  \n",
       "3331    213.8        105        50.0     7.98         5.0  \n",
       "3332    234.4        113       100.0    13.30        13.7  \n",
       "\n",
       "[3333 rows x 11 columns]"
      ]
     },
     "execution_count": 3,
     "metadata": {},
     "output_type": "execute_result"
    }
   ],
   "source": [
    "phone = pd.read_csv('gogo/phone.csv')\n",
    "phone"
   ]
  },
  {
   "cell_type": "markdown",
   "metadata": {},
   "source": [
    "info를 통해 phone의 데이터 정보를 확인해봤습니다."
   ]
  },
  {
   "cell_type": "code",
   "execution_count": 4,
   "metadata": {
    "scrolled": true
   },
   "outputs": [
    {
     "name": "stdout",
     "output_type": "stream",
     "text": [
      "<class 'pandas.core.frame.DataFrame'>\n",
      "RangeIndex: 3333 entries, 0 to 3332\n",
      "Data columns (total 11 columns):\n",
      " #   Column       Non-Null Count  Dtype  \n",
      "---  ------       --------------  -----  \n",
      " 0   Leave        3333 non-null   int64  \n",
      " 1   MemberWeeks  3333 non-null   int64  \n",
      " 2   NewContract  3333 non-null   int64  \n",
      " 3   IsData       3333 non-null   int64  \n",
      " 4   DataAmount   3333 non-null   float64\n",
      " 5   Callcenter   3333 non-null   int64  \n",
      " 6   CalMins      3333 non-null   float64\n",
      " 7   CalCounts    3333 non-null   int64  \n",
      " 8   MonthlyFee   3333 non-null   float64\n",
      " 9   OverFee      3333 non-null   float64\n",
      " 10  RoamingMin   3333 non-null   float64\n",
      "dtypes: float64(5), int64(6)\n",
      "memory usage: 286.6 KB\n"
     ]
    }
   ],
   "source": [
    "phone.info()"
   ]
  },
  {
   "cell_type": "markdown",
   "metadata": {},
   "source": [
    "phone 데이터 상위 5개만 보기"
   ]
  },
  {
   "cell_type": "code",
   "execution_count": 5,
   "metadata": {
    "scrolled": true
   },
   "outputs": [
    {
     "data": {
      "text/html": [
       "<div>\n",
       "<style scoped>\n",
       "    .dataframe tbody tr th:only-of-type {\n",
       "        vertical-align: middle;\n",
       "    }\n",
       "\n",
       "    .dataframe tbody tr th {\n",
       "        vertical-align: top;\n",
       "    }\n",
       "\n",
       "    .dataframe thead th {\n",
       "        text-align: right;\n",
       "    }\n",
       "</style>\n",
       "<table border=\"1\" class=\"dataframe\">\n",
       "  <thead>\n",
       "    <tr style=\"text-align: right;\">\n",
       "      <th></th>\n",
       "      <th>Leave</th>\n",
       "      <th>MemberWeeks</th>\n",
       "      <th>NewContract</th>\n",
       "      <th>IsData</th>\n",
       "      <th>DataAmount</th>\n",
       "      <th>Callcenter</th>\n",
       "      <th>CalMins</th>\n",
       "      <th>CalCounts</th>\n",
       "      <th>MonthlyFee</th>\n",
       "      <th>OverFee</th>\n",
       "      <th>RoamingMin</th>\n",
       "    </tr>\n",
       "  </thead>\n",
       "  <tbody>\n",
       "    <tr>\n",
       "      <th>0</th>\n",
       "      <td>0</td>\n",
       "      <td>128</td>\n",
       "      <td>1</td>\n",
       "      <td>1</td>\n",
       "      <td>2.7</td>\n",
       "      <td>1</td>\n",
       "      <td>265.1</td>\n",
       "      <td>110</td>\n",
       "      <td>89.0</td>\n",
       "      <td>9.87</td>\n",
       "      <td>10.0</td>\n",
       "    </tr>\n",
       "    <tr>\n",
       "      <th>1</th>\n",
       "      <td>0</td>\n",
       "      <td>107</td>\n",
       "      <td>1</td>\n",
       "      <td>1</td>\n",
       "      <td>3.7</td>\n",
       "      <td>1</td>\n",
       "      <td>161.6</td>\n",
       "      <td>123</td>\n",
       "      <td>82.0</td>\n",
       "      <td>9.78</td>\n",
       "      <td>13.7</td>\n",
       "    </tr>\n",
       "    <tr>\n",
       "      <th>2</th>\n",
       "      <td>0</td>\n",
       "      <td>137</td>\n",
       "      <td>1</td>\n",
       "      <td>0</td>\n",
       "      <td>0.0</td>\n",
       "      <td>0</td>\n",
       "      <td>243.4</td>\n",
       "      <td>114</td>\n",
       "      <td>52.0</td>\n",
       "      <td>6.06</td>\n",
       "      <td>12.2</td>\n",
       "    </tr>\n",
       "    <tr>\n",
       "      <th>3</th>\n",
       "      <td>0</td>\n",
       "      <td>84</td>\n",
       "      <td>0</td>\n",
       "      <td>0</td>\n",
       "      <td>0.0</td>\n",
       "      <td>2</td>\n",
       "      <td>299.4</td>\n",
       "      <td>71</td>\n",
       "      <td>57.0</td>\n",
       "      <td>3.10</td>\n",
       "      <td>6.6</td>\n",
       "    </tr>\n",
       "    <tr>\n",
       "      <th>4</th>\n",
       "      <td>0</td>\n",
       "      <td>75</td>\n",
       "      <td>0</td>\n",
       "      <td>0</td>\n",
       "      <td>0.0</td>\n",
       "      <td>3</td>\n",
       "      <td>166.7</td>\n",
       "      <td>113</td>\n",
       "      <td>41.0</td>\n",
       "      <td>7.42</td>\n",
       "      <td>10.1</td>\n",
       "    </tr>\n",
       "  </tbody>\n",
       "</table>\n",
       "</div>"
      ],
      "text/plain": [
       "   Leave  MemberWeeks  NewContract  IsData  DataAmount  Callcenter  CalMins  \\\n",
       "0      0          128            1       1         2.7           1    265.1   \n",
       "1      0          107            1       1         3.7           1    161.6   \n",
       "2      0          137            1       0         0.0           0    243.4   \n",
       "3      0           84            0       0         0.0           2    299.4   \n",
       "4      0           75            0       0         0.0           3    166.7   \n",
       "\n",
       "   CalCounts  MonthlyFee  OverFee  RoamingMin  \n",
       "0        110        89.0     9.87        10.0  \n",
       "1        123        82.0     9.78        13.7  \n",
       "2        114        52.0     6.06        12.2  \n",
       "3         71        57.0     3.10         6.6  \n",
       "4        113        41.0     7.42        10.1  "
      ]
     },
     "execution_count": 5,
     "metadata": {},
     "output_type": "execute_result"
    }
   ],
   "source": [
    "phone.head(5)"
   ]
  },
  {
   "cell_type": "markdown",
   "metadata": {},
   "source": [
    "데이터를 보고 각 컬럼의 영어네임을 한글로 변경해봤습니다."
   ]
  },
  {
   "cell_type": "code",
   "execution_count": 6,
   "metadata": {},
   "outputs": [],
   "source": [
    "phone.rename(columns={'Leave':'가입해지여부(1이면 해지)','MemberWeeks':'가입기간','NewContract':'가입갱신여부(1이면 갱신)',\n",
    "                       'IsData':'데이터요금제사용여부(1이면 사용)','DataAmount':'데이터사용량(GB)','DataAmount':'데이터사용량(GB)',\n",
    "                       'Callcenter':'고객센터전화량','CalMins':'월평균전화량(분)','CalCounts':'월평균전화수(횟수)',\n",
    "                       'MonthlyFee':'월평균요금','OverFee':'초과요금','RoamingMin':'로밍시간(분)'},inplace=True)"
   ]
  },
  {
   "cell_type": "markdown",
   "metadata": {},
   "source": [
    "한글로 변경한값들이 잘 입력되었는지 확인해봤습니다."
   ]
  },
  {
   "cell_type": "code",
   "execution_count": 7,
   "metadata": {},
   "outputs": [
    {
     "data": {
      "text/html": [
       "<div>\n",
       "<style scoped>\n",
       "    .dataframe tbody tr th:only-of-type {\n",
       "        vertical-align: middle;\n",
       "    }\n",
       "\n",
       "    .dataframe tbody tr th {\n",
       "        vertical-align: top;\n",
       "    }\n",
       "\n",
       "    .dataframe thead th {\n",
       "        text-align: right;\n",
       "    }\n",
       "</style>\n",
       "<table border=\"1\" class=\"dataframe\">\n",
       "  <thead>\n",
       "    <tr style=\"text-align: right;\">\n",
       "      <th></th>\n",
       "      <th>가입해지여부(1이면 해지)</th>\n",
       "      <th>가입기간</th>\n",
       "      <th>가입갱신여부(1이면 갱신)</th>\n",
       "      <th>데이터요금제사용여부(1이면 사용)</th>\n",
       "      <th>데이터사용량(GB)</th>\n",
       "      <th>고객센터전화량</th>\n",
       "      <th>월평균전화량(분)</th>\n",
       "      <th>월평균전화수(횟수)</th>\n",
       "      <th>월평균요금</th>\n",
       "      <th>초과요금</th>\n",
       "      <th>로밍시간(분)</th>\n",
       "    </tr>\n",
       "  </thead>\n",
       "  <tbody>\n",
       "    <tr>\n",
       "      <th>0</th>\n",
       "      <td>0</td>\n",
       "      <td>128</td>\n",
       "      <td>1</td>\n",
       "      <td>1</td>\n",
       "      <td>2.70</td>\n",
       "      <td>1</td>\n",
       "      <td>265.1</td>\n",
       "      <td>110</td>\n",
       "      <td>89.0</td>\n",
       "      <td>9.87</td>\n",
       "      <td>10.0</td>\n",
       "    </tr>\n",
       "    <tr>\n",
       "      <th>1</th>\n",
       "      <td>0</td>\n",
       "      <td>107</td>\n",
       "      <td>1</td>\n",
       "      <td>1</td>\n",
       "      <td>3.70</td>\n",
       "      <td>1</td>\n",
       "      <td>161.6</td>\n",
       "      <td>123</td>\n",
       "      <td>82.0</td>\n",
       "      <td>9.78</td>\n",
       "      <td>13.7</td>\n",
       "    </tr>\n",
       "    <tr>\n",
       "      <th>2</th>\n",
       "      <td>0</td>\n",
       "      <td>137</td>\n",
       "      <td>1</td>\n",
       "      <td>0</td>\n",
       "      <td>0.00</td>\n",
       "      <td>0</td>\n",
       "      <td>243.4</td>\n",
       "      <td>114</td>\n",
       "      <td>52.0</td>\n",
       "      <td>6.06</td>\n",
       "      <td>12.2</td>\n",
       "    </tr>\n",
       "    <tr>\n",
       "      <th>3</th>\n",
       "      <td>0</td>\n",
       "      <td>84</td>\n",
       "      <td>0</td>\n",
       "      <td>0</td>\n",
       "      <td>0.00</td>\n",
       "      <td>2</td>\n",
       "      <td>299.4</td>\n",
       "      <td>71</td>\n",
       "      <td>57.0</td>\n",
       "      <td>3.10</td>\n",
       "      <td>6.6</td>\n",
       "    </tr>\n",
       "    <tr>\n",
       "      <th>4</th>\n",
       "      <td>0</td>\n",
       "      <td>75</td>\n",
       "      <td>0</td>\n",
       "      <td>0</td>\n",
       "      <td>0.00</td>\n",
       "      <td>3</td>\n",
       "      <td>166.7</td>\n",
       "      <td>113</td>\n",
       "      <td>41.0</td>\n",
       "      <td>7.42</td>\n",
       "      <td>10.1</td>\n",
       "    </tr>\n",
       "    <tr>\n",
       "      <th>...</th>\n",
       "      <td>...</td>\n",
       "      <td>...</td>\n",
       "      <td>...</td>\n",
       "      <td>...</td>\n",
       "      <td>...</td>\n",
       "      <td>...</td>\n",
       "      <td>...</td>\n",
       "      <td>...</td>\n",
       "      <td>...</td>\n",
       "      <td>...</td>\n",
       "      <td>...</td>\n",
       "    </tr>\n",
       "    <tr>\n",
       "      <th>3328</th>\n",
       "      <td>0</td>\n",
       "      <td>192</td>\n",
       "      <td>1</td>\n",
       "      <td>1</td>\n",
       "      <td>2.67</td>\n",
       "      <td>2</td>\n",
       "      <td>156.2</td>\n",
       "      <td>77</td>\n",
       "      <td>71.7</td>\n",
       "      <td>10.78</td>\n",
       "      <td>9.9</td>\n",
       "    </tr>\n",
       "    <tr>\n",
       "      <th>3329</th>\n",
       "      <td>0</td>\n",
       "      <td>68</td>\n",
       "      <td>1</td>\n",
       "      <td>0</td>\n",
       "      <td>0.34</td>\n",
       "      <td>3</td>\n",
       "      <td>231.1</td>\n",
       "      <td>57</td>\n",
       "      <td>56.4</td>\n",
       "      <td>7.67</td>\n",
       "      <td>9.6</td>\n",
       "    </tr>\n",
       "    <tr>\n",
       "      <th>3330</th>\n",
       "      <td>0</td>\n",
       "      <td>28</td>\n",
       "      <td>1</td>\n",
       "      <td>0</td>\n",
       "      <td>0.00</td>\n",
       "      <td>2</td>\n",
       "      <td>180.8</td>\n",
       "      <td>109</td>\n",
       "      <td>56.0</td>\n",
       "      <td>14.44</td>\n",
       "      <td>14.1</td>\n",
       "    </tr>\n",
       "    <tr>\n",
       "      <th>3331</th>\n",
       "      <td>0</td>\n",
       "      <td>184</td>\n",
       "      <td>0</td>\n",
       "      <td>0</td>\n",
       "      <td>0.00</td>\n",
       "      <td>2</td>\n",
       "      <td>213.8</td>\n",
       "      <td>105</td>\n",
       "      <td>50.0</td>\n",
       "      <td>7.98</td>\n",
       "      <td>5.0</td>\n",
       "    </tr>\n",
       "    <tr>\n",
       "      <th>3332</th>\n",
       "      <td>0</td>\n",
       "      <td>74</td>\n",
       "      <td>1</td>\n",
       "      <td>1</td>\n",
       "      <td>3.70</td>\n",
       "      <td>0</td>\n",
       "      <td>234.4</td>\n",
       "      <td>113</td>\n",
       "      <td>100.0</td>\n",
       "      <td>13.30</td>\n",
       "      <td>13.7</td>\n",
       "    </tr>\n",
       "  </tbody>\n",
       "</table>\n",
       "<p>3333 rows × 11 columns</p>\n",
       "</div>"
      ],
      "text/plain": [
       "      가입해지여부(1이면 해지)  가입기간  가입갱신여부(1이면 갱신)  데이터요금제사용여부(1이면 사용)  데이터사용량(GB)  \\\n",
       "0                  0   128               1                   1        2.70   \n",
       "1                  0   107               1                   1        3.70   \n",
       "2                  0   137               1                   0        0.00   \n",
       "3                  0    84               0                   0        0.00   \n",
       "4                  0    75               0                   0        0.00   \n",
       "...              ...   ...             ...                 ...         ...   \n",
       "3328               0   192               1                   1        2.67   \n",
       "3329               0    68               1                   0        0.34   \n",
       "3330               0    28               1                   0        0.00   \n",
       "3331               0   184               0                   0        0.00   \n",
       "3332               0    74               1                   1        3.70   \n",
       "\n",
       "      고객센터전화량  월평균전화량(분)  월평균전화수(횟수)  월평균요금   초과요금  로밍시간(분)  \n",
       "0           1      265.1         110   89.0   9.87     10.0  \n",
       "1           1      161.6         123   82.0   9.78     13.7  \n",
       "2           0      243.4         114   52.0   6.06     12.2  \n",
       "3           2      299.4          71   57.0   3.10      6.6  \n",
       "4           3      166.7         113   41.0   7.42     10.1  \n",
       "...       ...        ...         ...    ...    ...      ...  \n",
       "3328        2      156.2          77   71.7  10.78      9.9  \n",
       "3329        3      231.1          57   56.4   7.67      9.6  \n",
       "3330        2      180.8         109   56.0  14.44     14.1  \n",
       "3331        2      213.8         105   50.0   7.98      5.0  \n",
       "3332        0      234.4         113  100.0  13.30     13.7  \n",
       "\n",
       "[3333 rows x 11 columns]"
      ]
     },
     "execution_count": 7,
     "metadata": {},
     "output_type": "execute_result"
    }
   ],
   "source": [
    "phone"
   ]
  },
  {
   "cell_type": "markdown",
   "metadata": {},
   "source": [
    "iloc을 이용해 11개의 데이터들을 확인했습니다."
   ]
  },
  {
   "cell_type": "code",
   "execution_count": 8,
   "metadata": {},
   "outputs": [
    {
     "data": {
      "text/html": [
       "<div>\n",
       "<style scoped>\n",
       "    .dataframe tbody tr th:only-of-type {\n",
       "        vertical-align: middle;\n",
       "    }\n",
       "\n",
       "    .dataframe tbody tr th {\n",
       "        vertical-align: top;\n",
       "    }\n",
       "\n",
       "    .dataframe thead th {\n",
       "        text-align: right;\n",
       "    }\n",
       "</style>\n",
       "<table border=\"1\" class=\"dataframe\">\n",
       "  <thead>\n",
       "    <tr style=\"text-align: right;\">\n",
       "      <th></th>\n",
       "      <th>가입해지여부(1이면 해지)</th>\n",
       "      <th>가입기간</th>\n",
       "      <th>가입갱신여부(1이면 갱신)</th>\n",
       "      <th>데이터요금제사용여부(1이면 사용)</th>\n",
       "      <th>데이터사용량(GB)</th>\n",
       "      <th>고객센터전화량</th>\n",
       "      <th>월평균전화량(분)</th>\n",
       "      <th>월평균전화수(횟수)</th>\n",
       "      <th>월평균요금</th>\n",
       "      <th>초과요금</th>\n",
       "      <th>로밍시간(분)</th>\n",
       "    </tr>\n",
       "  </thead>\n",
       "  <tbody>\n",
       "    <tr>\n",
       "      <th>0</th>\n",
       "      <td>0</td>\n",
       "      <td>128</td>\n",
       "      <td>1</td>\n",
       "      <td>1</td>\n",
       "      <td>2.70</td>\n",
       "      <td>1</td>\n",
       "      <td>265.1</td>\n",
       "      <td>110</td>\n",
       "      <td>89.0</td>\n",
       "      <td>9.87</td>\n",
       "      <td>10.0</td>\n",
       "    </tr>\n",
       "    <tr>\n",
       "      <th>1</th>\n",
       "      <td>0</td>\n",
       "      <td>107</td>\n",
       "      <td>1</td>\n",
       "      <td>1</td>\n",
       "      <td>3.70</td>\n",
       "      <td>1</td>\n",
       "      <td>161.6</td>\n",
       "      <td>123</td>\n",
       "      <td>82.0</td>\n",
       "      <td>9.78</td>\n",
       "      <td>13.7</td>\n",
       "    </tr>\n",
       "    <tr>\n",
       "      <th>2</th>\n",
       "      <td>0</td>\n",
       "      <td>137</td>\n",
       "      <td>1</td>\n",
       "      <td>0</td>\n",
       "      <td>0.00</td>\n",
       "      <td>0</td>\n",
       "      <td>243.4</td>\n",
       "      <td>114</td>\n",
       "      <td>52.0</td>\n",
       "      <td>6.06</td>\n",
       "      <td>12.2</td>\n",
       "    </tr>\n",
       "    <tr>\n",
       "      <th>3</th>\n",
       "      <td>0</td>\n",
       "      <td>84</td>\n",
       "      <td>0</td>\n",
       "      <td>0</td>\n",
       "      <td>0.00</td>\n",
       "      <td>2</td>\n",
       "      <td>299.4</td>\n",
       "      <td>71</td>\n",
       "      <td>57.0</td>\n",
       "      <td>3.10</td>\n",
       "      <td>6.6</td>\n",
       "    </tr>\n",
       "    <tr>\n",
       "      <th>4</th>\n",
       "      <td>0</td>\n",
       "      <td>75</td>\n",
       "      <td>0</td>\n",
       "      <td>0</td>\n",
       "      <td>0.00</td>\n",
       "      <td>3</td>\n",
       "      <td>166.7</td>\n",
       "      <td>113</td>\n",
       "      <td>41.0</td>\n",
       "      <td>7.42</td>\n",
       "      <td>10.1</td>\n",
       "    </tr>\n",
       "    <tr>\n",
       "      <th>5</th>\n",
       "      <td>0</td>\n",
       "      <td>118</td>\n",
       "      <td>0</td>\n",
       "      <td>0</td>\n",
       "      <td>0.00</td>\n",
       "      <td>0</td>\n",
       "      <td>223.4</td>\n",
       "      <td>98</td>\n",
       "      <td>57.0</td>\n",
       "      <td>11.03</td>\n",
       "      <td>6.3</td>\n",
       "    </tr>\n",
       "    <tr>\n",
       "      <th>6</th>\n",
       "      <td>0</td>\n",
       "      <td>121</td>\n",
       "      <td>1</td>\n",
       "      <td>1</td>\n",
       "      <td>2.03</td>\n",
       "      <td>3</td>\n",
       "      <td>218.2</td>\n",
       "      <td>88</td>\n",
       "      <td>87.3</td>\n",
       "      <td>17.43</td>\n",
       "      <td>7.5</td>\n",
       "    </tr>\n",
       "    <tr>\n",
       "      <th>7</th>\n",
       "      <td>0</td>\n",
       "      <td>147</td>\n",
       "      <td>0</td>\n",
       "      <td>0</td>\n",
       "      <td>0.00</td>\n",
       "      <td>0</td>\n",
       "      <td>157.0</td>\n",
       "      <td>79</td>\n",
       "      <td>36.0</td>\n",
       "      <td>5.16</td>\n",
       "      <td>7.1</td>\n",
       "    </tr>\n",
       "    <tr>\n",
       "      <th>8</th>\n",
       "      <td>0</td>\n",
       "      <td>117</td>\n",
       "      <td>1</td>\n",
       "      <td>0</td>\n",
       "      <td>0.19</td>\n",
       "      <td>1</td>\n",
       "      <td>184.5</td>\n",
       "      <td>97</td>\n",
       "      <td>63.9</td>\n",
       "      <td>17.58</td>\n",
       "      <td>8.7</td>\n",
       "    </tr>\n",
       "    <tr>\n",
       "      <th>9</th>\n",
       "      <td>0</td>\n",
       "      <td>141</td>\n",
       "      <td>0</td>\n",
       "      <td>1</td>\n",
       "      <td>3.02</td>\n",
       "      <td>0</td>\n",
       "      <td>258.6</td>\n",
       "      <td>84</td>\n",
       "      <td>93.2</td>\n",
       "      <td>11.10</td>\n",
       "      <td>11.2</td>\n",
       "    </tr>\n",
       "    <tr>\n",
       "      <th>10</th>\n",
       "      <td>1</td>\n",
       "      <td>65</td>\n",
       "      <td>1</td>\n",
       "      <td>0</td>\n",
       "      <td>0.29</td>\n",
       "      <td>4</td>\n",
       "      <td>129.1</td>\n",
       "      <td>137</td>\n",
       "      <td>44.9</td>\n",
       "      <td>11.43</td>\n",
       "      <td>12.7</td>\n",
       "    </tr>\n",
       "  </tbody>\n",
       "</table>\n",
       "</div>"
      ],
      "text/plain": [
       "    가입해지여부(1이면 해지)  가입기간  가입갱신여부(1이면 갱신)  데이터요금제사용여부(1이면 사용)  데이터사용량(GB)  \\\n",
       "0                0   128               1                   1        2.70   \n",
       "1                0   107               1                   1        3.70   \n",
       "2                0   137               1                   0        0.00   \n",
       "3                0    84               0                   0        0.00   \n",
       "4                0    75               0                   0        0.00   \n",
       "5                0   118               0                   0        0.00   \n",
       "6                0   121               1                   1        2.03   \n",
       "7                0   147               0                   0        0.00   \n",
       "8                0   117               1                   0        0.19   \n",
       "9                0   141               0                   1        3.02   \n",
       "10               1    65               1                   0        0.29   \n",
       "\n",
       "    고객센터전화량  월평균전화량(분)  월평균전화수(횟수)  월평균요금   초과요금  로밍시간(분)  \n",
       "0         1      265.1         110   89.0   9.87     10.0  \n",
       "1         1      161.6         123   82.0   9.78     13.7  \n",
       "2         0      243.4         114   52.0   6.06     12.2  \n",
       "3         2      299.4          71   57.0   3.10      6.6  \n",
       "4         3      166.7         113   41.0   7.42     10.1  \n",
       "5         0      223.4          98   57.0  11.03      6.3  \n",
       "6         3      218.2          88   87.3  17.43      7.5  \n",
       "7         0      157.0          79   36.0   5.16      7.1  \n",
       "8         1      184.5          97   63.9  17.58      8.7  \n",
       "9         0      258.6          84   93.2  11.10     11.2  \n",
       "10        4      129.1         137   44.9  11.43     12.7  "
      ]
     },
     "execution_count": 8,
     "metadata": {},
     "output_type": "execute_result"
    }
   ],
   "source": [
    "phone.iloc[0:11]"
   ]
  },
  {
   "cell_type": "code",
   "execution_count": 9,
   "metadata": {
    "scrolled": true
   },
   "outputs": [
    {
     "data": {
      "text/plain": [
       "int64      6\n",
       "float64    5\n",
       "dtype: int64"
      ]
     },
     "execution_count": 9,
     "metadata": {},
     "output_type": "execute_result"
    }
   ],
   "source": [
    "phone.dtypes.value_counts()"
   ]
  },
  {
   "cell_type": "markdown",
   "metadata": {},
   "source": [
    "value_counts를 사용해 Dtype을 확인해보니 int64는 6개 float64 5개가 있는것을 확인 할 수 있었습니다."
   ]
  },
  {
   "cell_type": "code",
   "execution_count": 10,
   "metadata": {
    "scrolled": true
   },
   "outputs": [
    {
     "name": "stdout",
     "output_type": "stream",
     "text": [
      "<class 'pandas.core.frame.DataFrame'>\n",
      "RangeIndex: 3333 entries, 0 to 3332\n",
      "Data columns (total 11 columns):\n",
      " #   Column              Non-Null Count  Dtype  \n",
      "---  ------              --------------  -----  \n",
      " 0   가입해지여부(1이면 해지)      3333 non-null   int64  \n",
      " 1   가입기간                3333 non-null   int64  \n",
      " 2   가입갱신여부(1이면 갱신)      3333 non-null   int64  \n",
      " 3   데이터요금제사용여부(1이면 사용)  3333 non-null   int64  \n",
      " 4   데이터사용량(GB)          3333 non-null   float64\n",
      " 5   고객센터전화량             3333 non-null   int64  \n",
      " 6   월평균전화량(분)           3333 non-null   float64\n",
      " 7   월평균전화수(횟수)          3333 non-null   int64  \n",
      " 8   월평균요금               3333 non-null   float64\n",
      " 9   초과요금                3333 non-null   float64\n",
      " 10  로밍시간(분)             3333 non-null   float64\n",
      "dtypes: float64(5), int64(6)\n",
      "memory usage: 286.6 KB\n"
     ]
    }
   ],
   "source": [
    "phone.info()"
   ]
  },
  {
   "cell_type": "code",
   "execution_count": 11,
   "metadata": {},
   "outputs": [
    {
     "data": {
      "text/plain": [
       "Index(['가입해지여부(1이면 해지)', '가입기간', '가입갱신여부(1이면 갱신)', '데이터요금제사용여부(1이면 사용)',\n",
       "       '데이터사용량(GB)', '고객센터전화량', '월평균전화량(분)', '월평균전화수(횟수)', '월평균요금', '초과요금',\n",
       "       '로밍시간(분)'],\n",
       "      dtype='object')"
      ]
     },
     "execution_count": 11,
     "metadata": {},
     "output_type": "execute_result"
    }
   ],
   "source": [
    "phone.columns"
   ]
  },
  {
   "cell_type": "code",
   "execution_count": 12,
   "metadata": {},
   "outputs": [
    {
     "data": {
      "text/plain": [
       "(3333, 11)"
      ]
     },
     "execution_count": 12,
     "metadata": {},
     "output_type": "execute_result"
    }
   ],
   "source": [
    "phone.shape"
   ]
  },
  {
   "cell_type": "markdown",
   "metadata": {},
   "source": [
    "phone 데이터는 3333개의 row 11개의 columns를 가지고 있습니다."
   ]
  },
  {
   "cell_type": "code",
   "execution_count": 13,
   "metadata": {},
   "outputs": [
    {
     "data": {
      "text/plain": [
       "가입해지여부(1이면 해지)        0\n",
       "가입기간                  0\n",
       "가입갱신여부(1이면 갱신)        0\n",
       "데이터요금제사용여부(1이면 사용)    0\n",
       "데이터사용량(GB)            0\n",
       "고객센터전화량               0\n",
       "월평균전화량(분)             0\n",
       "월평균전화수(횟수)            0\n",
       "월평균요금                 0\n",
       "초과요금                  0\n",
       "로밍시간(분)               0\n",
       "dtype: int64"
      ]
     },
     "execution_count": 13,
     "metadata": {},
     "output_type": "execute_result"
    }
   ],
   "source": [
    "phone.isnull().sum()"
   ]
  },
  {
   "cell_type": "markdown",
   "metadata": {},
   "source": [
    "phone 데이터의 결측치는 없습니다."
   ]
  },
  {
   "cell_type": "code",
   "execution_count": 14,
   "metadata": {},
   "outputs": [
    {
     "data": {
      "text/html": [
       "<div>\n",
       "<style scoped>\n",
       "    .dataframe tbody tr th:only-of-type {\n",
       "        vertical-align: middle;\n",
       "    }\n",
       "\n",
       "    .dataframe tbody tr th {\n",
       "        vertical-align: top;\n",
       "    }\n",
       "\n",
       "    .dataframe thead th {\n",
       "        text-align: right;\n",
       "    }\n",
       "</style>\n",
       "<table border=\"1\" class=\"dataframe\">\n",
       "  <thead>\n",
       "    <tr style=\"text-align: right;\">\n",
       "      <th></th>\n",
       "      <th>count</th>\n",
       "      <th>mean</th>\n",
       "      <th>std</th>\n",
       "      <th>min</th>\n",
       "      <th>25%</th>\n",
       "      <th>50%</th>\n",
       "      <th>75%</th>\n",
       "      <th>max</th>\n",
       "    </tr>\n",
       "  </thead>\n",
       "  <tbody>\n",
       "    <tr>\n",
       "      <th>가입해지여부(1이면 해지)</th>\n",
       "      <td>3333.0</td>\n",
       "      <td>0.144914</td>\n",
       "      <td>0.352067</td>\n",
       "      <td>0.0</td>\n",
       "      <td>0.00</td>\n",
       "      <td>0.00</td>\n",
       "      <td>0.00</td>\n",
       "      <td>1.00</td>\n",
       "    </tr>\n",
       "    <tr>\n",
       "      <th>가입기간</th>\n",
       "      <td>3333.0</td>\n",
       "      <td>101.064806</td>\n",
       "      <td>39.822106</td>\n",
       "      <td>1.0</td>\n",
       "      <td>74.00</td>\n",
       "      <td>101.00</td>\n",
       "      <td>127.00</td>\n",
       "      <td>243.00</td>\n",
       "    </tr>\n",
       "    <tr>\n",
       "      <th>가입갱신여부(1이면 갱신)</th>\n",
       "      <td>3333.0</td>\n",
       "      <td>0.903090</td>\n",
       "      <td>0.295879</td>\n",
       "      <td>0.0</td>\n",
       "      <td>1.00</td>\n",
       "      <td>1.00</td>\n",
       "      <td>1.00</td>\n",
       "      <td>1.00</td>\n",
       "    </tr>\n",
       "    <tr>\n",
       "      <th>데이터요금제사용여부(1이면 사용)</th>\n",
       "      <td>3333.0</td>\n",
       "      <td>0.276628</td>\n",
       "      <td>0.447398</td>\n",
       "      <td>0.0</td>\n",
       "      <td>0.00</td>\n",
       "      <td>0.00</td>\n",
       "      <td>1.00</td>\n",
       "      <td>1.00</td>\n",
       "    </tr>\n",
       "    <tr>\n",
       "      <th>데이터사용량(GB)</th>\n",
       "      <td>3333.0</td>\n",
       "      <td>0.816475</td>\n",
       "      <td>1.272668</td>\n",
       "      <td>0.0</td>\n",
       "      <td>0.00</td>\n",
       "      <td>0.00</td>\n",
       "      <td>1.78</td>\n",
       "      <td>5.40</td>\n",
       "    </tr>\n",
       "    <tr>\n",
       "      <th>고객센터전화량</th>\n",
       "      <td>3333.0</td>\n",
       "      <td>1.562856</td>\n",
       "      <td>1.315491</td>\n",
       "      <td>0.0</td>\n",
       "      <td>1.00</td>\n",
       "      <td>1.00</td>\n",
       "      <td>2.00</td>\n",
       "      <td>9.00</td>\n",
       "    </tr>\n",
       "    <tr>\n",
       "      <th>월평균전화량(분)</th>\n",
       "      <td>3333.0</td>\n",
       "      <td>179.775098</td>\n",
       "      <td>54.467389</td>\n",
       "      <td>0.0</td>\n",
       "      <td>143.70</td>\n",
       "      <td>179.40</td>\n",
       "      <td>216.40</td>\n",
       "      <td>350.80</td>\n",
       "    </tr>\n",
       "    <tr>\n",
       "      <th>월평균전화수(횟수)</th>\n",
       "      <td>3333.0</td>\n",
       "      <td>100.435644</td>\n",
       "      <td>20.069084</td>\n",
       "      <td>0.0</td>\n",
       "      <td>87.00</td>\n",
       "      <td>101.00</td>\n",
       "      <td>114.00</td>\n",
       "      <td>165.00</td>\n",
       "    </tr>\n",
       "    <tr>\n",
       "      <th>월평균요금</th>\n",
       "      <td>3333.0</td>\n",
       "      <td>56.305161</td>\n",
       "      <td>16.426032</td>\n",
       "      <td>14.0</td>\n",
       "      <td>45.00</td>\n",
       "      <td>53.50</td>\n",
       "      <td>66.20</td>\n",
       "      <td>111.30</td>\n",
       "    </tr>\n",
       "    <tr>\n",
       "      <th>초과요금</th>\n",
       "      <td>3333.0</td>\n",
       "      <td>10.051488</td>\n",
       "      <td>2.535712</td>\n",
       "      <td>0.0</td>\n",
       "      <td>8.33</td>\n",
       "      <td>10.07</td>\n",
       "      <td>11.77</td>\n",
       "      <td>18.19</td>\n",
       "    </tr>\n",
       "    <tr>\n",
       "      <th>로밍시간(분)</th>\n",
       "      <td>3333.0</td>\n",
       "      <td>10.237294</td>\n",
       "      <td>2.791840</td>\n",
       "      <td>0.0</td>\n",
       "      <td>8.50</td>\n",
       "      <td>10.30</td>\n",
       "      <td>12.10</td>\n",
       "      <td>20.00</td>\n",
       "    </tr>\n",
       "  </tbody>\n",
       "</table>\n",
       "</div>"
      ],
      "text/plain": [
       "                     count        mean        std   min     25%     50%  \\\n",
       "가입해지여부(1이면 해지)      3333.0    0.144914   0.352067   0.0    0.00    0.00   \n",
       "가입기간                3333.0  101.064806  39.822106   1.0   74.00  101.00   \n",
       "가입갱신여부(1이면 갱신)      3333.0    0.903090   0.295879   0.0    1.00    1.00   \n",
       "데이터요금제사용여부(1이면 사용)  3333.0    0.276628   0.447398   0.0    0.00    0.00   \n",
       "데이터사용량(GB)          3333.0    0.816475   1.272668   0.0    0.00    0.00   \n",
       "고객센터전화량             3333.0    1.562856   1.315491   0.0    1.00    1.00   \n",
       "월평균전화량(분)           3333.0  179.775098  54.467389   0.0  143.70  179.40   \n",
       "월평균전화수(횟수)          3333.0  100.435644  20.069084   0.0   87.00  101.00   \n",
       "월평균요금               3333.0   56.305161  16.426032  14.0   45.00   53.50   \n",
       "초과요금                3333.0   10.051488   2.535712   0.0    8.33   10.07   \n",
       "로밍시간(분)             3333.0   10.237294   2.791840   0.0    8.50   10.30   \n",
       "\n",
       "                       75%     max  \n",
       "가입해지여부(1이면 해지)        0.00    1.00  \n",
       "가입기간                127.00  243.00  \n",
       "가입갱신여부(1이면 갱신)        1.00    1.00  \n",
       "데이터요금제사용여부(1이면 사용)    1.00    1.00  \n",
       "데이터사용량(GB)            1.78    5.40  \n",
       "고객센터전화량               2.00    9.00  \n",
       "월평균전화량(분)           216.40  350.80  \n",
       "월평균전화수(횟수)          114.00  165.00  \n",
       "월평균요금                66.20  111.30  \n",
       "초과요금                 11.77   18.19  \n",
       "로밍시간(분)              12.10   20.00  "
      ]
     },
     "execution_count": 14,
     "metadata": {},
     "output_type": "execute_result"
    }
   ],
   "source": [
    "phone.describe().T"
   ]
  },
  {
   "cell_type": "markdown",
   "metadata": {},
   "source": [
    "describe().T 를 이용해 수치형 데이터의 기술 통계를 구해서 각 컬럼들의 수치들을 확인해봤습니다."
   ]
  },
  {
   "cell_type": "markdown",
   "metadata": {},
   "source": [
    "좀더 상세한 수치를 보기위해 1%,5%,10%,25%,50%,75%,90%,95%,99% 별로 확인해봤습니다."
   ]
  },
  {
   "cell_type": "code",
   "execution_count": 15,
   "metadata": {},
   "outputs": [
    {
     "data": {
      "text/html": [
       "<div>\n",
       "<style scoped>\n",
       "    .dataframe tbody tr th:only-of-type {\n",
       "        vertical-align: middle;\n",
       "    }\n",
       "\n",
       "    .dataframe tbody tr th {\n",
       "        vertical-align: top;\n",
       "    }\n",
       "\n",
       "    .dataframe thead th {\n",
       "        text-align: right;\n",
       "    }\n",
       "</style>\n",
       "<table border=\"1\" class=\"dataframe\">\n",
       "  <thead>\n",
       "    <tr style=\"text-align: right;\">\n",
       "      <th></th>\n",
       "      <th>count</th>\n",
       "      <th>mean</th>\n",
       "      <th>std</th>\n",
       "      <th>min</th>\n",
       "      <th>1%</th>\n",
       "      <th>5%</th>\n",
       "      <th>10%</th>\n",
       "      <th>25%</th>\n",
       "      <th>50%</th>\n",
       "      <th>75%</th>\n",
       "      <th>90%</th>\n",
       "      <th>95%</th>\n",
       "      <th>99%</th>\n",
       "      <th>max</th>\n",
       "    </tr>\n",
       "  </thead>\n",
       "  <tbody>\n",
       "    <tr>\n",
       "      <th>가입해지여부(1이면 해지)</th>\n",
       "      <td>3333.0</td>\n",
       "      <td>0.144914</td>\n",
       "      <td>0.352067</td>\n",
       "      <td>0.0</td>\n",
       "      <td>0.0000</td>\n",
       "      <td>0.00</td>\n",
       "      <td>0.00</td>\n",
       "      <td>0.00</td>\n",
       "      <td>0.00</td>\n",
       "      <td>0.00</td>\n",
       "      <td>1.00</td>\n",
       "      <td>1.00</td>\n",
       "      <td>1.0000</td>\n",
       "      <td>1.00</td>\n",
       "    </tr>\n",
       "    <tr>\n",
       "      <th>가입기간</th>\n",
       "      <td>3333.0</td>\n",
       "      <td>101.064806</td>\n",
       "      <td>39.822106</td>\n",
       "      <td>1.0</td>\n",
       "      <td>12.3200</td>\n",
       "      <td>35.00</td>\n",
       "      <td>50.00</td>\n",
       "      <td>74.00</td>\n",
       "      <td>101.00</td>\n",
       "      <td>127.00</td>\n",
       "      <td>152.00</td>\n",
       "      <td>167.00</td>\n",
       "      <td>195.0000</td>\n",
       "      <td>243.00</td>\n",
       "    </tr>\n",
       "    <tr>\n",
       "      <th>가입갱신여부(1이면 갱신)</th>\n",
       "      <td>3333.0</td>\n",
       "      <td>0.903090</td>\n",
       "      <td>0.295879</td>\n",
       "      <td>0.0</td>\n",
       "      <td>0.0000</td>\n",
       "      <td>0.00</td>\n",
       "      <td>1.00</td>\n",
       "      <td>1.00</td>\n",
       "      <td>1.00</td>\n",
       "      <td>1.00</td>\n",
       "      <td>1.00</td>\n",
       "      <td>1.00</td>\n",
       "      <td>1.0000</td>\n",
       "      <td>1.00</td>\n",
       "    </tr>\n",
       "    <tr>\n",
       "      <th>데이터요금제사용여부(1이면 사용)</th>\n",
       "      <td>3333.0</td>\n",
       "      <td>0.276628</td>\n",
       "      <td>0.447398</td>\n",
       "      <td>0.0</td>\n",
       "      <td>0.0000</td>\n",
       "      <td>0.00</td>\n",
       "      <td>0.00</td>\n",
       "      <td>0.00</td>\n",
       "      <td>0.00</td>\n",
       "      <td>1.00</td>\n",
       "      <td>1.00</td>\n",
       "      <td>1.00</td>\n",
       "      <td>1.0000</td>\n",
       "      <td>1.00</td>\n",
       "    </tr>\n",
       "    <tr>\n",
       "      <th>데이터사용량(GB)</th>\n",
       "      <td>3333.0</td>\n",
       "      <td>0.816475</td>\n",
       "      <td>1.272668</td>\n",
       "      <td>0.0</td>\n",
       "      <td>0.0000</td>\n",
       "      <td>0.00</td>\n",
       "      <td>0.00</td>\n",
       "      <td>0.00</td>\n",
       "      <td>0.00</td>\n",
       "      <td>1.78</td>\n",
       "      <td>3.05</td>\n",
       "      <td>3.46</td>\n",
       "      <td>4.1000</td>\n",
       "      <td>5.40</td>\n",
       "    </tr>\n",
       "    <tr>\n",
       "      <th>고객센터전화량</th>\n",
       "      <td>3333.0</td>\n",
       "      <td>1.562856</td>\n",
       "      <td>1.315491</td>\n",
       "      <td>0.0</td>\n",
       "      <td>0.0000</td>\n",
       "      <td>0.00</td>\n",
       "      <td>0.00</td>\n",
       "      <td>1.00</td>\n",
       "      <td>1.00</td>\n",
       "      <td>2.00</td>\n",
       "      <td>3.00</td>\n",
       "      <td>4.00</td>\n",
       "      <td>6.0000</td>\n",
       "      <td>9.00</td>\n",
       "    </tr>\n",
       "    <tr>\n",
       "      <th>월평균전화량(분)</th>\n",
       "      <td>3333.0</td>\n",
       "      <td>179.775098</td>\n",
       "      <td>54.467389</td>\n",
       "      <td>0.0</td>\n",
       "      <td>51.8320</td>\n",
       "      <td>89.92</td>\n",
       "      <td>110.32</td>\n",
       "      <td>143.70</td>\n",
       "      <td>179.40</td>\n",
       "      <td>216.40</td>\n",
       "      <td>249.58</td>\n",
       "      <td>270.74</td>\n",
       "      <td>305.1680</td>\n",
       "      <td>350.80</td>\n",
       "    </tr>\n",
       "    <tr>\n",
       "      <th>월평균전화수(횟수)</th>\n",
       "      <td>3333.0</td>\n",
       "      <td>100.435644</td>\n",
       "      <td>20.069084</td>\n",
       "      <td>0.0</td>\n",
       "      <td>54.0000</td>\n",
       "      <td>67.00</td>\n",
       "      <td>74.20</td>\n",
       "      <td>87.00</td>\n",
       "      <td>101.00</td>\n",
       "      <td>114.00</td>\n",
       "      <td>126.00</td>\n",
       "      <td>133.00</td>\n",
       "      <td>146.0000</td>\n",
       "      <td>165.00</td>\n",
       "    </tr>\n",
       "    <tr>\n",
       "      <th>월평균요금</th>\n",
       "      <td>3333.0</td>\n",
       "      <td>56.305161</td>\n",
       "      <td>16.426032</td>\n",
       "      <td>14.0</td>\n",
       "      <td>26.0000</td>\n",
       "      <td>33.26</td>\n",
       "      <td>38.00</td>\n",
       "      <td>45.00</td>\n",
       "      <td>53.50</td>\n",
       "      <td>66.20</td>\n",
       "      <td>80.50</td>\n",
       "      <td>87.80</td>\n",
       "      <td>98.2800</td>\n",
       "      <td>111.30</td>\n",
       "    </tr>\n",
       "    <tr>\n",
       "      <th>초과요금</th>\n",
       "      <td>3333.0</td>\n",
       "      <td>10.051488</td>\n",
       "      <td>2.535712</td>\n",
       "      <td>0.0</td>\n",
       "      <td>3.9796</td>\n",
       "      <td>5.94</td>\n",
       "      <td>6.84</td>\n",
       "      <td>8.33</td>\n",
       "      <td>10.07</td>\n",
       "      <td>11.77</td>\n",
       "      <td>13.29</td>\n",
       "      <td>14.22</td>\n",
       "      <td>15.9468</td>\n",
       "      <td>18.19</td>\n",
       "    </tr>\n",
       "    <tr>\n",
       "      <th>로밍시간(분)</th>\n",
       "      <td>3333.0</td>\n",
       "      <td>10.237294</td>\n",
       "      <td>2.791840</td>\n",
       "      <td>0.0</td>\n",
       "      <td>3.3320</td>\n",
       "      <td>5.70</td>\n",
       "      <td>6.70</td>\n",
       "      <td>8.50</td>\n",
       "      <td>10.30</td>\n",
       "      <td>12.10</td>\n",
       "      <td>13.70</td>\n",
       "      <td>14.70</td>\n",
       "      <td>16.6680</td>\n",
       "      <td>20.00</td>\n",
       "    </tr>\n",
       "  </tbody>\n",
       "</table>\n",
       "</div>"
      ],
      "text/plain": [
       "                     count        mean        std   min       1%     5%  \\\n",
       "가입해지여부(1이면 해지)      3333.0    0.144914   0.352067   0.0   0.0000   0.00   \n",
       "가입기간                3333.0  101.064806  39.822106   1.0  12.3200  35.00   \n",
       "가입갱신여부(1이면 갱신)      3333.0    0.903090   0.295879   0.0   0.0000   0.00   \n",
       "데이터요금제사용여부(1이면 사용)  3333.0    0.276628   0.447398   0.0   0.0000   0.00   \n",
       "데이터사용량(GB)          3333.0    0.816475   1.272668   0.0   0.0000   0.00   \n",
       "고객센터전화량             3333.0    1.562856   1.315491   0.0   0.0000   0.00   \n",
       "월평균전화량(분)           3333.0  179.775098  54.467389   0.0  51.8320  89.92   \n",
       "월평균전화수(횟수)          3333.0  100.435644  20.069084   0.0  54.0000  67.00   \n",
       "월평균요금               3333.0   56.305161  16.426032  14.0  26.0000  33.26   \n",
       "초과요금                3333.0   10.051488   2.535712   0.0   3.9796   5.94   \n",
       "로밍시간(분)             3333.0   10.237294   2.791840   0.0   3.3320   5.70   \n",
       "\n",
       "                       10%     25%     50%     75%     90%     95%       99%  \\\n",
       "가입해지여부(1이면 해지)        0.00    0.00    0.00    0.00    1.00    1.00    1.0000   \n",
       "가입기간                 50.00   74.00  101.00  127.00  152.00  167.00  195.0000   \n",
       "가입갱신여부(1이면 갱신)        1.00    1.00    1.00    1.00    1.00    1.00    1.0000   \n",
       "데이터요금제사용여부(1이면 사용)    0.00    0.00    0.00    1.00    1.00    1.00    1.0000   \n",
       "데이터사용량(GB)            0.00    0.00    0.00    1.78    3.05    3.46    4.1000   \n",
       "고객센터전화량               0.00    1.00    1.00    2.00    3.00    4.00    6.0000   \n",
       "월평균전화량(분)           110.32  143.70  179.40  216.40  249.58  270.74  305.1680   \n",
       "월평균전화수(횟수)           74.20   87.00  101.00  114.00  126.00  133.00  146.0000   \n",
       "월평균요금                38.00   45.00   53.50   66.20   80.50   87.80   98.2800   \n",
       "초과요금                  6.84    8.33   10.07   11.77   13.29   14.22   15.9468   \n",
       "로밍시간(분)               6.70    8.50   10.30   12.10   13.70   14.70   16.6680   \n",
       "\n",
       "                       max  \n",
       "가입해지여부(1이면 해지)        1.00  \n",
       "가입기간                243.00  \n",
       "가입갱신여부(1이면 갱신)        1.00  \n",
       "데이터요금제사용여부(1이면 사용)    1.00  \n",
       "데이터사용량(GB)            5.40  \n",
       "고객센터전화량               9.00  \n",
       "월평균전화량(분)           350.80  \n",
       "월평균전화수(횟수)          165.00  \n",
       "월평균요금               111.30  \n",
       "초과요금                 18.19  \n",
       "로밍시간(분)              20.00  "
      ]
     },
     "execution_count": 15,
     "metadata": {},
     "output_type": "execute_result"
    }
   ],
   "source": [
    "phone.describe(include=[np.number],\n",
    "                 percentiles=[\n",
    "                     .01,\n",
    "                     .05,\n",
    "                     .10,\n",
    "                     .25,\n",
    "                     .50,\n",
    "                     .75,\n",
    "                     .90,\n",
    "                     .95,\n",
    "                     .99\n",
    "                 ]).T"
   ]
  },
  {
   "cell_type": "markdown",
   "metadata": {},
   "source": [
    "np.finfo, np.iinfo 를 사용해 numpy에서 사용하는 float,int값들의 정보를 확인합니다."
   ]
  },
  {
   "cell_type": "code",
   "execution_count": 16,
   "metadata": {},
   "outputs": [
    {
     "data": {
      "text/plain": [
       "finfo(resolution=1e-15, min=-1.7976931348623157e+308, max=1.7976931348623157e+308, dtype=float64)"
      ]
     },
     "execution_count": 16,
     "metadata": {},
     "output_type": "execute_result"
    }
   ],
   "source": [
    "np.finfo('float64')"
   ]
  },
  {
   "cell_type": "code",
   "execution_count": 17,
   "metadata": {},
   "outputs": [
    {
     "data": {
      "text/plain": [
       "finfo(resolution=1e-06, min=-3.4028235e+38, max=3.4028235e+38, dtype=float32)"
      ]
     },
     "execution_count": 17,
     "metadata": {},
     "output_type": "execute_result"
    }
   ],
   "source": [
    "np.finfo('float32')"
   ]
  },
  {
   "cell_type": "code",
   "execution_count": 18,
   "metadata": {},
   "outputs": [
    {
     "data": {
      "text/plain": [
       "finfo(resolution=0.001, min=-6.55040e+04, max=6.55040e+04, dtype=float16)"
      ]
     },
     "execution_count": 18,
     "metadata": {},
     "output_type": "execute_result"
    }
   ],
   "source": [
    "np.finfo('float16')"
   ]
  },
  {
   "cell_type": "code",
   "execution_count": 19,
   "metadata": {},
   "outputs": [
    {
     "data": {
      "text/plain": [
       "iinfo(min=-9223372036854775808, max=9223372036854775807, dtype=int64)"
      ]
     },
     "execution_count": 19,
     "metadata": {},
     "output_type": "execute_result"
    }
   ],
   "source": [
    "np.iinfo('int64')"
   ]
  },
  {
   "cell_type": "code",
   "execution_count": 20,
   "metadata": {},
   "outputs": [
    {
     "data": {
      "text/plain": [
       "iinfo(min=-2147483648, max=2147483647, dtype=int32)"
      ]
     },
     "execution_count": 20,
     "metadata": {},
     "output_type": "execute_result"
    }
   ],
   "source": [
    "np.iinfo('int32')"
   ]
  },
  {
   "cell_type": "code",
   "execution_count": 21,
   "metadata": {},
   "outputs": [
    {
     "data": {
      "text/plain": [
       "iinfo(min=-32768, max=32767, dtype=int16)"
      ]
     },
     "execution_count": 21,
     "metadata": {},
     "output_type": "execute_result"
    }
   ],
   "source": [
    "np.iinfo('int16')"
   ]
  },
  {
   "cell_type": "markdown",
   "metadata": {},
   "source": [
    "float16,int16을 써도 되는지 확인하기 위해, head와 describe로 확인해봤습니다."
   ]
  },
  {
   "cell_type": "code",
   "execution_count": 22,
   "metadata": {},
   "outputs": [
    {
     "data": {
      "text/html": [
       "<div>\n",
       "<style scoped>\n",
       "    .dataframe tbody tr th:only-of-type {\n",
       "        vertical-align: middle;\n",
       "    }\n",
       "\n",
       "    .dataframe tbody tr th {\n",
       "        vertical-align: top;\n",
       "    }\n",
       "\n",
       "    .dataframe thead th {\n",
       "        text-align: right;\n",
       "    }\n",
       "</style>\n",
       "<table border=\"1\" class=\"dataframe\">\n",
       "  <thead>\n",
       "    <tr style=\"text-align: right;\">\n",
       "      <th></th>\n",
       "      <th>count</th>\n",
       "      <th>mean</th>\n",
       "      <th>std</th>\n",
       "      <th>min</th>\n",
       "      <th>25%</th>\n",
       "      <th>50%</th>\n",
       "      <th>75%</th>\n",
       "      <th>max</th>\n",
       "    </tr>\n",
       "  </thead>\n",
       "  <tbody>\n",
       "    <tr>\n",
       "      <th>가입해지여부(1이면 해지)</th>\n",
       "      <td>3333.0</td>\n",
       "      <td>0.144914</td>\n",
       "      <td>0.352067</td>\n",
       "      <td>0.0</td>\n",
       "      <td>0.00</td>\n",
       "      <td>0.00</td>\n",
       "      <td>0.00</td>\n",
       "      <td>1.00</td>\n",
       "    </tr>\n",
       "    <tr>\n",
       "      <th>가입기간</th>\n",
       "      <td>3333.0</td>\n",
       "      <td>101.064806</td>\n",
       "      <td>39.822106</td>\n",
       "      <td>1.0</td>\n",
       "      <td>74.00</td>\n",
       "      <td>101.00</td>\n",
       "      <td>127.00</td>\n",
       "      <td>243.00</td>\n",
       "    </tr>\n",
       "    <tr>\n",
       "      <th>가입갱신여부(1이면 갱신)</th>\n",
       "      <td>3333.0</td>\n",
       "      <td>0.903090</td>\n",
       "      <td>0.295879</td>\n",
       "      <td>0.0</td>\n",
       "      <td>1.00</td>\n",
       "      <td>1.00</td>\n",
       "      <td>1.00</td>\n",
       "      <td>1.00</td>\n",
       "    </tr>\n",
       "    <tr>\n",
       "      <th>데이터요금제사용여부(1이면 사용)</th>\n",
       "      <td>3333.0</td>\n",
       "      <td>0.276628</td>\n",
       "      <td>0.447398</td>\n",
       "      <td>0.0</td>\n",
       "      <td>0.00</td>\n",
       "      <td>0.00</td>\n",
       "      <td>1.00</td>\n",
       "      <td>1.00</td>\n",
       "    </tr>\n",
       "    <tr>\n",
       "      <th>데이터사용량(GB)</th>\n",
       "      <td>3333.0</td>\n",
       "      <td>0.816475</td>\n",
       "      <td>1.272668</td>\n",
       "      <td>0.0</td>\n",
       "      <td>0.00</td>\n",
       "      <td>0.00</td>\n",
       "      <td>1.78</td>\n",
       "      <td>5.40</td>\n",
       "    </tr>\n",
       "    <tr>\n",
       "      <th>고객센터전화량</th>\n",
       "      <td>3333.0</td>\n",
       "      <td>1.562856</td>\n",
       "      <td>1.315491</td>\n",
       "      <td>0.0</td>\n",
       "      <td>1.00</td>\n",
       "      <td>1.00</td>\n",
       "      <td>2.00</td>\n",
       "      <td>9.00</td>\n",
       "    </tr>\n",
       "    <tr>\n",
       "      <th>월평균전화량(분)</th>\n",
       "      <td>3333.0</td>\n",
       "      <td>179.775098</td>\n",
       "      <td>54.467389</td>\n",
       "      <td>0.0</td>\n",
       "      <td>143.70</td>\n",
       "      <td>179.40</td>\n",
       "      <td>216.40</td>\n",
       "      <td>350.80</td>\n",
       "    </tr>\n",
       "    <tr>\n",
       "      <th>월평균전화수(횟수)</th>\n",
       "      <td>3333.0</td>\n",
       "      <td>100.435644</td>\n",
       "      <td>20.069084</td>\n",
       "      <td>0.0</td>\n",
       "      <td>87.00</td>\n",
       "      <td>101.00</td>\n",
       "      <td>114.00</td>\n",
       "      <td>165.00</td>\n",
       "    </tr>\n",
       "    <tr>\n",
       "      <th>월평균요금</th>\n",
       "      <td>3333.0</td>\n",
       "      <td>56.305161</td>\n",
       "      <td>16.426032</td>\n",
       "      <td>14.0</td>\n",
       "      <td>45.00</td>\n",
       "      <td>53.50</td>\n",
       "      <td>66.20</td>\n",
       "      <td>111.30</td>\n",
       "    </tr>\n",
       "    <tr>\n",
       "      <th>초과요금</th>\n",
       "      <td>3333.0</td>\n",
       "      <td>10.051488</td>\n",
       "      <td>2.535712</td>\n",
       "      <td>0.0</td>\n",
       "      <td>8.33</td>\n",
       "      <td>10.07</td>\n",
       "      <td>11.77</td>\n",
       "      <td>18.19</td>\n",
       "    </tr>\n",
       "    <tr>\n",
       "      <th>로밍시간(분)</th>\n",
       "      <td>3333.0</td>\n",
       "      <td>10.237294</td>\n",
       "      <td>2.791840</td>\n",
       "      <td>0.0</td>\n",
       "      <td>8.50</td>\n",
       "      <td>10.30</td>\n",
       "      <td>12.10</td>\n",
       "      <td>20.00</td>\n",
       "    </tr>\n",
       "  </tbody>\n",
       "</table>\n",
       "</div>"
      ],
      "text/plain": [
       "                     count        mean        std   min     25%     50%  \\\n",
       "가입해지여부(1이면 해지)      3333.0    0.144914   0.352067   0.0    0.00    0.00   \n",
       "가입기간                3333.0  101.064806  39.822106   1.0   74.00  101.00   \n",
       "가입갱신여부(1이면 갱신)      3333.0    0.903090   0.295879   0.0    1.00    1.00   \n",
       "데이터요금제사용여부(1이면 사용)  3333.0    0.276628   0.447398   0.0    0.00    0.00   \n",
       "데이터사용량(GB)          3333.0    0.816475   1.272668   0.0    0.00    0.00   \n",
       "고객센터전화량             3333.0    1.562856   1.315491   0.0    1.00    1.00   \n",
       "월평균전화량(분)           3333.0  179.775098  54.467389   0.0  143.70  179.40   \n",
       "월평균전화수(횟수)          3333.0  100.435644  20.069084   0.0   87.00  101.00   \n",
       "월평균요금               3333.0   56.305161  16.426032  14.0   45.00   53.50   \n",
       "초과요금                3333.0   10.051488   2.535712   0.0    8.33   10.07   \n",
       "로밍시간(분)             3333.0   10.237294   2.791840   0.0    8.50   10.30   \n",
       "\n",
       "                       75%     max  \n",
       "가입해지여부(1이면 해지)        0.00    1.00  \n",
       "가입기간                127.00  243.00  \n",
       "가입갱신여부(1이면 갱신)        1.00    1.00  \n",
       "데이터요금제사용여부(1이면 사용)    1.00    1.00  \n",
       "데이터사용량(GB)            1.78    5.40  \n",
       "고객센터전화량               2.00    9.00  \n",
       "월평균전화량(분)           216.40  350.80  \n",
       "월평균전화수(횟수)          114.00  165.00  \n",
       "월평균요금                66.20  111.30  \n",
       "초과요금                 11.77   18.19  \n",
       "로밍시간(분)              12.10   20.00  "
      ]
     },
     "execution_count": 22,
     "metadata": {},
     "output_type": "execute_result"
    }
   ],
   "source": [
    "phone.describe().T"
   ]
  },
  {
   "cell_type": "markdown",
   "metadata": {},
   "source": [
    "소수점 둘째 자리까지 쓰고 있으니 float16와 int16 써도 전혀 무리가 없겠습니다. 그러면, 모든 float64와 int64를 16으로 바꿔서 결과를 알아봅시다. read_csv에서 dtype을 아래 코드와 같이 설정할 수 있습니다."
   ]
  },
  {
   "cell_type": "code",
   "execution_count": 23,
   "metadata": {
    "scrolled": true
   },
   "outputs": [
    {
     "name": "stdout",
     "output_type": "stream",
     "text": [
      "<class 'pandas.core.frame.DataFrame'>\n",
      "RangeIndex: 3333 entries, 0 to 3332\n",
      "Data columns (total 11 columns):\n",
      " #   Column              Non-Null Count  Dtype  \n",
      "---  ------              --------------  -----  \n",
      " 0   가입해지여부(1이면 해지)      3333 non-null   int16  \n",
      " 1   가입기간                3333 non-null   int16  \n",
      " 2   가입갱신여부(1이면 갱신)      3333 non-null   int16  \n",
      " 3   데이터요금제사용여부(1이면 사용)  3333 non-null   int16  \n",
      " 4   데이터사용량(GB)          3333 non-null   float16\n",
      " 5   고객센터전화량             3333 non-null   int16  \n",
      " 6   월평균전화량(분)           3333 non-null   float16\n",
      " 7   월평균전화수(횟수)          3333 non-null   int16  \n",
      " 8   월평균요금               3333 non-null   float16\n",
      " 9   초과요금                3333 non-null   float16\n",
      " 10  로밍시간(분)             3333 non-null   float16\n",
      "dtypes: float16(5), int16(6)\n",
      "memory usage: 71.7 KB\n"
     ]
    }
   ],
   "source": [
    "phone = phone.astype({\n",
    "                           '데이터사용량(GB)': np.float16,\n",
    "                           '월평균전화량(분)': np.float16,\n",
    "                           '월평균요금': np.float16,\n",
    "                           '초과요금': np.float16,\n",
    "                           '로밍시간(분)': np.float16,\n",
    "                           '가입해지여부(1이면 해지)': np.int16,\n",
    "                           '가입기간': np.int16,\n",
    "                           '가입갱신여부(1이면 갱신)': np.int16,\n",
    "                           '데이터요금제사용여부(1이면 사용)': np.int16,\n",
    "                           '고객센터전화량': np.int16,\n",
    "                           '월평균전화수(횟수)': np.int16\n",
    "                       })\n",
    "phone.info()"
   ]
  },
  {
   "cell_type": "code",
   "execution_count": 24,
   "metadata": {
    "scrolled": true
   },
   "outputs": [
    {
     "data": {
      "text/html": [
       "<div>\n",
       "<style scoped>\n",
       "    .dataframe tbody tr th:only-of-type {\n",
       "        vertical-align: middle;\n",
       "    }\n",
       "\n",
       "    .dataframe tbody tr th {\n",
       "        vertical-align: top;\n",
       "    }\n",
       "\n",
       "    .dataframe thead th {\n",
       "        text-align: right;\n",
       "    }\n",
       "</style>\n",
       "<table border=\"1\" class=\"dataframe\">\n",
       "  <thead>\n",
       "    <tr style=\"text-align: right;\">\n",
       "      <th></th>\n",
       "      <th>count</th>\n",
       "      <th>mean</th>\n",
       "      <th>std</th>\n",
       "      <th>min</th>\n",
       "      <th>25%</th>\n",
       "      <th>50%</th>\n",
       "      <th>75%</th>\n",
       "      <th>max</th>\n",
       "    </tr>\n",
       "  </thead>\n",
       "  <tbody>\n",
       "    <tr>\n",
       "      <th>가입해지여부(1이면 해지)</th>\n",
       "      <td>3333.0</td>\n",
       "      <td>0.144914</td>\n",
       "      <td>0.352067</td>\n",
       "      <td>0.0</td>\n",
       "      <td>0.000000</td>\n",
       "      <td>0.000000</td>\n",
       "      <td>0.000000</td>\n",
       "      <td>1.000000</td>\n",
       "    </tr>\n",
       "    <tr>\n",
       "      <th>가입기간</th>\n",
       "      <td>3333.0</td>\n",
       "      <td>101.064806</td>\n",
       "      <td>39.822106</td>\n",
       "      <td>1.0</td>\n",
       "      <td>74.000000</td>\n",
       "      <td>101.000000</td>\n",
       "      <td>127.000000</td>\n",
       "      <td>243.000000</td>\n",
       "    </tr>\n",
       "    <tr>\n",
       "      <th>가입갱신여부(1이면 갱신)</th>\n",
       "      <td>3333.0</td>\n",
       "      <td>0.903090</td>\n",
       "      <td>0.295879</td>\n",
       "      <td>0.0</td>\n",
       "      <td>1.000000</td>\n",
       "      <td>1.000000</td>\n",
       "      <td>1.000000</td>\n",
       "      <td>1.000000</td>\n",
       "    </tr>\n",
       "    <tr>\n",
       "      <th>데이터요금제사용여부(1이면 사용)</th>\n",
       "      <td>3333.0</td>\n",
       "      <td>0.276628</td>\n",
       "      <td>0.447398</td>\n",
       "      <td>0.0</td>\n",
       "      <td>0.000000</td>\n",
       "      <td>0.000000</td>\n",
       "      <td>1.000000</td>\n",
       "      <td>1.000000</td>\n",
       "    </tr>\n",
       "    <tr>\n",
       "      <th>데이터사용량(GB)</th>\n",
       "      <td>3333.0</td>\n",
       "      <td>0.816895</td>\n",
       "      <td>1.273438</td>\n",
       "      <td>0.0</td>\n",
       "      <td>0.000000</td>\n",
       "      <td>0.000000</td>\n",
       "      <td>1.780273</td>\n",
       "      <td>5.398438</td>\n",
       "    </tr>\n",
       "    <tr>\n",
       "      <th>고객센터전화량</th>\n",
       "      <td>3333.0</td>\n",
       "      <td>1.562856</td>\n",
       "      <td>1.315491</td>\n",
       "      <td>0.0</td>\n",
       "      <td>1.000000</td>\n",
       "      <td>1.000000</td>\n",
       "      <td>2.000000</td>\n",
       "      <td>9.000000</td>\n",
       "    </tr>\n",
       "    <tr>\n",
       "      <th>월평균전화량(분)</th>\n",
       "      <td>3333.0</td>\n",
       "      <td>inf</td>\n",
       "      <td>54.468750</td>\n",
       "      <td>0.0</td>\n",
       "      <td>143.750000</td>\n",
       "      <td>179.375000</td>\n",
       "      <td>216.375000</td>\n",
       "      <td>350.750000</td>\n",
       "    </tr>\n",
       "    <tr>\n",
       "      <th>월평균전화수(횟수)</th>\n",
       "      <td>3333.0</td>\n",
       "      <td>100.435644</td>\n",
       "      <td>20.069084</td>\n",
       "      <td>0.0</td>\n",
       "      <td>87.000000</td>\n",
       "      <td>101.000000</td>\n",
       "      <td>114.000000</td>\n",
       "      <td>165.000000</td>\n",
       "    </tr>\n",
       "    <tr>\n",
       "      <th>월평균요금</th>\n",
       "      <td>3333.0</td>\n",
       "      <td>inf</td>\n",
       "      <td>16.421875</td>\n",
       "      <td>14.0</td>\n",
       "      <td>45.000000</td>\n",
       "      <td>53.500000</td>\n",
       "      <td>66.187500</td>\n",
       "      <td>111.312500</td>\n",
       "    </tr>\n",
       "    <tr>\n",
       "      <th>초과요금</th>\n",
       "      <td>3333.0</td>\n",
       "      <td>10.054688</td>\n",
       "      <td>2.535156</td>\n",
       "      <td>0.0</td>\n",
       "      <td>8.328125</td>\n",
       "      <td>10.070312</td>\n",
       "      <td>11.773438</td>\n",
       "      <td>18.187500</td>\n",
       "    </tr>\n",
       "    <tr>\n",
       "      <th>로밍시간(분)</th>\n",
       "      <td>3333.0</td>\n",
       "      <td>10.234375</td>\n",
       "      <td>2.791016</td>\n",
       "      <td>0.0</td>\n",
       "      <td>8.500000</td>\n",
       "      <td>10.296875</td>\n",
       "      <td>12.101562</td>\n",
       "      <td>20.000000</td>\n",
       "    </tr>\n",
       "  </tbody>\n",
       "</table>\n",
       "</div>"
      ],
      "text/plain": [
       "                     count        mean        std   min         25%  \\\n",
       "가입해지여부(1이면 해지)      3333.0    0.144914   0.352067   0.0    0.000000   \n",
       "가입기간                3333.0  101.064806  39.822106   1.0   74.000000   \n",
       "가입갱신여부(1이면 갱신)      3333.0    0.903090   0.295879   0.0    1.000000   \n",
       "데이터요금제사용여부(1이면 사용)  3333.0    0.276628   0.447398   0.0    0.000000   \n",
       "데이터사용량(GB)          3333.0    0.816895   1.273438   0.0    0.000000   \n",
       "고객센터전화량             3333.0    1.562856   1.315491   0.0    1.000000   \n",
       "월평균전화량(분)           3333.0         inf  54.468750   0.0  143.750000   \n",
       "월평균전화수(횟수)          3333.0  100.435644  20.069084   0.0   87.000000   \n",
       "월평균요금               3333.0         inf  16.421875  14.0   45.000000   \n",
       "초과요금                3333.0   10.054688   2.535156   0.0    8.328125   \n",
       "로밍시간(분)             3333.0   10.234375   2.791016   0.0    8.500000   \n",
       "\n",
       "                           50%         75%         max  \n",
       "가입해지여부(1이면 해지)        0.000000    0.000000    1.000000  \n",
       "가입기간                101.000000  127.000000  243.000000  \n",
       "가입갱신여부(1이면 갱신)        1.000000    1.000000    1.000000  \n",
       "데이터요금제사용여부(1이면 사용)    0.000000    1.000000    1.000000  \n",
       "데이터사용량(GB)            0.000000    1.780273    5.398438  \n",
       "고객센터전화량               1.000000    2.000000    9.000000  \n",
       "월평균전화량(분)           179.375000  216.375000  350.750000  \n",
       "월평균전화수(횟수)          101.000000  114.000000  165.000000  \n",
       "월평균요금                53.500000   66.187500  111.312500  \n",
       "초과요금                 10.070312   11.773438   18.187500  \n",
       "로밍시간(분)              10.296875   12.101562   20.000000  "
      ]
     },
     "execution_count": 24,
     "metadata": {},
     "output_type": "execute_result"
    }
   ],
   "source": [
    "phone.describe().T"
   ]
  },
  {
   "cell_type": "markdown",
   "metadata": {},
   "source": [
    "float과 int를 모두 16으로 바꿔보니 Dtype이 float인 월평균전화량(분)과 월평균요금이 inf값으로 나오는것을 확인 할 수 있었습니다.\n",
    "그래서 두개의 데이터는 32로 바꿔줬습니다."
   ]
  },
  {
   "cell_type": "code",
   "execution_count": 25,
   "metadata": {},
   "outputs": [
    {
     "name": "stdout",
     "output_type": "stream",
     "text": [
      "<class 'pandas.core.frame.DataFrame'>\n",
      "RangeIndex: 3333 entries, 0 to 3332\n",
      "Data columns (total 11 columns):\n",
      " #   Column              Non-Null Count  Dtype  \n",
      "---  ------              --------------  -----  \n",
      " 0   가입해지여부(1이면 해지)      3333 non-null   int16  \n",
      " 1   가입기간                3333 non-null   int16  \n",
      " 2   가입갱신여부(1이면 갱신)      3333 non-null   int16  \n",
      " 3   데이터요금제사용여부(1이면 사용)  3333 non-null   int16  \n",
      " 4   데이터사용량(GB)          3333 non-null   float16\n",
      " 5   고객센터전화량             3333 non-null   int16  \n",
      " 6   월평균전화량(분)           3333 non-null   float32\n",
      " 7   월평균전화수(횟수)          3333 non-null   int16  \n",
      " 8   월평균요금               3333 non-null   float32\n",
      " 9   초과요금                3333 non-null   float16\n",
      " 10  로밍시간(분)             3333 non-null   float16\n",
      "dtypes: float16(3), float32(2), int16(6)\n",
      "memory usage: 84.8 KB\n"
     ]
    }
   ],
   "source": [
    "phone = phone.astype({\n",
    "                           '데이터사용량(GB)': np.float16,\n",
    "                           '월평균전화량(분)': np.float32,\n",
    "                           '월평균요금': np.float32,\n",
    "                           '초과요금': np.float16,\n",
    "                           '로밍시간(분)': np.float16,\n",
    "                           '가입해지여부(1이면 해지)': np.int16,\n",
    "                           '가입기간': np.int16,\n",
    "                           '가입갱신여부(1이면 갱신)': np.int16,\n",
    "                           '데이터요금제사용여부(1이면 사용)': np.int16,\n",
    "                           '고객센터전화량': np.int16,\n",
    "                           '월평균전화수(횟수)': np.int16\n",
    "                       })\n",
    "phone.info()"
   ]
  },
  {
   "cell_type": "code",
   "execution_count": 26,
   "metadata": {},
   "outputs": [
    {
     "data": {
      "text/html": [
       "<div>\n",
       "<style scoped>\n",
       "    .dataframe tbody tr th:only-of-type {\n",
       "        vertical-align: middle;\n",
       "    }\n",
       "\n",
       "    .dataframe tbody tr th {\n",
       "        vertical-align: top;\n",
       "    }\n",
       "\n",
       "    .dataframe thead th {\n",
       "        text-align: right;\n",
       "    }\n",
       "</style>\n",
       "<table border=\"1\" class=\"dataframe\">\n",
       "  <thead>\n",
       "    <tr style=\"text-align: right;\">\n",
       "      <th></th>\n",
       "      <th>count</th>\n",
       "      <th>mean</th>\n",
       "      <th>std</th>\n",
       "      <th>min</th>\n",
       "      <th>25%</th>\n",
       "      <th>50%</th>\n",
       "      <th>75%</th>\n",
       "      <th>max</th>\n",
       "    </tr>\n",
       "  </thead>\n",
       "  <tbody>\n",
       "    <tr>\n",
       "      <th>가입해지여부(1이면 해지)</th>\n",
       "      <td>3333.0</td>\n",
       "      <td>0.144914</td>\n",
       "      <td>0.352067</td>\n",
       "      <td>0.0</td>\n",
       "      <td>0.000000</td>\n",
       "      <td>0.000000</td>\n",
       "      <td>0.000000</td>\n",
       "      <td>1.000000</td>\n",
       "    </tr>\n",
       "    <tr>\n",
       "      <th>가입기간</th>\n",
       "      <td>3333.0</td>\n",
       "      <td>101.064806</td>\n",
       "      <td>39.822106</td>\n",
       "      <td>1.0</td>\n",
       "      <td>74.000000</td>\n",
       "      <td>101.000000</td>\n",
       "      <td>127.000000</td>\n",
       "      <td>243.000000</td>\n",
       "    </tr>\n",
       "    <tr>\n",
       "      <th>가입갱신여부(1이면 갱신)</th>\n",
       "      <td>3333.0</td>\n",
       "      <td>0.903090</td>\n",
       "      <td>0.295879</td>\n",
       "      <td>0.0</td>\n",
       "      <td>1.000000</td>\n",
       "      <td>1.000000</td>\n",
       "      <td>1.000000</td>\n",
       "      <td>1.000000</td>\n",
       "    </tr>\n",
       "    <tr>\n",
       "      <th>데이터요금제사용여부(1이면 사용)</th>\n",
       "      <td>3333.0</td>\n",
       "      <td>0.276628</td>\n",
       "      <td>0.447398</td>\n",
       "      <td>0.0</td>\n",
       "      <td>0.000000</td>\n",
       "      <td>0.000000</td>\n",
       "      <td>1.000000</td>\n",
       "      <td>1.000000</td>\n",
       "    </tr>\n",
       "    <tr>\n",
       "      <th>데이터사용량(GB)</th>\n",
       "      <td>3333.0</td>\n",
       "      <td>0.816895</td>\n",
       "      <td>1.273438</td>\n",
       "      <td>0.0</td>\n",
       "      <td>0.000000</td>\n",
       "      <td>0.000000</td>\n",
       "      <td>1.780273</td>\n",
       "      <td>5.398438</td>\n",
       "    </tr>\n",
       "    <tr>\n",
       "      <th>고객센터전화량</th>\n",
       "      <td>3333.0</td>\n",
       "      <td>1.562856</td>\n",
       "      <td>1.315491</td>\n",
       "      <td>0.0</td>\n",
       "      <td>1.000000</td>\n",
       "      <td>1.000000</td>\n",
       "      <td>2.000000</td>\n",
       "      <td>9.000000</td>\n",
       "    </tr>\n",
       "    <tr>\n",
       "      <th>월평균전화량(분)</th>\n",
       "      <td>3333.0</td>\n",
       "      <td>179.775070</td>\n",
       "      <td>54.467808</td>\n",
       "      <td>0.0</td>\n",
       "      <td>143.750000</td>\n",
       "      <td>179.375000</td>\n",
       "      <td>216.375000</td>\n",
       "      <td>350.750000</td>\n",
       "    </tr>\n",
       "    <tr>\n",
       "      <th>월평균전화수(횟수)</th>\n",
       "      <td>3333.0</td>\n",
       "      <td>100.435644</td>\n",
       "      <td>20.069084</td>\n",
       "      <td>0.0</td>\n",
       "      <td>87.000000</td>\n",
       "      <td>101.000000</td>\n",
       "      <td>114.000000</td>\n",
       "      <td>165.000000</td>\n",
       "    </tr>\n",
       "    <tr>\n",
       "      <th>월평균요금</th>\n",
       "      <td>3333.0</td>\n",
       "      <td>56.305271</td>\n",
       "      <td>16.426413</td>\n",
       "      <td>14.0</td>\n",
       "      <td>45.000000</td>\n",
       "      <td>53.500000</td>\n",
       "      <td>66.187500</td>\n",
       "      <td>111.312500</td>\n",
       "    </tr>\n",
       "    <tr>\n",
       "      <th>초과요금</th>\n",
       "      <td>3333.0</td>\n",
       "      <td>10.054688</td>\n",
       "      <td>2.535156</td>\n",
       "      <td>0.0</td>\n",
       "      <td>8.328125</td>\n",
       "      <td>10.070312</td>\n",
       "      <td>11.773438</td>\n",
       "      <td>18.187500</td>\n",
       "    </tr>\n",
       "    <tr>\n",
       "      <th>로밍시간(분)</th>\n",
       "      <td>3333.0</td>\n",
       "      <td>10.234375</td>\n",
       "      <td>2.791016</td>\n",
       "      <td>0.0</td>\n",
       "      <td>8.500000</td>\n",
       "      <td>10.296875</td>\n",
       "      <td>12.101562</td>\n",
       "      <td>20.000000</td>\n",
       "    </tr>\n",
       "  </tbody>\n",
       "</table>\n",
       "</div>"
      ],
      "text/plain": [
       "                     count        mean        std   min         25%  \\\n",
       "가입해지여부(1이면 해지)      3333.0    0.144914   0.352067   0.0    0.000000   \n",
       "가입기간                3333.0  101.064806  39.822106   1.0   74.000000   \n",
       "가입갱신여부(1이면 갱신)      3333.0    0.903090   0.295879   0.0    1.000000   \n",
       "데이터요금제사용여부(1이면 사용)  3333.0    0.276628   0.447398   0.0    0.000000   \n",
       "데이터사용량(GB)          3333.0    0.816895   1.273438   0.0    0.000000   \n",
       "고객센터전화량             3333.0    1.562856   1.315491   0.0    1.000000   \n",
       "월평균전화량(분)           3333.0  179.775070  54.467808   0.0  143.750000   \n",
       "월평균전화수(횟수)          3333.0  100.435644  20.069084   0.0   87.000000   \n",
       "월평균요금               3333.0   56.305271  16.426413  14.0   45.000000   \n",
       "초과요금                3333.0   10.054688   2.535156   0.0    8.328125   \n",
       "로밍시간(분)             3333.0   10.234375   2.791016   0.0    8.500000   \n",
       "\n",
       "                           50%         75%         max  \n",
       "가입해지여부(1이면 해지)        0.000000    0.000000    1.000000  \n",
       "가입기간                101.000000  127.000000  243.000000  \n",
       "가입갱신여부(1이면 갱신)        1.000000    1.000000    1.000000  \n",
       "데이터요금제사용여부(1이면 사용)    0.000000    1.000000    1.000000  \n",
       "데이터사용량(GB)            0.000000    1.780273    5.398438  \n",
       "고객센터전화량               1.000000    2.000000    9.000000  \n",
       "월평균전화량(분)           179.375000  216.375000  350.750000  \n",
       "월평균전화수(횟수)          101.000000  114.000000  165.000000  \n",
       "월평균요금                53.500000   66.187500  111.312500  \n",
       "초과요금                 10.070312   11.773438   18.187500  \n",
       "로밍시간(분)              10.296875   12.101562   20.000000  "
      ]
     },
     "execution_count": 26,
     "metadata": {},
     "output_type": "execute_result"
    }
   ],
   "source": [
    "phone.describe().T"
   ]
  },
  {
   "cell_type": "markdown",
   "metadata": {},
   "source": [
    "32로 바꿔주니 문제 없는것을 확인 했습니다. 그리고 데이터는 84.8KB로 286.6KB보다 많이 줄어듬을 확인할 수 있었습니다."
   ]
  },
  {
   "cell_type": "code",
   "execution_count": 27,
   "metadata": {
    "scrolled": true
   },
   "outputs": [
    {
     "data": {
      "text/plain": [
       "데이터사용량(GB)     174\n",
       "초과요금          1023\n",
       "로밍시간(분)        162\n",
       "dtype: int64"
      ]
     },
     "execution_count": 27,
     "metadata": {},
     "output_type": "execute_result"
    }
   ],
   "source": [
    "phone.select_dtypes(include=[np.float16]).nunique()"
   ]
  },
  {
   "cell_type": "markdown",
   "metadata": {},
   "source": [
    "여기서 그치지 않고 데이터를 더 줄이고자 데이터값들이 0아니면1인 값들을 가지고있는 컬럼을 category 형태로로 바꿔줍니다."
   ]
  },
  {
   "cell_type": "code",
   "execution_count": 28,
   "metadata": {},
   "outputs": [
    {
     "name": "stdout",
     "output_type": "stream",
     "text": [
      "<class 'pandas.core.frame.DataFrame'>\n",
      "RangeIndex: 3333 entries, 0 to 3332\n",
      "Data columns (total 11 columns):\n",
      " #   Column              Non-Null Count  Dtype   \n",
      "---  ------              --------------  -----   \n",
      " 0   가입해지여부(1이면 해지)      3333 non-null   category\n",
      " 1   가입기간                3333 non-null   int16   \n",
      " 2   가입갱신여부(1이면 갱신)      3333 non-null   category\n",
      " 3   데이터요금제사용여부(1이면 사용)  3333 non-null   category\n",
      " 4   데이터사용량(GB)          3333 non-null   float16 \n",
      " 5   고객센터전화량             3333 non-null   int16   \n",
      " 6   월평균전화량(분)           3333 non-null   float32 \n",
      " 7   월평균전화수(횟수)          3333 non-null   int16   \n",
      " 8   월평균요금               3333 non-null   float32 \n",
      " 9   초과요금                3333 non-null   float16 \n",
      " 10  로밍시간(분)             3333 non-null   float16 \n",
      "dtypes: category(3), float16(3), float32(2), int16(3)\n",
      "memory usage: 75.3 KB\n"
     ]
    }
   ],
   "source": [
    "phone = phone.astype({                           \n",
    "                           '데이터사용량(GB)': np.float16,\n",
    "                           '월평균전화량(분)': np.float32,\n",
    "                           '월평균요금': np.float32,\n",
    "                           '초과요금': np.float16,\n",
    "                           '로밍시간(분)': np.float16,\n",
    "                           '가입기간': np.int16,\n",
    "                           '고객센터전화량': np.int16,\n",
    "                           '월평균전화수(횟수)': np.int16,\n",
    "                           '가입해지여부(1이면 해지)': 'category',\n",
    "                           '가입갱신여부(1이면 갱신)': 'category',\n",
    "                           '데이터요금제사용여부(1이면 사용)': 'category'\n",
    "                       })\n",
    "phone.info()"
   ]
  },
  {
   "cell_type": "markdown",
   "metadata": {},
   "source": [
    "이로써 데이터 줄이기에서 75.3KB까지 줄여봤습니다."
   ]
  },
  {
   "cell_type": "markdown",
   "metadata": {},
   "source": [
    " 데이터들을 시각화해보기."
   ]
  },
  {
   "cell_type": "code",
   "execution_count": 29,
   "metadata": {},
   "outputs": [
    {
     "name": "stderr",
     "output_type": "stream",
     "text": [
      "C:\\Users\\dongjin\\anaconda3\\lib\\site-packages\\matplotlib\\backends\\backend_agg.py:238: RuntimeWarning: Glyph 44032 missing from current font.\n",
      "  font.set_text(s, 0.0, flags=flags)\n",
      "C:\\Users\\dongjin\\anaconda3\\lib\\site-packages\\matplotlib\\backends\\backend_agg.py:238: RuntimeWarning: Glyph 51077 missing from current font.\n",
      "  font.set_text(s, 0.0, flags=flags)\n",
      "C:\\Users\\dongjin\\anaconda3\\lib\\site-packages\\matplotlib\\backends\\backend_agg.py:238: RuntimeWarning: Glyph 54644 missing from current font.\n",
      "  font.set_text(s, 0.0, flags=flags)\n",
      "C:\\Users\\dongjin\\anaconda3\\lib\\site-packages\\matplotlib\\backends\\backend_agg.py:238: RuntimeWarning: Glyph 51648 missing from current font.\n",
      "  font.set_text(s, 0.0, flags=flags)\n",
      "C:\\Users\\dongjin\\anaconda3\\lib\\site-packages\\matplotlib\\backends\\backend_agg.py:238: RuntimeWarning: Glyph 50668 missing from current font.\n",
      "  font.set_text(s, 0.0, flags=flags)\n",
      "C:\\Users\\dongjin\\anaconda3\\lib\\site-packages\\matplotlib\\backends\\backend_agg.py:238: RuntimeWarning: Glyph 48512 missing from current font.\n",
      "  font.set_text(s, 0.0, flags=flags)\n",
      "C:\\Users\\dongjin\\anaconda3\\lib\\site-packages\\matplotlib\\backends\\backend_agg.py:238: RuntimeWarning: Glyph 51060 missing from current font.\n",
      "  font.set_text(s, 0.0, flags=flags)\n",
      "C:\\Users\\dongjin\\anaconda3\\lib\\site-packages\\matplotlib\\backends\\backend_agg.py:238: RuntimeWarning: Glyph 47732 missing from current font.\n",
      "  font.set_text(s, 0.0, flags=flags)\n",
      "C:\\Users\\dongjin\\anaconda3\\lib\\site-packages\\matplotlib\\backends\\backend_agg.py:201: RuntimeWarning: Glyph 44032 missing from current font.\n",
      "  font.set_text(s, 0, flags=flags)\n",
      "C:\\Users\\dongjin\\anaconda3\\lib\\site-packages\\matplotlib\\backends\\backend_agg.py:201: RuntimeWarning: Glyph 51077 missing from current font.\n",
      "  font.set_text(s, 0, flags=flags)\n",
      "C:\\Users\\dongjin\\anaconda3\\lib\\site-packages\\matplotlib\\backends\\backend_agg.py:201: RuntimeWarning: Glyph 54644 missing from current font.\n",
      "  font.set_text(s, 0, flags=flags)\n",
      "C:\\Users\\dongjin\\anaconda3\\lib\\site-packages\\matplotlib\\backends\\backend_agg.py:201: RuntimeWarning: Glyph 51648 missing from current font.\n",
      "  font.set_text(s, 0, flags=flags)\n",
      "C:\\Users\\dongjin\\anaconda3\\lib\\site-packages\\matplotlib\\backends\\backend_agg.py:201: RuntimeWarning: Glyph 50668 missing from current font.\n",
      "  font.set_text(s, 0, flags=flags)\n",
      "C:\\Users\\dongjin\\anaconda3\\lib\\site-packages\\matplotlib\\backends\\backend_agg.py:201: RuntimeWarning: Glyph 48512 missing from current font.\n",
      "  font.set_text(s, 0, flags=flags)\n",
      "C:\\Users\\dongjin\\anaconda3\\lib\\site-packages\\matplotlib\\backends\\backend_agg.py:201: RuntimeWarning: Glyph 51060 missing from current font.\n",
      "  font.set_text(s, 0, flags=flags)\n",
      "C:\\Users\\dongjin\\anaconda3\\lib\\site-packages\\matplotlib\\backends\\backend_agg.py:201: RuntimeWarning: Glyph 47732 missing from current font.\n",
      "  font.set_text(s, 0, flags=flags)\n"
     ]
    },
    {
     "data": {
      "image/png": "[encoded data removed]",
      "text/plain": [
       "<Figure size 432x288 with 1 Axes>"
      ]
     },
     "metadata": {},
     "output_type": "display_data"
    }
   ],
   "source": [
    "import matplotlib.pyplot as plt\n",
    "\n",
    "sns.countplot(y='가입해지여부(1이면 해지)', data=phone);"
   ]
  },
  {
   "cell_type": "markdown",
   "metadata": {},
   "source": [
    "한글을 읽지 못하여서 한글폰트를 지정해줬습니다."
   ]
  },
  {
   "cell_type": "code",
   "execution_count": 30,
   "metadata": {},
   "outputs": [
    {
     "data": {
      "image/png": "[encoded data removed]",
      "text/plain": [
       "<Figure size 432x288 with 1 Axes>"
      ]
     },
     "metadata": {},
     "output_type": "display_data"
    }
   ],
   "source": [
    "import matplotlib.pyplot as plt\n",
    "plt.rc('font', family=\"Malgun Gothic\",size='20')\n",
    "sns.countplot(y='가입해지여부(1이면 해지)', data=phone);"
   ]
  },
  {
   "cell_type": "markdown",
   "metadata": {},
   "source": [
    "해지를 하지 않은 사람들이 훨씬 많다는걸 알 수 있습니다."
   ]
  },
  {
   "cell_type": "code",
   "execution_count": 31,
   "metadata": {},
   "outputs": [
    {
     "data": {
      "image/png": "[encoded data removed]",
      "text/plain": [
       "<Figure size 432x288 with 1 Axes>"
      ]
     },
     "metadata": {},
     "output_type": "display_data"
    }
   ],
   "source": [
    "import matplotlib.pyplot as plt\n",
    "\n",
    "plt.rc('font', family=\"Malgun Gothic\",size='20')\n",
    "sns.countplot(y='가입갱신여부(1이면 갱신)', data=phone);"
   ]
  },
  {
   "cell_type": "markdown",
   "metadata": {},
   "source": [
    "갱신을 한사람들이 많다는걸 알 수 있습니다."
   ]
  },
  {
   "cell_type": "code",
   "execution_count": 32,
   "metadata": {},
   "outputs": [
    {
     "data": {
      "image/png": "[encoded data removed]",
      "text/plain": [
       "<Figure size 432x288 with 1 Axes>"
      ]
     },
     "metadata": {},
     "output_type": "display_data"
    }
   ],
   "source": [
    "import matplotlib.pyplot as plt\n",
    "\n",
    "plt.rc('font', family=\"Malgun Gothic\",size='20')\n",
    "sns.countplot(y='데이터요금제사용여부(1이면 사용)', data=phone);"
   ]
  },
  {
   "cell_type": "markdown",
   "metadata": {},
   "source": [
    "생각보다 데이터요금제사용을 적게 한다는 것을 알 수 있습니다."
   ]
  },
  {
   "cell_type": "code",
   "execution_count": 33,
   "metadata": {},
   "outputs": [
    {
     "data": {
      "text/plain": [
       "데이터요금제사용여부(1이면 사용)\n",
       "0    49.000\n",
       "1    75.875\n",
       "Name: 월평균요금, dtype: float32"
      ]
     },
     "execution_count": 33,
     "metadata": {},
     "output_type": "execute_result"
    }
   ],
   "source": [
    "phone.groupby('데이터요금제사용여부(1이면 사용)')['월평균요금'].median()"
   ]
  },
  {
   "cell_type": "markdown",
   "metadata": {},
   "source": [
    "데이터 사용요금제 사용여부별로 월평균 요금이 얼마인지 알아보니 확실히 데이터요금제를 사용하지 않는 사람들의 평균(49.0)이\n",
    "데이터 요금제를 사용하는 사람들(75.9)보다 적게 나온다는 것을 알 수 있습니다."
   ]
  },
  {
   "cell_type": "markdown",
   "metadata": {},
   "source": [
    "min, median, max 값만 보고 싶어 aggregate를 사용해서 봤습니다."
   ]
  },
  {
   "cell_type": "code",
   "execution_count": 34,
   "metadata": {},
   "outputs": [
    {
     "data": {
      "text/html": [
       "<div>\n",
       "<style scoped>\n",
       "    .dataframe tbody tr th:only-of-type {\n",
       "        vertical-align: middle;\n",
       "    }\n",
       "\n",
       "    .dataframe tbody tr th {\n",
       "        vertical-align: top;\n",
       "    }\n",
       "\n",
       "    .dataframe thead th {\n",
       "        text-align: right;\n",
       "    }\n",
       "</style>\n",
       "<table border=\"1\" class=\"dataframe\">\n",
       "  <thead>\n",
       "    <tr style=\"text-align: right;\">\n",
       "      <th></th>\n",
       "      <th>min</th>\n",
       "      <th>median</th>\n",
       "      <th>max</th>\n",
       "    </tr>\n",
       "    <tr>\n",
       "      <th>데이터요금제사용여부(1이면 사용)</th>\n",
       "      <th></th>\n",
       "      <th></th>\n",
       "      <th></th>\n",
       "    </tr>\n",
       "  </thead>\n",
       "  <tbody>\n",
       "    <tr>\n",
       "      <th>0</th>\n",
       "      <td>0.0</td>\n",
       "      <td>0.000000</td>\n",
       "      <td>0.509766</td>\n",
       "    </tr>\n",
       "    <tr>\n",
       "      <th>1</th>\n",
       "      <td>0.0</td>\n",
       "      <td>2.779297</td>\n",
       "      <td>5.398438</td>\n",
       "    </tr>\n",
       "  </tbody>\n",
       "</table>\n",
       "</div>"
      ],
      "text/plain": [
       "                    min    median       max\n",
       "데이터요금제사용여부(1이면 사용)                         \n",
       "0                   0.0  0.000000  0.509766\n",
       "1                   0.0  2.779297  5.398438"
      ]
     },
     "execution_count": 34,
     "metadata": {},
     "output_type": "execute_result"
    }
   ],
   "source": [
    "phone.groupby('데이터요금제사용여부(1이면 사용)')['데이터사용량(GB)'].aggregate([min, np.median, max]) "
   ]
  },
  {
   "cell_type": "markdown",
   "metadata": {},
   "source": [
    "데이터요금제를 사용하는 사람들이 확실히 데이터 사용량이 높은것으로 나왔습니다."
   ]
  },
  {
   "cell_type": "code",
   "execution_count": 35,
   "metadata": {},
   "outputs": [
    {
     "data": {
      "text/html": [
       "<div>\n",
       "<style scoped>\n",
       "    .dataframe tbody tr th:only-of-type {\n",
       "        vertical-align: middle;\n",
       "    }\n",
       "\n",
       "    .dataframe tbody tr th {\n",
       "        vertical-align: top;\n",
       "    }\n",
       "\n",
       "    .dataframe thead th {\n",
       "        text-align: right;\n",
       "    }\n",
       "</style>\n",
       "<table border=\"1\" class=\"dataframe\">\n",
       "  <thead>\n",
       "    <tr style=\"text-align: right;\">\n",
       "      <th></th>\n",
       "      <th>count</th>\n",
       "      <th>mean</th>\n",
       "      <th>std</th>\n",
       "      <th>min</th>\n",
       "      <th>25%</th>\n",
       "      <th>50%</th>\n",
       "      <th>75%</th>\n",
       "      <th>max</th>\n",
       "    </tr>\n",
       "    <tr>\n",
       "      <th>가입해지여부(1이면 해지)</th>\n",
       "      <th></th>\n",
       "      <th></th>\n",
       "      <th></th>\n",
       "      <th></th>\n",
       "      <th></th>\n",
       "      <th></th>\n",
       "      <th></th>\n",
       "      <th></th>\n",
       "    </tr>\n",
       "  </thead>\n",
       "  <tbody>\n",
       "    <tr>\n",
       "      <th>0</th>\n",
       "      <td>2850.0</td>\n",
       "      <td>100.793684</td>\n",
       "      <td>39.88235</td>\n",
       "      <td>1.0</td>\n",
       "      <td>73.0</td>\n",
       "      <td>100.0</td>\n",
       "      <td>127.0</td>\n",
       "      <td>243.0</td>\n",
       "    </tr>\n",
       "    <tr>\n",
       "      <th>1</th>\n",
       "      <td>483.0</td>\n",
       "      <td>102.664596</td>\n",
       "      <td>39.46782</td>\n",
       "      <td>1.0</td>\n",
       "      <td>76.0</td>\n",
       "      <td>103.0</td>\n",
       "      <td>127.0</td>\n",
       "      <td>225.0</td>\n",
       "    </tr>\n",
       "  </tbody>\n",
       "</table>\n",
       "</div>"
      ],
      "text/plain": [
       "                 count        mean       std  min   25%    50%    75%    max\n",
       "가입해지여부(1이면 해지)                                                              \n",
       "0               2850.0  100.793684  39.88235  1.0  73.0  100.0  127.0  243.0\n",
       "1                483.0  102.664596  39.46782  1.0  76.0  103.0  127.0  225.0"
      ]
     },
     "execution_count": 35,
     "metadata": {},
     "output_type": "execute_result"
    }
   ],
   "source": [
    "phone.groupby('가입해지여부(1이면 해지)')['가입기간'].describe()"
   ]
  },
  {
   "cell_type": "markdown",
   "metadata": {},
   "source": [
    "해지하지 않은 사람들이 더 많지만 해지를 했을 경우 확실히 최종 가입기간이 적은 것을 확인할 수 있습니다."
   ]
  },
  {
   "cell_type": "code",
   "execution_count": 36,
   "metadata": {},
   "outputs": [
    {
     "data": {
      "text/plain": [
       "<seaborn.axisgrid.FacetGrid at 0x18f0d41af70>"
      ]
     },
     "execution_count": 36,
     "metadata": {},
     "output_type": "execute_result"
    },
    {
     "data": {
      "image/png": "[encoded data removed]",
      "text/plain": [
       "<Figure size 360x360 with 1 Axes>"
      ]
     },
     "metadata": {},
     "output_type": "display_data"
    }
   ],
   "source": [
    "import matplotlib.pyplot as plt\n",
    "\n",
    "plt.rc('font', family=\"Malgun Gothic\",size='20')\n",
    "sns.catplot(x='데이터요금제사용여부(1이면 사용)', y='월평균요금',\n",
    "kind='bar',\n",
    "            data=phone)"
   ]
  },
  {
   "cell_type": "markdown",
   "metadata": {},
   "source": [
    "시각화를 통해 그래프로 비교해보니 데이터 요금제사용여부에 따라 월평균요금이 차이나는게 잘보였습니다."
   ]
  },
  {
   "cell_type": "code",
   "execution_count": 37,
   "metadata": {
    "scrolled": true
   },
   "outputs": [
    {
     "data": {
      "text/html": [
       "<div>\n",
       "<style scoped>\n",
       "    .dataframe tbody tr th:only-of-type {\n",
       "        vertical-align: middle;\n",
       "    }\n",
       "\n",
       "    .dataframe tbody tr th {\n",
       "        vertical-align: top;\n",
       "    }\n",
       "\n",
       "    .dataframe thead th {\n",
       "        text-align: right;\n",
       "    }\n",
       "</style>\n",
       "<table border=\"1\" class=\"dataframe\">\n",
       "  <thead>\n",
       "    <tr style=\"text-align: right;\">\n",
       "      <th></th>\n",
       "      <th>가입기간</th>\n",
       "      <th>데이터사용량(GB)</th>\n",
       "      <th>고객센터전화량</th>\n",
       "      <th>월평균전화량(분)</th>\n",
       "      <th>월평균전화수(횟수)</th>\n",
       "      <th>월평균요금</th>\n",
       "      <th>초과요금</th>\n",
       "      <th>로밍시간(분)</th>\n",
       "    </tr>\n",
       "    <tr>\n",
       "      <th>데이터요금제사용여부(1이면 사용)</th>\n",
       "      <th></th>\n",
       "      <th></th>\n",
       "      <th></th>\n",
       "      <th></th>\n",
       "      <th></th>\n",
       "      <th></th>\n",
       "      <th></th>\n",
       "      <th></th>\n",
       "    </tr>\n",
       "  </thead>\n",
       "  <tbody>\n",
       "    <tr>\n",
       "      <th>0</th>\n",
       "      <td>100</td>\n",
       "      <td>0.000000</td>\n",
       "      <td>1</td>\n",
       "      <td>221.125</td>\n",
       "      <td>101</td>\n",
       "      <td>56.8125</td>\n",
       "      <td>10.929688</td>\n",
       "      <td>10.101562</td>\n",
       "    </tr>\n",
       "    <tr>\n",
       "      <th>1</th>\n",
       "      <td>101</td>\n",
       "      <td>2.779297</td>\n",
       "      <td>1</td>\n",
       "      <td>183.000</td>\n",
       "      <td>100</td>\n",
       "      <td>76.3750</td>\n",
       "      <td>10.265625</td>\n",
       "      <td>10.296875</td>\n",
       "    </tr>\n",
       "  </tbody>\n",
       "</table>\n",
       "</div>"
      ],
      "text/plain": [
       "                    가입기간  데이터사용량(GB)  고객센터전화량  월평균전화량(분)  월평균전화수(횟수)    월평균요금  \\\n",
       "데이터요금제사용여부(1이면 사용)                                                              \n",
       "0                    100    0.000000        1    221.125         101  56.8125   \n",
       "1                    101    2.779297        1    183.000         100  76.3750   \n",
       "\n",
       "                         초과요금    로밍시간(분)  \n",
       "데이터요금제사용여부(1이면 사용)                        \n",
       "0                   10.929688  10.101562  \n",
       "1                   10.265625  10.296875  "
      ]
     },
     "execution_count": 37,
     "metadata": {},
     "output_type": "execute_result"
    }
   ],
   "source": [
    "phone.query(\"월평균요금 > 50\").groupby('데이터요금제사용여부(1이면 사용)').median()"
   ]
  },
  {
   "cell_type": "markdown",
   "metadata": {},
   "source": [
    "월평균 요금이 50초과인 데이터요금제사용여부(1이면 사용) 별로 구분을 했고 평균을 구해보니 데이터요금제사용하지 않는 사람들의 월평균요금은 56.8 이 나왔고 데이터요금제사용하는 사람들의 월평균 요금은 76.4가 나왔습니다."
   ]
  },
  {
   "cell_type": "code",
   "execution_count": 38,
   "metadata": {
    "scrolled": false
   },
   "outputs": [
    {
     "data": {
      "text/html": [
       "<div>\n",
       "<style scoped>\n",
       "    .dataframe tbody tr th:only-of-type {\n",
       "        vertical-align: middle;\n",
       "    }\n",
       "\n",
       "    .dataframe tbody tr th {\n",
       "        vertical-align: top;\n",
       "    }\n",
       "\n",
       "    .dataframe thead th {\n",
       "        text-align: right;\n",
       "    }\n",
       "</style>\n",
       "<table border=\"1\" class=\"dataframe\">\n",
       "  <thead>\n",
       "    <tr style=\"text-align: right;\">\n",
       "      <th></th>\n",
       "      <th>가입기간</th>\n",
       "      <th>데이터사용량(GB)</th>\n",
       "      <th>고객센터전화량</th>\n",
       "      <th>월평균전화량(분)</th>\n",
       "      <th>월평균전화수(횟수)</th>\n",
       "      <th>월평균요금</th>\n",
       "      <th>초과요금</th>\n",
       "      <th>로밍시간(분)</th>\n",
       "    </tr>\n",
       "    <tr>\n",
       "      <th>가입해지여부(1이면 해지)</th>\n",
       "      <th></th>\n",
       "      <th></th>\n",
       "      <th></th>\n",
       "      <th></th>\n",
       "      <th></th>\n",
       "      <th></th>\n",
       "      <th></th>\n",
       "      <th></th>\n",
       "    </tr>\n",
       "  </thead>\n",
       "  <tbody>\n",
       "    <tr>\n",
       "      <th>0</th>\n",
       "      <td>27</td>\n",
       "      <td>0.0</td>\n",
       "      <td>1</td>\n",
       "      <td>178.75</td>\n",
       "      <td>100</td>\n",
       "      <td>52.0</td>\n",
       "      <td>10.187500</td>\n",
       "      <td>9.703125</td>\n",
       "    </tr>\n",
       "    <tr>\n",
       "      <th>1</th>\n",
       "      <td>24</td>\n",
       "      <td>0.0</td>\n",
       "      <td>2</td>\n",
       "      <td>211.50</td>\n",
       "      <td>101</td>\n",
       "      <td>63.5</td>\n",
       "      <td>10.359375</td>\n",
       "      <td>10.546875</td>\n",
       "    </tr>\n",
       "  </tbody>\n",
       "</table>\n",
       "</div>"
      ],
      "text/plain": [
       "                가입기간  데이터사용량(GB)  고객센터전화량  월평균전화량(분)  월평균전화수(횟수)  월평균요금  \\\n",
       "가입해지여부(1이면 해지)                                                            \n",
       "0                 27         0.0        1     178.75         100   52.0   \n",
       "1                 24         0.0        2     211.50         101   63.5   \n",
       "\n",
       "                     초과요금    로밍시간(분)  \n",
       "가입해지여부(1이면 해지)                        \n",
       "0               10.187500   9.703125  \n",
       "1               10.359375  10.546875  "
      ]
     },
     "execution_count": 38,
     "metadata": {},
     "output_type": "execute_result"
    }
   ],
   "source": [
    "phone.query(\"가입기간 < 40\").groupby('가입해지여부(1이면 해지)').median()"
   ]
  },
  {
   "cell_type": "markdown",
   "metadata": {},
   "source": [
    "가입기간이 40일 미만인 가입해지여부(1이면 해지) 별로 구분을 했고 평균을 구해보니 해지를 하지않은 사람들의 가입기간 평균은 27일\n",
    "해지를 한 사람들의 가입기간 평균은 24일로 나왔습니다."
   ]
  },
  {
   "cell_type": "code",
   "execution_count": 39,
   "metadata": {},
   "outputs": [
    {
     "data": {
      "text/html": [
       "<div>\n",
       "<style scoped>\n",
       "    .dataframe tbody tr th:only-of-type {\n",
       "        vertical-align: middle;\n",
       "    }\n",
       "\n",
       "    .dataframe tbody tr th {\n",
       "        vertical-align: top;\n",
       "    }\n",
       "\n",
       "    .dataframe thead th {\n",
       "        text-align: right;\n",
       "    }\n",
       "</style>\n",
       "<table border=\"1\" class=\"dataframe\">\n",
       "  <thead>\n",
       "    <tr style=\"text-align: right;\">\n",
       "      <th>가입갱신여부(1이면 갱신)</th>\n",
       "      <th>0</th>\n",
       "      <th>1</th>\n",
       "    </tr>\n",
       "    <tr>\n",
       "      <th>가입해지여부(1이면 해지)</th>\n",
       "      <th></th>\n",
       "      <th></th>\n",
       "    </tr>\n",
       "  </thead>\n",
       "  <tbody>\n",
       "    <tr>\n",
       "      <th>0</th>\n",
       "      <td>103.456989</td>\n",
       "      <td>100.607733</td>\n",
       "    </tr>\n",
       "    <tr>\n",
       "      <th>1</th>\n",
       "      <td>104.905109</td>\n",
       "      <td>101.777457</td>\n",
       "    </tr>\n",
       "  </tbody>\n",
       "</table>\n",
       "</div>"
      ],
      "text/plain": [
       "가입갱신여부(1이면 갱신)           0           1\n",
       "가입해지여부(1이면 해지)                        \n",
       "0               103.456989  100.607733\n",
       "1               104.905109  101.777457"
      ]
     },
     "execution_count": 39,
     "metadata": {},
     "output_type": "execute_result"
    }
   ],
   "source": [
    "phone.groupby(['가입해지여부(1이면 해지)', '가입갱신여부(1이면 갱신)'])['가입기간'].mean().unstack()\n",
    "#unstack해줘서 데이터 프레임 형식으로 보여준다."
   ]
  },
  {
   "cell_type": "code",
   "execution_count": 40,
   "metadata": {},
   "outputs": [
    {
     "data": {
      "text/plain": [
       "<seaborn.axisgrid.FacetGrid at 0x18f0d580a30>"
      ]
     },
     "execution_count": 40,
     "metadata": {},
     "output_type": "execute_result"
    },
    {
     "data": {
      "image/png": "[encoded data removed]",
      "text/plain": [
       "<Figure size 606.25x360 with 1 Axes>"
      ]
     },
     "metadata": {},
     "output_type": "display_data"
    }
   ],
   "source": [
    "import matplotlib.pyplot as plt\n",
    "\n",
    "plt.rc('font', family=\"Malgun Gothic\",size='20')\n",
    "sns.catplot(x='가입해지여부(1이면 해지)', y='가입기간',\n",
    "            hue='가입갱신여부(1이면 갱신)', kind='bar',\n",
    "            data=phone)"
   ]
  },
  {
   "cell_type": "markdown",
   "metadata": {},
   "source": [
    "가입기간이 가입 해지여부와 갱신여부에 따라 가입기간의 평균 차이가 있을 줄 았았지만 막상 분석해보고 시각화해보니\n",
    "별로 영향력을 주지 않는다는 것을 알게 되었습니다."
   ]
  },
  {
   "cell_type": "markdown",
   "metadata": {},
   "source": [
    "unstack해줘서 데이터 프레임 형식으로 확인했습니다ㅏ"
   ]
  },
  {
   "cell_type": "code",
   "execution_count": 41,
   "metadata": {
    "scrolled": true
   },
   "outputs": [
    {
     "data": {
      "text/html": [
       "<div>\n",
       "<style scoped>\n",
       "    .dataframe tbody tr th:only-of-type {\n",
       "        vertical-align: middle;\n",
       "    }\n",
       "\n",
       "    .dataframe tbody tr th {\n",
       "        vertical-align: top;\n",
       "    }\n",
       "\n",
       "    .dataframe thead th {\n",
       "        text-align: right;\n",
       "    }\n",
       "</style>\n",
       "<table border=\"1\" class=\"dataframe\">\n",
       "  <thead>\n",
       "    <tr style=\"text-align: right;\">\n",
       "      <th>가입해지여부(1이면 해지)</th>\n",
       "      <th>0</th>\n",
       "      <th>1</th>\n",
       "    </tr>\n",
       "    <tr>\n",
       "      <th>데이터요금제사용여부(1이면 사용)</th>\n",
       "      <th></th>\n",
       "      <th></th>\n",
       "    </tr>\n",
       "  </thead>\n",
       "  <tbody>\n",
       "    <tr>\n",
       "      <th>0</th>\n",
       "      <td>47.474976</td>\n",
       "      <td>55.491936</td>\n",
       "    </tr>\n",
       "    <tr>\n",
       "      <th>1</th>\n",
       "      <td>75.708580</td>\n",
       "      <td>77.823044</td>\n",
       "    </tr>\n",
       "  </tbody>\n",
       "</table>\n",
       "</div>"
      ],
      "text/plain": [
       "가입해지여부(1이면 해지)              0          1\n",
       "데이터요금제사용여부(1이면 사용)                      \n",
       "0                   47.474976  55.491936\n",
       "1                   75.708580  77.823044"
      ]
     },
     "execution_count": 41,
     "metadata": {},
     "output_type": "execute_result"
    }
   ],
   "source": [
    "phone.groupby(['데이터요금제사용여부(1이면 사용)', '가입해지여부(1이면 해지)'])['월평균요금'].mean().unstack()"
   ]
  },
  {
   "cell_type": "markdown",
   "metadata": {},
   "source": [
    "가입해지하지 않은 사람들과 해지한사람들이 데이터 요금제 사용시 월평균 요금은 데이터 요금제 사용하지않는 사람들보다 높은것으로 나왔다."
   ]
  },
  {
   "cell_type": "markdown",
   "metadata": {},
   "source": [
    "nunique를 이용 월평균요금에 몇개의 값들이 들어있는지 확인하기."
   ]
  },
  {
   "cell_type": "code",
   "execution_count": 42,
   "metadata": {},
   "outputs": [
    {
     "data": {
      "text/plain": [
       "627"
      ]
     },
     "execution_count": 42,
     "metadata": {},
     "output_type": "execute_result"
    }
   ],
   "source": [
    "phone.월평균요금.nunique()"
   ]
  },
  {
   "cell_type": "markdown",
   "metadata": {},
   "source": [
    "627개의 값들을 가지고 있습니다."
   ]
  },
  {
   "cell_type": "code",
   "execution_count": 43,
   "metadata": {
    "scrolled": true
   },
   "outputs": [
    {
     "data": {
      "text/plain": [
       "50.00000     84\n",
       "46.00000     75\n",
       "45.00000     74\n",
       "49.00000     73\n",
       "54.00000     72\n",
       "             ..\n",
       "47.90625      1\n",
       "96.31250      1\n",
       "57.59375      1\n",
       "46.50000      1\n",
       "105.18750     1\n",
       "Name: 월평균요금, Length: 627, dtype: int64"
      ]
     },
     "execution_count": 43,
     "metadata": {},
     "output_type": "execute_result"
    }
   ],
   "source": [
    "phone.월평균요금.value_counts()"
   ]
  },
  {
   "cell_type": "markdown",
   "metadata": {},
   "source": [
    "월평균요금이 50인경우가 84 명으로 제일 많았고 그다음은 46,45 순으로 보통 40~60 사이 요금을 사용하는것으로 보입니다."
   ]
  },
  {
   "cell_type": "code",
   "execution_count": 44,
   "metadata": {},
   "outputs": [],
   "source": [
    "top_n = phone.월평균요금.value_counts().index[:6]"
   ]
  },
  {
   "cell_type": "markdown",
   "metadata": {},
   "source": [
    "top_n을 월평균요근의 상위 6개로 지정해줬습니다."
   ]
  },
  {
   "cell_type": "code",
   "execution_count": 45,
   "metadata": {},
   "outputs": [
    {
     "data": {
      "text/plain": [
       "Float64Index([50.0, 46.0, 45.0, 49.0, 54.0, 51.0], dtype='float64')"
      ]
     },
     "execution_count": 45,
     "metadata": {},
     "output_type": "execute_result"
    }
   ],
   "source": [
    "top_n"
   ]
  },
  {
   "cell_type": "code",
   "execution_count": 46,
   "metadata": {},
   "outputs": [
    {
     "data": {
      "text/plain": [
       "Other    2884\n",
       "50.0       84\n",
       "46.0       75\n",
       "45.0       74\n",
       "49.0       73\n",
       "54.0       72\n",
       "51.0       71\n",
       "Name: 월평균요금, dtype: int64"
      ]
     },
     "execution_count": 46,
     "metadata": {},
     "output_type": "execute_result"
    }
   ],
   "source": [
    "phone.월평균요금.where(phone.월평균요금.isin(top_n), 'Other').value_counts()"
   ]
  },
  {
   "cell_type": "markdown",
   "metadata": {},
   "source": [
    "위에서 지정해준 top_n을 value_counts해보니 상위 6개의 값들만 볼 수 있습니다."
   ]
  },
  {
   "cell_type": "markdown",
   "metadata": {},
   "source": [
    "그림사이즈는 10,8로 지정했고 앞서 저장한 top_n을 활용하고 그외의 값들은 other로 지정했습니다."
   ]
  },
  {
   "cell_type": "code",
   "execution_count": 47,
   "metadata": {},
   "outputs": [
    {
     "data": {
      "text/plain": [
       "<AxesSubplot:xlabel='count', ylabel='월평균요금'>"
      ]
     },
     "execution_count": 47,
     "metadata": {},
     "output_type": "execute_result"
    },
    {
     "data": {
      "image/png": "[encoded data removed]",
      "text/plain": [
       "<Figure size 720x576 with 1 Axes>"
      ]
     },
     "metadata": {},
     "output_type": "display_data"
    }
   ],
   "source": [
    "import matplotlib.pyplot as plt # 이 부분은 관용적으로 이렇게 씁니다.\n",
    "plt.rc('font', family=\"Malgun Gothic\",size='20')\n",
    "\n",
    "fig, ax = plt.subplots(figsize=(10, 8))\n",
    "top_n = phone.월평균요금.value_counts().index[:6]\n",
    "sns.countplot(y='월평균요금',\n",
    " data=(phone.assign(\n",
    " 월평균요금=phone.월평균요금.where(phone.월평균요금.isin(top_n), 'Other'))\n",
    " )\n",
    " )"
   ]
  },
  {
   "cell_type": "markdown",
   "metadata": {},
   "source": [
    "하지만 평균 요금보다 other이 너무 강조되어 지웠습니다."
   ]
  },
  {
   "cell_type": "code",
   "execution_count": 48,
   "metadata": {},
   "outputs": [
    {
     "data": {
      "text/plain": [
       "<AxesSubplot:xlabel='count', ylabel='월평균요금'>"
      ]
     },
     "execution_count": 48,
     "metadata": {},
     "output_type": "execute_result"
    },
    {
     "data": {
      "image/png": "[encoded data removed]",
      "text/plain": [
       "<Figure size 720x576 with 1 Axes>"
      ]
     },
     "metadata": {},
     "output_type": "display_data"
    }
   ],
   "source": [
    "import matplotlib.pyplot as plt # 이 부분은 관용적으로 이렇게 씁니다.\n",
    "plt.rc('font', family=\"Malgun Gothic\",size='20')\n",
    "\n",
    "fig, ax = plt.subplots(figsize=(10, 8))\n",
    "top_n = phone.월평균요금.value_counts().index[:6]\n",
    "sns.countplot(y='월평균요금',\n",
    " data=(phone.assign(\n",
    " 월평균요금=phone.월평균요금.where(phone.월평균요금.isin(top_n)))\n",
    " )\n",
    " )"
   ]
  },
  {
   "cell_type": "markdown",
   "metadata": {},
   "source": [
    "대체적으로 40~60사이의 요금들이 주를 이루는것을 볼 수 있습니다."
   ]
  },
  {
   "cell_type": "markdown",
   "metadata": {},
   "source": [
    "느낀점"
   ]
  },
  {
   "cell_type": "markdown",
   "metadata": {},
   "source": [
    "이번 프로그래밍을 통해 데이터 파일을 notebook으로 어떻게 분석해보고 또 내가 보고싶은 것들끼리 분류해서 보면서 다양하게 시도해봤고\n",
    "시각화도해보면서 앞으로 어떻게 데이터를 분석해보고 시각화해야할지 또 전처리는 어떻게 해야할지 조금씩 알아갔습니다.\n",
    "편입생으로써 어려운 부분도 많았지만 교수님 덕분에 차근차근 따라해가며 조금씩 두려움을 없앨 수 있었습니다.\n",
    "한학기동안 고생많으셨습니다. 감사합니다."
   ]
  }
 ],
 "metadata": {
  "kernelspec": {
   "display_name": "Python 3",
   "language": "python",
   "name": "python3"
  },
  "language_info": {
   "codemirror_mode": {
    "name": "ipython",
    "version": 3
   },
   "file_extension": ".py",
   "mimetype": "text/x-python",
   "name": "python",
   "nbconvert_exporter": "python",
   "pygments_lexer": "ipython3",
   "version": "3.8.5"
  }
 },
 "nbformat": 4,
 "nbformat_minor": 4
}
